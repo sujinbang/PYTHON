{
 "cells": [
  {
   "cell_type": "code",
   "execution_count": 2,
   "id": "b967453b",
   "metadata": {},
   "outputs": [],
   "source": [
    "import re"
   ]
  },
  {
   "cell_type": "code",
   "execution_count": 3,
   "id": "e20623b7",
   "metadata": {},
   "outputs": [],
   "source": [
    "a = re.match('Hello','Hello,world!') # 문자열이 있으므로 정규표현식 매치 객체가 반환"
   ]
  },
  {
   "cell_type": "code",
   "execution_count": 4,
   "id": "163d90d9",
   "metadata": {},
   "outputs": [],
   "source": [
    "b = re.match('Python','Hello,world!') # 문자열이 없으므로 아무것도 반환되지 않음"
   ]
  },
  {
   "cell_type": "code",
   "execution_count": 5,
   "id": "c9ecd1e2",
   "metadata": {},
   "outputs": [
    {
     "data": {
      "text/plain": [
       "False"
      ]
     },
     "execution_count": 5,
     "metadata": {},
     "output_type": "execute_result"
    }
   ],
   "source": [
    "a == None"
   ]
  },
  {
   "cell_type": "code",
   "execution_count": 6,
   "id": "52370ada",
   "metadata": {},
   "outputs": [
    {
     "data": {
      "text/plain": [
       "True"
      ]
     },
     "execution_count": 6,
     "metadata": {},
     "output_type": "execute_result"
    }
   ],
   "source": [
    "b == None"
   ]
  },
  {
   "cell_type": "code",
   "execution_count": 7,
   "id": "8c3713cd",
   "metadata": {},
   "outputs": [
    {
     "data": {
      "text/plain": [
       "<re.Match object; span=(0, 5), match='Hello'>"
      ]
     },
     "execution_count": 7,
     "metadata": {},
     "output_type": "execute_result"
    }
   ],
   "source": [
    "re.search('^Hello', 'Hello, world!')     # Hello로 시작하므로 패턴에 매칭됨"
   ]
  },
  {
   "cell_type": "code",
   "execution_count": 8,
   "id": "15d6fd48",
   "metadata": {},
   "outputs": [
    {
     "data": {
      "text/plain": [
       "<re.Match object; span=(7, 13), match='world!'>"
      ]
     },
     "execution_count": 8,
     "metadata": {},
     "output_type": "execute_result"
    }
   ],
   "source": [
    "re.search('world!$', 'Hello, world!')    # world!로 끝나므로 패턴에 매칭됨"
   ]
  },
  {
   "cell_type": "code",
   "execution_count": 9,
   "id": "df498220",
   "metadata": {},
   "outputs": [
    {
     "data": {
      "text/plain": [
       "<re.Match object; span=(0, 5), match='hello'>"
      ]
     },
     "execution_count": 9,
     "metadata": {},
     "output_type": "execute_result"
    }
   ],
   "source": [
    "re.match('hello|world', 'hello')    # hello 또는 world가 있으므로 패턴에 매칭됨"
   ]
  },
  {
   "cell_type": "code",
   "execution_count": 10,
   "id": "8e910d02",
   "metadata": {},
   "outputs": [
    {
     "name": "stdout",
     "output_type": "stream",
     "text": [
      "<re.Match object; span=(0, 1), match='h'>\n",
      "<re.Match object; span=(0, 1), match='h'>\n"
     ]
    }
   ],
   "source": [
    "# 숫자 [0-9]\n",
    "# 알파벳 소문자 [a-z]\n",
    "# 알파벳 대문자 [A-Z]\n",
    "print(re.match('[a-z]', 'hello, world!'))\n",
    "print(re.match('[0-9a-z]', 'hello, world!'))"
   ]
  },
  {
   "cell_type": "code",
   "execution_count": 11,
   "id": "c8dc382c",
   "metadata": {},
   "outputs": [
    {
     "data": {
      "text/plain": [
       "<re.Match object; span=(0, 4), match='1234'>"
      ]
     },
     "execution_count": 11,
     "metadata": {},
     "output_type": "execute_result"
    }
   ],
   "source": [
    "re.match('[0-9]*', '1234')    # 1234는 0부터 9까지 숫자가 0개 이상 있으므로 패턴에 매칭됨"
   ]
  },
  {
   "cell_type": "code",
   "execution_count": 12,
   "id": "7f7ad15a",
   "metadata": {},
   "outputs": [
    {
     "data": {
      "text/plain": [
       "<re.Match object; span=(0, 4), match='1234'>"
      ]
     },
     "execution_count": 12,
     "metadata": {},
     "output_type": "execute_result"
    }
   ],
   "source": [
    "re.match('[0-9]+', '1234')   # 1234는 0부터 9까지 숫자가 1개 이상 있으므로 패턴에 매칭됨"
   ]
  },
  {
   "cell_type": "code",
   "execution_count": 13,
   "id": "44c7ab4d",
   "metadata": {},
   "outputs": [],
   "source": [
    "re.match('[0-9]+', 'abcd')   # abcd는 0부터 9까지 숫자가 1개 이상 없으므로 패턴에 매칭되지 않음"
   ]
  },
  {
   "cell_type": "code",
   "execution_count": 14,
   "id": "ab533ac9",
   "metadata": {},
   "outputs": [
    {
     "data": {
      "text/plain": [
       "<re.Match object; span=(0, 3), match='aab'>"
      ]
     },
     "execution_count": 14,
     "metadata": {},
     "output_type": "execute_result"
    }
   ],
   "source": [
    "re.match('a*b', 'b')      # b에는 a가 0개 이상 있으므로 패턴에 매칭됨\n",
    "re.match('a+b', 'b')      # b에는 a가 1개 이상 없으므로 패턴에 매칭되지 않음\n",
    "re.match('a*b', 'aab')    # aab에는 a가 0개 이상 있으므로 패턴에 매칭됨\n",
    "re.match('a+b', 'aab')    # aab에는 a가 1개 이상 있으므로 패턴에 매칭됨"
   ]
  },
  {
   "cell_type": "code",
   "execution_count": 15,
   "id": "0883e9a6",
   "metadata": {},
   "outputs": [
    {
     "data": {
      "text/plain": [
       "<re.Match object; span=(0, 3), match='abd'>"
      ]
     },
     "execution_count": 15,
     "metadata": {},
     "output_type": "execute_result"
    }
   ],
   "source": [
    "re.match('abc?d', 'abd')         # abd에서 c 위치에 c가 0개 있으므로 패턴에 매칭됨"
   ]
  },
  {
   "cell_type": "code",
   "execution_count": 16,
   "id": "63ec8ad7",
   "metadata": {},
   "outputs": [
    {
     "data": {
      "text/plain": [
       "<re.Match object; span=(0, 4), match='ab3c'>"
      ]
     },
     "execution_count": 16,
     "metadata": {},
     "output_type": "execute_result"
    }
   ],
   "source": [
    "re.match('ab[0-9]?c', 'ab3c')   # [0-9] 위치에 숫자가 1개 있으므로 패턴에 매칭됨"
   ]
  },
  {
   "cell_type": "code",
   "execution_count": 17,
   "id": "875c0355",
   "metadata": {},
   "outputs": [
    {
     "data": {
      "text/plain": [
       "<re.Match object; span=(0, 4), match='abxd'>"
      ]
     },
     "execution_count": 17,
     "metadata": {},
     "output_type": "execute_result"
    }
   ],
   "source": [
    "re.match('ab.d', 'abxd')       # .이 있는 위치에 문자가 1개 있으므로 패턴에 매칭됨"
   ]
  },
  {
   "cell_type": "markdown",
   "id": "76a9185f",
   "metadata": {},
   "source": [
    "- 문자{개수}\n",
    "- (문자열){개수}"
   ]
  },
  {
   "cell_type": "code",
   "execution_count": 18,
   "id": "70226fc6",
   "metadata": {},
   "outputs": [
    {
     "data": {
      "text/plain": [
       "<re.Match object; span=(0, 3), match='hhh'>"
      ]
     },
     "execution_count": 18,
     "metadata": {},
     "output_type": "execute_result"
    }
   ],
   "source": [
    "re.match('h{3}', 'hhhello')"
   ]
  },
  {
   "cell_type": "code",
   "execution_count": 20,
   "id": "fa5dfc39",
   "metadata": {},
   "outputs": [
    {
     "name": "stdout",
     "output_type": "stream",
     "text": [
      "<re.Match object; span=(0, 15), match='hellohellohello'>\n",
      "<re.Match object; span=(0, 15), match='hellohellohello'>\n"
     ]
    }
   ],
   "source": [
    "print(re.match('(hello){3}', 'hellohellohelloworld'))\n",
    "print(re.match('hellohellohello', 'hellohellohelloworld'))  #위와 동일"
   ]
  },
  {
   "cell_type": "code",
   "execution_count": 21,
   "id": "31991838",
   "metadata": {},
   "outputs": [
    {
     "data": {
      "text/plain": [
       "<re.Match object; span=(0, 13), match='010-1000-1000'>"
      ]
     },
     "execution_count": 21,
     "metadata": {},
     "output_type": "execute_result"
    }
   ],
   "source": [
    "re.match('[0-9]{3}-[0-9]{4}-[0-9]{4}', '010-1000-1000') # 숫자 3개-4개-4개 패턴에 매칭됨"
   ]
  },
  {
   "cell_type": "code",
   "execution_count": 22,
   "id": "38bb76ad",
   "metadata": {},
   "outputs": [],
   "source": [
    "re.match('[0-9]{3}-[0-9]{4}-[0-9]{4}', '010-1000-100') # 숫자 3개-4개-4개 패턴에 매칭되지 않음"
   ]
  },
  {
   "cell_type": "code",
   "execution_count": 23,
   "id": "42dc9e94",
   "metadata": {},
   "outputs": [
    {
     "data": {
      "text/plain": [
       "<re.Match object; span=(0, 11), match='02-100-1000'>"
      ]
     },
     "execution_count": 23,
     "metadata": {},
     "output_type": "execute_result"
    }
   ],
   "source": [
    "re.match('[0-9]{2,3}-[0-9]{3,4}-[0-9]{4}', '02-100-1000')    # 2~3개-3~4개-4개 패턴에 매칭됨"
   ]
  },
  {
   "cell_type": "code",
   "execution_count": 24,
   "id": "8f25aaad",
   "metadata": {},
   "outputs": [],
   "source": [
    "re.match('[0-9]{2,3}-[0-9]{3,4}-[0-9]{4}', '02-10-1000')  # 2~3개-3~4개-4개 패턴에 매칭되지 않음"
   ]
  },
  {
   "cell_type": "code",
   "execution_count": 25,
   "id": "0737982b",
   "metadata": {},
   "outputs": [
    {
     "data": {
      "text/plain": [
       "<re.Match object; span=(0, 3), match='홍길동'>"
      ]
     },
     "execution_count": 25,
     "metadata": {},
     "output_type": "execute_result"
    }
   ],
   "source": [
    "re.match('[가-힣]+', '홍길동')    # 가부터 힣까지 1개 이상 있으므로 패턴에 매칭됨"
   ]
  },
  {
   "cell_type": "code",
   "execution_count": 27,
   "id": "48291446",
   "metadata": {},
   "outputs": [
    {
     "data": {
      "text/plain": [
       "<re.Match object; span=(0, 4), match='홍길동ㅏ'>"
      ]
     },
     "execution_count": 27,
     "metadata": {},
     "output_type": "execute_result"
    }
   ],
   "source": [
    "re.match('[가-힣ㄱ-ㅎㅏ-ㅣ]+', '홍길동ㅏ')"
   ]
  },
  {
   "cell_type": "markdown",
   "id": "c50441b4",
   "metadata": {},
   "source": [
    "- '[^A-Z]+'는 대문자를 제외한 모든 문자(숫자)가 1개 이상 있는지 판단합니다."
   ]
  },
  {
   "cell_type": "code",
   "execution_count": 28,
   "id": "a1093d63",
   "metadata": {},
   "outputs": [],
   "source": [
    "re.match('[^A-Z]+', 'Hello')    # 대문자를 제외. 대문자가 있으므로 패턴에 매칭되지 않음"
   ]
  },
  {
   "cell_type": "code",
   "execution_count": 29,
   "id": "a0b5128e",
   "metadata": {},
   "outputs": [
    {
     "data": {
      "text/plain": [
       "<re.Match object; span=(0, 5), match='hello'>"
      ]
     },
     "execution_count": 29,
     "metadata": {},
     "output_type": "execute_result"
    }
   ],
   "source": [
    "re.match('[^A-Z]+', 'hello')    # 대문자를 제외. 대문자가 없으므로 패턴에 매칭됨"
   ]
  },
  {
   "cell_type": "code",
   "execution_count": 30,
   "id": "ed9b6a27",
   "metadata": {},
   "outputs": [
    {
     "data": {
      "text/plain": [
       "<re.Match object; span=(5, 9), match='1234'>"
      ]
     },
     "execution_count": 30,
     "metadata": {},
     "output_type": "execute_result"
    }
   ],
   "source": [
    "re.search('[0-9]+$', 'Hello1234') # 숫자로 끝나므로 패턴에 매칭됨"
   ]
  },
  {
   "cell_type": "code",
   "execution_count": 31,
   "id": "25ff290f",
   "metadata": {},
   "outputs": [
    {
     "data": {
      "text/plain": [
       "<re.Match object; span=(2, 4), match='**'>"
      ]
     },
     "execution_count": 31,
     "metadata": {},
     "output_type": "execute_result"
    }
   ],
   "source": [
    "re.search('\\*+', '1 ** 2')                    # *이 들어있는지 판단"
   ]
  },
  {
   "cell_type": "code",
   "execution_count": 34,
   "id": "25b8a5da",
   "metadata": {},
   "outputs": [
    {
     "data": {
      "text/plain": [
       "<re.Match object; span=(0, 11), match='$(document)'>"
      ]
     },
     "execution_count": 34,
     "metadata": {},
     "output_type": "execute_result"
    }
   ],
   "source": [
    "re.match('[$()a-zA-Z0-9]+', '$(document)')    # $, (, )와 문자, 숫자가 들어있는지 판단"
   ]
  },
  {
   "cell_type": "markdown",
   "id": "0fcbe18a",
   "metadata": {},
   "source": [
    "- d: [0-9]와 같음. 모든 숫자\n",
    "- D: [^0-9]와 같음. 숫자를 제외한 모든 문자\n",
    "- w: [a-zA-Z0-9_]와 같음. 영문 대소문자, 숫자, 밑줄 문자\n",
    "- W: [^a-zA-Z0-9_]와 같음. 영문 대소문자, 숫자, 밑줄 문자를 제외한 모든 문자"
   ]
  },
  {
   "cell_type": "code",
   "execution_count": 36,
   "id": "1587f6f3",
   "metadata": {
    "scrolled": true
   },
   "outputs": [
    {
     "name": "stdout",
     "output_type": "stream",
     "text": [
      "<re.Match object; span=(0, 4), match='1234'>\n",
      "<re.Match object; span=(0, 5), match='Hello'>\n",
      "<re.Match object; span=(0, 10), match='Hello_1234'>\n",
      "<re.Match object; span=(0, 3), match='(:)'>\n"
     ]
    }
   ],
   "source": [
    "print(re.match('\\d+', '1234'))          # 모든 숫자이므로 패턴에 매칭됨\n",
    "print(re.match('\\D+', 'Hello'))         # 숫자를 제외한 모든 문자이므로 패턴에 매칭됨\n",
    "print(re.match('\\w+', 'Hello_1234'))    # 영문 대소문자, 숫자, 밑줄 문자이므로 패턴에 매칭됨\n",
    "print(re.match('\\W+', '(:)'))    # 영문 대소문자, 숫자, 밑줄문자를 제외한 모든 문자이므로 패턴에 매칭됨"
   ]
  },
  {
   "cell_type": "markdown",
   "id": "6e08c675",
   "metadata": {},
   "source": [
    "- s: [ \\t\\n\\r\\f\\v]와 같음. 공백(스페이스), \\t(탭) \\n(새 줄, 라인 피드), \\r(캐리지 리턴), \\f(폼피드), \\v(수직 탭)을 포함\n",
    "- S: [^ \\t\\n\\r\\f\\v]와 같음. 공백을 제외하고 \\t, \\n, \\r, \\f, \\v만 포함"
   ]
  },
  {
   "cell_type": "code",
   "execution_count": 38,
   "id": "38cb956a",
   "metadata": {},
   "outputs": [
    {
     "name": "stdout",
     "output_type": "stream",
     "text": [
      "<re.Match object; span=(0, 10), match='Hello 1234'>\n",
      "<re.Match object; span=(0, 10), match='Hello 1234'>\n"
     ]
    }
   ],
   "source": [
    "print(re.match('[a-zA-Z0-9 ]+', 'Hello 1234'))    # ' '로 공백 표현\n",
    "print(re.match('[a-zA-Z0-9\\s]+', 'Hello 1234'))   # \\s로 공백 표현"
   ]
  },
  {
   "cell_type": "markdown",
   "id": "27b08017",
   "metadata": {},
   "source": [
    "- 객체 = re.compile('패턴')\n",
    "\n",
    "- 객체.match('문자열')\n",
    "\n",
    "- 객체.search('문자열')"
   ]
  },
  {
   "cell_type": "code",
   "execution_count": 39,
   "id": "572e7082",
   "metadata": {},
   "outputs": [],
   "source": [
    "p = re.compile('[0-9]+')    # 정규표현식 패턴을 객체로 만듦\n",
    "p.match('1234')             # 정규표현식 패턴 객체에서 match 메서드 사용\n",
    "p.search('hello')           # 정규표현식 패턴 객체에서 search 메서드 사용"
   ]
  },
  {
   "cell_type": "code",
   "execution_count": 41,
   "id": "7c38e7f7",
   "metadata": {},
   "outputs": [
    {
     "data": {
      "text/plain": [
       "['1', '2', '4', '7', '8', '9']"
      ]
     },
     "execution_count": 41,
     "metadata": {},
     "output_type": "execute_result"
    }
   ],
   "source": [
    "re.findall('[0-9+]', '1 2 Fizz 4 Buzz Fizz 7 89')"
   ]
  },
  {
   "cell_type": "markdown",
   "id": "de6c54fd",
   "metadata": {},
   "source": [
    "- re.sub('패턴', '바꿀문자열', '문자열', 바꿀횟수)"
   ]
  },
  {
   "cell_type": "code",
   "execution_count": 42,
   "id": "643aba49",
   "metadata": {},
   "outputs": [
    {
     "data": {
      "text/plain": [
       "'fruit box fruit tree'"
      ]
     },
     "execution_count": 42,
     "metadata": {},
     "output_type": "execute_result"
    }
   ],
   "source": [
    "re.sub('apple|orange', 'fruit', 'apple box orange tree')    # apple 또는 orange를 fruit로 바꿈"
   ]
  },
  {
   "cell_type": "code",
   "execution_count": 43,
   "id": "f1b05e07",
   "metadata": {
    "scrolled": true
   },
   "outputs": [
    {
     "data": {
      "text/plain": [
       "'n n Fizz n Buzz Fizz n n'"
      ]
     },
     "execution_count": 43,
     "metadata": {},
     "output_type": "execute_result"
    }
   ],
   "source": [
    "re.sub('[0-9]+', 'n', '1 2 Fizz 4 Buzz Fizz 7 8')    # 숫자만 찾아서 n으로 바꿈"
   ]
  },
  {
   "cell_type": "code",
   "execution_count": 51,
   "id": "2f87500e",
   "metadata": {},
   "outputs": [],
   "source": [
    "import re"
   ]
  },
  {
   "cell_type": "code",
   "execution_count": 50,
   "id": "41e0af27",
   "metadata": {},
   "outputs": [
    {
     "name": "stdout",
     "output_type": "stream",
     "text": [
      "True True True True True False False False "
     ]
    }
   ],
   "source": [
    "p = re.compile( '^[a-zA-Z0-9+-_.]+@[a-zA-Z0-9-]+\\.[a-zA-Z0-9-.]+$'   )\n",
    "emails = ['python@mail.example.com', 'python+kr@example.com',              # 올바른 형식\n",
    "          'python-dojang@example.co.kr', 'python_10@example.info',         # 올바른 형식\n",
    "          'python.dojang@e-xample.com',                                    # 올바른 형식\n",
    "          '@example.com', 'python@example', 'python@example-com']          # 잘못된 형식\n",
    " \n",
    "for email in emails:\n",
    "    print(p.match(email) != None, end=' ')"
   ]
  }
 ],
 "metadata": {
  "kernelspec": {
   "display_name": "Python 3 (ipykernel)",
   "language": "python",
   "name": "python3"
  },
  "language_info": {
   "codemirror_mode": {
    "name": "ipython",
    "version": 3
   },
   "file_extension": ".py",
   "mimetype": "text/x-python",
   "name": "python",
   "nbconvert_exporter": "python",
   "pygments_lexer": "ipython3",
   "version": "3.9.12"
  }
 },
 "nbformat": 4,
 "nbformat_minor": 5
}
