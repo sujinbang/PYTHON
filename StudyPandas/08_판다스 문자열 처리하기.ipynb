{
 "cells": [
  {
   "cell_type": "code",
   "execution_count": 13,
   "id": "5f239a2e",
   "metadata": {},
   "outputs": [
    {
     "name": "stdout",
     "output_type": "stream",
     "text": [
      "apple ㅁㄹㅇㅁㄷ ㅁㅎㄷㅁㄷ ㄷㅁㄺㄷ\n"
     ]
    }
   ],
   "source": [
    "a = 'apple'\n",
    "b = \"ㅁㄹㅇㅁㄷ\"\n",
    "c = '''ㅁㅎㄷㅁㄷ'''\n",
    "d = \"\"\"ㄷㅁㄺㄷ\"\"\"\n",
    "print(a,b,c,d)"
   ]
  },
  {
   "cell_type": "code",
   "execution_count": 14,
   "id": "3c331ee3",
   "metadata": {},
   "outputs": [
    {
     "data": {
      "text/plain": [
       "'appl'"
      ]
     },
     "execution_count": 14,
     "metadata": {},
     "output_type": "execute_result"
    }
   ],
   "source": [
    "a[0:-1]"
   ]
  },
  {
   "cell_type": "code",
   "execution_count": 15,
   "id": "115ceac1",
   "metadata": {},
   "outputs": [
    {
     "data": {
      "text/plain": [
       "'e'"
      ]
     },
     "execution_count": 15,
     "metadata": {},
     "output_type": "execute_result"
    }
   ],
   "source": [
    "a[-1]"
   ]
  },
  {
   "cell_type": "code",
   "execution_count": 16,
   "id": "ccc8adae",
   "metadata": {},
   "outputs": [
    {
     "data": {
      "text/plain": [
       "'apple'"
      ]
     },
     "execution_count": 16,
     "metadata": {},
     "output_type": "execute_result"
    }
   ],
   "source": [
    "a"
   ]
  },
  {
   "cell_type": "code",
   "execution_count": 17,
   "id": "4f40b050",
   "metadata": {},
   "outputs": [
    {
     "data": {
      "text/plain": [
       "'Apple'"
      ]
     },
     "execution_count": 17,
     "metadata": {},
     "output_type": "execute_result"
    }
   ],
   "source": [
    "# 첫 문자를 대문자로 변환\n",
    "a.capitalize()"
   ]
  },
  {
   "cell_type": "code",
   "execution_count": 23,
   "id": "8b1afad6",
   "metadata": {},
   "outputs": [
    {
     "data": {
      "text/plain": [
       "1"
      ]
     },
     "execution_count": 23,
     "metadata": {},
     "output_type": "execute_result"
    }
   ],
   "source": [
    "#특정 문자의 개수를 카운트\n",
    "a.count('a')"
   ]
  },
  {
   "cell_type": "code",
   "execution_count": 30,
   "id": "0e55f0e8",
   "metadata": {},
   "outputs": [
    {
     "data": {
      "text/plain": [
       "1"
      ]
     },
     "execution_count": 30,
     "metadata": {},
     "output_type": "execute_result"
    }
   ],
   "source": [
    "#문자열에서 문자를 찾아서 인덱스를 반환\n",
    "a.find('p')\n",
    "\n",
    "# -1 : 변수에 해당 문자가 없을때 반환(실패시 반환)"
   ]
  },
  {
   "cell_type": "code",
   "execution_count": 33,
   "id": "5eed2578",
   "metadata": {},
   "outputs": [
    {
     "data": {
      "text/plain": [
       "1"
      ]
     },
     "execution_count": 33,
     "metadata": {},
     "output_type": "execute_result"
    }
   ],
   "source": [
    "#find하고 동일한데 실패시 ValueError 반환\n",
    "a.index('p')"
   ]
  },
  {
   "cell_type": "code",
   "execution_count": 37,
   "id": "2aa177c6",
   "metadata": {},
   "outputs": [
    {
     "data": {
      "text/plain": [
       "'APPLE'"
      ]
     },
     "execution_count": 37,
     "metadata": {},
     "output_type": "execute_result"
    }
   ],
   "source": [
    "#문자를 대문자로 변환\n",
    "A = a.upper()\n",
    "A"
   ]
  },
  {
   "cell_type": "code",
   "execution_count": 40,
   "id": "17df9bd8",
   "metadata": {},
   "outputs": [
    {
     "data": {
      "text/plain": [
       "'apple'"
      ]
     },
     "execution_count": 40,
     "metadata": {},
     "output_type": "execute_result"
    }
   ],
   "source": [
    "A = a.lower()\n",
    "a"
   ]
  },
  {
   "cell_type": "code",
   "execution_count": 42,
   "id": "6903197d",
   "metadata": {},
   "outputs": [
    {
     "data": {
      "text/plain": [
       "'1pple'"
      ]
     },
     "execution_count": 42,
     "metadata": {},
     "output_type": "execute_result"
    }
   ],
   "source": [
    "#replace 특정 문자를 다른 문자로 변환\n",
    "a.replace('a', '1')"
   ]
  },
  {
   "cell_type": "code",
   "execution_count": 45,
   "id": "9297472a",
   "metadata": {},
   "outputs": [
    {
     "data": {
      "text/plain": [
       "'     abc     def     '"
      ]
     },
     "execution_count": 45,
     "metadata": {},
     "output_type": "execute_result"
    }
   ],
   "source": [
    "# 문자의 앞, 뒤 공간의 빈 공간을 없애는 함수\n",
    "b = '     abc     def     '\n",
    "b"
   ]
  },
  {
   "cell_type": "code",
   "execution_count": 47,
   "id": "d9629f3b",
   "metadata": {},
   "outputs": [
    {
     "data": {
      "text/plain": [
       "'abc     def'"
      ]
     },
     "execution_count": 47,
     "metadata": {},
     "output_type": "execute_result"
    }
   ],
   "source": [
    "b.strip()"
   ]
  },
  {
   "cell_type": "code",
   "execution_count": 53,
   "id": "307f2223",
   "metadata": {},
   "outputs": [],
   "source": [
    "# 문자를 특정 구간으로 잘라주는 함수 > 리스트로 저장\n",
    "url = 'https://github.com/sujinbang'\n",
    "urls = url.split('/')"
   ]
  },
  {
   "cell_type": "code",
   "execution_count": 54,
   "id": "2eec2553",
   "metadata": {},
   "outputs": [
    {
     "data": {
      "text/plain": [
       "'https://github.com/sujinbang'"
      ]
     },
     "execution_count": 54,
     "metadata": {},
     "output_type": "execute_result"
    }
   ],
   "source": [
    "# 리스트에 있는 문자열을 하나로 합쳐주는 함수\n",
    "urls\n",
    "'/'.join(urls)"
   ]
  },
  {
   "cell_type": "markdown",
   "id": "ca961ca3",
   "metadata": {},
   "source": [
    "# 문자열 포맷팅"
   ]
  },
  {
   "cell_type": "code",
   "execution_count": 56,
   "id": "07271c7b",
   "metadata": {},
   "outputs": [
    {
     "name": "stdout",
     "output_type": "stream",
     "text": [
      "It's just a flesh wound!\n"
     ]
    }
   ],
   "source": [
    "var = 'flesh wound'\n",
    "s = \"It's just a {}!\"\n",
    "\n",
    "print(s.format(var))"
   ]
  },
  {
   "cell_type": "code",
   "execution_count": 59,
   "id": "4697e141",
   "metadata": {},
   "outputs": [
    {
     "data": {
      "text/plain": [
       "\"It's just a flesh wound!\""
      ]
     },
     "execution_count": 59,
     "metadata": {},
     "output_type": "execute_result"
    }
   ],
   "source": [
    "\"It's just a {}!\".format('flesh wound')"
   ]
  },
  {
   "cell_type": "code",
   "execution_count": 61,
   "id": "c43a4305",
   "metadata": {},
   "outputs": [
    {
     "name": "stdout",
     "output_type": "stream",
     "text": [
      "10 + 5 = 15\n"
     ]
    }
   ],
   "source": [
    "a=10;b=5\n",
    "print('{} + {} = {}'.format(a,b,a+b))"
   ]
  },
  {
   "cell_type": "code",
   "execution_count": 66,
   "id": "0768887b",
   "metadata": {},
   "outputs": [
    {
     "name": "stdout",
     "output_type": "stream",
     "text": [
      "10+5 =15\n"
     ]
    }
   ],
   "source": [
    "print(f'{a}+{b} ={a+b}')"
   ]
  },
  {
   "cell_type": "code",
   "execution_count": 68,
   "id": "9a56014e",
   "metadata": {},
   "outputs": [
    {
     "data": {
      "text/plain": [
       "'10 + 10 = 10'"
      ]
     },
     "execution_count": 68,
     "metadata": {},
     "output_type": "execute_result"
    }
   ],
   "source": [
    "'{} + {} = {}'.format(a,a,a)"
   ]
  },
  {
   "cell_type": "code",
   "execution_count": 71,
   "id": "626472d4",
   "metadata": {},
   "outputs": [
    {
     "data": {
      "text/plain": [
       "'10 + 5 = 15'"
      ]
     },
     "execution_count": 71,
     "metadata": {},
     "output_type": "execute_result"
    }
   ],
   "source": [
    "'%d + %d = %d' % (a,b,a+b)"
   ]
  },
  {
   "cell_type": "code",
   "execution_count": 74,
   "id": "29f251ba",
   "metadata": {},
   "outputs": [
    {
     "data": {
      "text/plain": [
       "'0.000'"
      ]
     },
     "execution_count": 74,
     "metadata": {},
     "output_type": "execute_result"
    }
   ],
   "source": [
    "'%.3f' % 0.0001"
   ]
  },
  {
   "cell_type": "code",
   "execution_count": 77,
   "id": "74ffefb3",
   "metadata": {},
   "outputs": [
    {
     "data": {
      "text/plain": [
       "'사과의 가격은 1000원입니다'"
      ]
     },
     "execution_count": 77,
     "metadata": {},
     "output_type": "execute_result"
    }
   ],
   "source": [
    "apple = 1000\n",
    "'사과의 가격은 %d원입니다'%(apple)"
   ]
  },
  {
   "cell_type": "code",
   "execution_count": null,
   "id": "17bb3fc8",
   "metadata": {},
   "outputs": [],
   "source": []
  }
 ],
 "metadata": {
  "kernelspec": {
   "display_name": "Python 3 (ipykernel)",
   "language": "python",
   "name": "python3"
  },
  "language_info": {
   "codemirror_mode": {
    "name": "ipython",
    "version": 3
   },
   "file_extension": ".py",
   "mimetype": "text/x-python",
   "name": "python",
   "nbconvert_exporter": "python",
   "pygments_lexer": "ipython3",
   "version": "3.9.12"
  }
 },
 "nbformat": 4,
 "nbformat_minor": 5
}
