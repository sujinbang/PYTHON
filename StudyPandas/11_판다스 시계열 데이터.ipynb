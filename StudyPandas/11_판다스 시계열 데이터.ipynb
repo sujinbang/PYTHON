{
 "cells": [
  {
   "cell_type": "markdown",
   "id": "ae82636a",
   "metadata": {},
   "source": [
    "# 시계열 데이터\n",
    "- datetime 오브젝트\n",
    "- 사례별 시계열 데이터 계산하기"
   ]
  },
  {
   "cell_type": "markdown",
   "id": "7e2cb79d",
   "metadata": {},
   "source": [
    "## datetime 오브젝트\n",
    "### datetime 으로 현재 시각 출력하기\n",
    "- datetime 라이브러리 가져오기"
   ]
  },
  {
   "cell_type": "code",
   "execution_count": 1,
   "id": "e91edfa1",
   "metadata": {},
   "outputs": [],
   "source": [
    "from datetime import datetime"
   ]
  },
  {
   "cell_type": "markdown",
   "id": "5a7259a7",
   "metadata": {},
   "source": [
    "- 현재 시각 출력"
   ]
  },
  {
   "cell_type": "code",
   "execution_count": 2,
   "id": "3480ceec",
   "metadata": {},
   "outputs": [],
   "source": [
    "now1 = datetime.now()\n",
    "now2 = datetime.today()"
   ]
  },
  {
   "cell_type": "code",
   "execution_count": 3,
   "id": "2521ded6",
   "metadata": {},
   "outputs": [
    {
     "name": "stdout",
     "output_type": "stream",
     "text": [
      "2022-06-03 09:46:56.901095\n",
      "2022-06-03 09:46:56.901095\n"
     ]
    }
   ],
   "source": [
    "print(now1)\n",
    "print(now2)"
   ]
  },
  {
   "cell_type": "markdown",
   "id": "612469da",
   "metadata": {},
   "source": [
    "- 시간을 직접 입력하여 datetime 오브젝트 생성"
   ]
  },
  {
   "cell_type": "code",
   "execution_count": 4,
   "id": "1fc24dde",
   "metadata": {},
   "outputs": [
    {
     "name": "stdout",
     "output_type": "stream",
     "text": [
      "2022-06-03 09:50:58.134332\n",
      "1970-01-01 00:00:00\n",
      "1970-12-12 13:24:34\n"
     ]
    }
   ],
   "source": [
    "t1 = datetime.now()\n",
    "t2 = datetime(1970, 1, 1)\n",
    "t3 = datetime(1970,12,12,13,24,34)\n",
    "\n",
    "print(t1)\n",
    "print(t2)\n",
    "print(t3)"
   ]
  },
  {
   "cell_type": "markdown",
   "id": "35694ff1",
   "metadata": {},
   "source": [
    "- datetime 오브젝트 연산"
   ]
  },
  {
   "cell_type": "code",
   "execution_count": 5,
   "id": "5a9aa732",
   "metadata": {},
   "outputs": [
    {
     "name": "stdout",
     "output_type": "stream",
     "text": [
      "19146 days, 9:50:58.134332\n"
     ]
    }
   ],
   "source": [
    "diff1 = t1-t2\n",
    "\n",
    "print(diff1)"
   ]
  },
  {
   "cell_type": "markdown",
   "id": "a8f23c75",
   "metadata": {},
   "source": [
    "### datetime 오브젝트로 변환하기 : to_datetime()\n",
    "- ebola 데이터 집합 가져오기"
   ]
  },
  {
   "cell_type": "code",
   "execution_count": 6,
   "id": "160e25c9",
   "metadata": {},
   "outputs": [
    {
     "name": "stdout",
     "output_type": "stream",
     "text": [
      "<class 'pandas.core.frame.DataFrame'>\n",
      "RangeIndex: 122 entries, 0 to 121\n",
      "Data columns (total 18 columns):\n",
      " #   Column               Non-Null Count  Dtype  \n",
      "---  ------               --------------  -----  \n",
      " 0   Date                 122 non-null    object \n",
      " 1   Day                  122 non-null    int64  \n",
      " 2   Cases_Guinea         93 non-null     float64\n",
      " 3   Cases_Liberia        83 non-null     float64\n",
      " 4   Cases_SierraLeone    87 non-null     float64\n",
      " 5   Cases_Nigeria        38 non-null     float64\n",
      " 6   Cases_Senegal        25 non-null     float64\n",
      " 7   Cases_UnitedStates   18 non-null     float64\n",
      " 8   Cases_Spain          16 non-null     float64\n",
      " 9   Cases_Mali           12 non-null     float64\n",
      " 10  Deaths_Guinea        92 non-null     float64\n",
      " 11  Deaths_Liberia       81 non-null     float64\n",
      " 12  Deaths_SierraLeone   87 non-null     float64\n",
      " 13  Deaths_Nigeria       38 non-null     float64\n",
      " 14  Deaths_Senegal       22 non-null     float64\n",
      " 15  Deaths_UnitedStates  18 non-null     float64\n",
      " 16  Deaths_Spain         16 non-null     float64\n",
      " 17  Deaths_Mali          12 non-null     float64\n",
      "dtypes: float64(16), int64(1), object(1)\n",
      "memory usage: 17.3+ KB\n",
      "None\n",
      "       Date  Day  Cases_Guinea  Cases_Liberia  Cases_SierraLeone  \\\n",
      "0  1/5/2015  289        2776.0            NaN            10030.0   \n",
      "1  1/4/2015  288        2775.0            NaN             9780.0   \n",
      "\n",
      "   Cases_Nigeria  Cases_Senegal  Cases_UnitedStates  Cases_Spain  Cases_Mali  \\\n",
      "0            NaN            NaN                 NaN          NaN         NaN   \n",
      "1            NaN            NaN                 NaN          NaN         NaN   \n",
      "\n",
      "   Deaths_Guinea  Deaths_Liberia  Deaths_SierraLeone  Deaths_Nigeria  \\\n",
      "0         1786.0             NaN              2977.0             NaN   \n",
      "1         1781.0             NaN              2943.0             NaN   \n",
      "\n",
      "   Deaths_Senegal  Deaths_UnitedStates  Deaths_Spain  Deaths_Mali  \n",
      "0             NaN                  NaN           NaN          NaN  \n",
      "1             NaN                  NaN           NaN          NaN  \n"
     ]
    }
   ],
   "source": [
    "import pandas as pd\n",
    "ebola = pd.read_csv('data/country_timeseries.csv')\n",
    "print(ebola.info())\n",
    "print(ebola.head(2))"
   ]
  },
  {
   "cell_type": "code",
   "execution_count": 7,
   "id": "2ec36cea",
   "metadata": {},
   "outputs": [
    {
     "name": "stdout",
     "output_type": "stream",
     "text": [
      "<class 'pandas.core.frame.DataFrame'>\n",
      "RangeIndex: 122 entries, 0 to 121\n",
      "Data columns (total 19 columns):\n",
      " #   Column               Non-Null Count  Dtype         \n",
      "---  ------               --------------  -----         \n",
      " 0   Date                 122 non-null    object        \n",
      " 1   Day                  122 non-null    int64         \n",
      " 2   Cases_Guinea         93 non-null     float64       \n",
      " 3   Cases_Liberia        83 non-null     float64       \n",
      " 4   Cases_SierraLeone    87 non-null     float64       \n",
      " 5   Cases_Nigeria        38 non-null     float64       \n",
      " 6   Cases_Senegal        25 non-null     float64       \n",
      " 7   Cases_UnitedStates   18 non-null     float64       \n",
      " 8   Cases_Spain          16 non-null     float64       \n",
      " 9   Cases_Mali           12 non-null     float64       \n",
      " 10  Deaths_Guinea        92 non-null     float64       \n",
      " 11  Deaths_Liberia       81 non-null     float64       \n",
      " 12  Deaths_SierraLeone   87 non-null     float64       \n",
      " 13  Deaths_Nigeria       38 non-null     float64       \n",
      " 14  Deaths_Senegal       22 non-null     float64       \n",
      " 15  Deaths_UnitedStates  18 non-null     float64       \n",
      " 16  Deaths_Spain         16 non-null     float64       \n",
      " 17  Deaths_Mali          12 non-null     float64       \n",
      " 18  date_dt              122 non-null    datetime64[ns]\n",
      "dtypes: datetime64[ns](1), float64(16), int64(1), object(1)\n",
      "memory usage: 18.2+ KB\n",
      "None\n",
      "       Date  Day  Cases_Guinea  Cases_Liberia  Cases_SierraLeone  \\\n",
      "0  1/5/2015  289        2776.0            NaN            10030.0   \n",
      "1  1/4/2015  288        2775.0            NaN             9780.0   \n",
      "\n",
      "   Cases_Nigeria  Cases_Senegal  Cases_UnitedStates  Cases_Spain  Cases_Mali  \\\n",
      "0            NaN            NaN                 NaN          NaN         NaN   \n",
      "1            NaN            NaN                 NaN          NaN         NaN   \n",
      "\n",
      "   Deaths_Guinea  Deaths_Liberia  Deaths_SierraLeone  Deaths_Nigeria  \\\n",
      "0         1786.0             NaN              2977.0             NaN   \n",
      "1         1781.0             NaN              2943.0             NaN   \n",
      "\n",
      "   Deaths_Senegal  Deaths_UnitedStates  Deaths_Spain  Deaths_Mali    date_dt  \n",
      "0             NaN                  NaN           NaN          NaN 2015-01-05  \n",
      "1             NaN                  NaN           NaN          NaN 2015-01-04  \n"
     ]
    }
   ],
   "source": [
    "ebola['date_dt'] = pd.to_datetime(ebola['Date'])\n",
    "print(ebola.info())\n",
    "print(ebola.head(2))"
   ]
  },
  {
   "cell_type": "markdown",
   "id": "6319fdd0",
   "metadata": {},
   "source": [
    "- 시간 형식을 지정하여 datetime 오브젝트 생성"
   ]
  },
  {
   "cell_type": "code",
   "execution_count": 13,
   "id": "24fc71d2",
   "metadata": {},
   "outputs": [
    {
     "data": {
      "text/html": [
       "<div>\n",
       "<style scoped>\n",
       "    .dataframe tbody tr th:only-of-type {\n",
       "        vertical-align: middle;\n",
       "    }\n",
       "\n",
       "    .dataframe tbody tr th {\n",
       "        vertical-align: top;\n",
       "    }\n",
       "\n",
       "    .dataframe thead th {\n",
       "        text-align: right;\n",
       "    }\n",
       "</style>\n",
       "<table border=\"1\" class=\"dataframe\">\n",
       "  <thead>\n",
       "    <tr style=\"text-align: right;\">\n",
       "      <th></th>\n",
       "      <th>order_day</th>\n",
       "    </tr>\n",
       "  </thead>\n",
       "  <tbody>\n",
       "    <tr>\n",
       "      <th>0</th>\n",
       "      <td>01/01/15</td>\n",
       "    </tr>\n",
       "    <tr>\n",
       "      <th>1</th>\n",
       "      <td>02/01/15</td>\n",
       "    </tr>\n",
       "    <tr>\n",
       "      <th>2</th>\n",
       "      <td>03/01/15</td>\n",
       "    </tr>\n",
       "  </tbody>\n",
       "</table>\n",
       "</div>"
      ],
      "text/plain": [
       "  order_day\n",
       "0  01/01/15\n",
       "1  02/01/15\n",
       "2  03/01/15"
      ]
     },
     "execution_count": 13,
     "metadata": {},
     "output_type": "execute_result"
    }
   ],
   "source": [
    "test_df1 = pd.DataFrame({'order_day':['01/01/15','02/01/15','03/01/15']})\n",
    "test_df1"
   ]
  },
  {
   "cell_type": "code",
   "execution_count": 14,
   "id": "18a5f825",
   "metadata": {},
   "outputs": [],
   "source": [
    "test_df1['date_df1'] = pd.to_datetime(test_df1['order_day'], format='%d/%m/%y')\n",
    "test_df1['date_df2'] = pd.to_datetime(test_df1['order_day'], format='%m/%d/%y')\n",
    "test_df1['date_df3'] = pd.to_datetime(test_df1['order_day'], format='%y/%m/%d')"
   ]
  },
  {
   "cell_type": "code",
   "execution_count": 16,
   "id": "c2afb551",
   "metadata": {},
   "outputs": [
    {
     "data": {
      "text/html": [
       "<div>\n",
       "<style scoped>\n",
       "    .dataframe tbody tr th:only-of-type {\n",
       "        vertical-align: middle;\n",
       "    }\n",
       "\n",
       "    .dataframe tbody tr th {\n",
       "        vertical-align: top;\n",
       "    }\n",
       "\n",
       "    .dataframe thead th {\n",
       "        text-align: right;\n",
       "    }\n",
       "</style>\n",
       "<table border=\"1\" class=\"dataframe\">\n",
       "  <thead>\n",
       "    <tr style=\"text-align: right;\">\n",
       "      <th></th>\n",
       "      <th>order_day</th>\n",
       "      <th>date_df1</th>\n",
       "      <th>date_df2</th>\n",
       "      <th>date_df3</th>\n",
       "    </tr>\n",
       "  </thead>\n",
       "  <tbody>\n",
       "    <tr>\n",
       "      <th>0</th>\n",
       "      <td>01/01/15</td>\n",
       "      <td>2015-01-01</td>\n",
       "      <td>2015-01-01</td>\n",
       "      <td>2001-01-15</td>\n",
       "    </tr>\n",
       "    <tr>\n",
       "      <th>1</th>\n",
       "      <td>02/01/15</td>\n",
       "      <td>2015-01-02</td>\n",
       "      <td>2015-02-01</td>\n",
       "      <td>2002-01-15</td>\n",
       "    </tr>\n",
       "    <tr>\n",
       "      <th>2</th>\n",
       "      <td>03/01/15</td>\n",
       "      <td>2015-01-03</td>\n",
       "      <td>2015-03-01</td>\n",
       "      <td>2003-01-15</td>\n",
       "    </tr>\n",
       "  </tbody>\n",
       "</table>\n",
       "</div>"
      ],
      "text/plain": [
       "  order_day   date_df1   date_df2   date_df3\n",
       "0  01/01/15 2015-01-01 2015-01-01 2001-01-15\n",
       "1  02/01/15 2015-01-02 2015-02-01 2002-01-15\n",
       "2  03/01/15 2015-01-03 2015-03-01 2003-01-15"
      ]
     },
     "execution_count": 16,
     "metadata": {},
     "output_type": "execute_result"
    }
   ],
   "source": [
    "test_df1"
   ]
  },
  {
   "cell_type": "markdown",
   "id": "74586f1b",
   "metadata": {},
   "source": [
    "- 시계열 데이터 분리 : strftime()"
   ]
  },
  {
   "cell_type": "code",
   "execution_count": 18,
   "id": "e11a3e44",
   "metadata": {},
   "outputs": [],
   "source": [
    "now = datetime.now()\n",
    "nowDate = now.strftime('%Y-%m-%d')\n",
    "nowTime = now.strftime('%H:%M:%S')\n",
    "nowWeek = now.strftime('%w요일')"
   ]
  },
  {
   "cell_type": "code",
   "execution_count": 19,
   "id": "c67460dd",
   "metadata": {},
   "outputs": [
    {
     "data": {
      "text/plain": [
       "'2022-06-03'"
      ]
     },
     "execution_count": 19,
     "metadata": {},
     "output_type": "execute_result"
    }
   ],
   "source": [
    "nowDate"
   ]
  },
  {
   "cell_type": "code",
   "execution_count": 20,
   "id": "78a35f33",
   "metadata": {},
   "outputs": [
    {
     "data": {
      "text/plain": [
       "'10:28:01'"
      ]
     },
     "execution_count": 20,
     "metadata": {},
     "output_type": "execute_result"
    }
   ],
   "source": [
    "nowTime"
   ]
  },
  {
   "cell_type": "code",
   "execution_count": 21,
   "id": "d4bb903b",
   "metadata": {
    "scrolled": true
   },
   "outputs": [
    {
     "data": {
      "text/plain": [
       "'5요일'"
      ]
     },
     "execution_count": 21,
     "metadata": {},
     "output_type": "execute_result"
    }
   ],
   "source": [
    "nowWeek"
   ]
  },
  {
   "cell_type": "markdown",
   "id": "c8332de3",
   "metadata": {},
   "source": [
    "- datetime 오브젝트로 변환하기\n",
    "read_csv(parse_dates=['열이름'])\n",
    "- 에볼라 데이터 집합 가져오기"
   ]
  },
  {
   "cell_type": "code",
   "execution_count": 22,
   "id": "5d7324b2",
   "metadata": {},
   "outputs": [
    {
     "name": "stdout",
     "output_type": "stream",
     "text": [
      "<class 'pandas.core.frame.DataFrame'>\n",
      "RangeIndex: 122 entries, 0 to 121\n",
      "Data columns (total 18 columns):\n",
      " #   Column               Non-Null Count  Dtype         \n",
      "---  ------               --------------  -----         \n",
      " 0   Date                 122 non-null    datetime64[ns]\n",
      " 1   Day                  122 non-null    int64         \n",
      " 2   Cases_Guinea         93 non-null     float64       \n",
      " 3   Cases_Liberia        83 non-null     float64       \n",
      " 4   Cases_SierraLeone    87 non-null     float64       \n",
      " 5   Cases_Nigeria        38 non-null     float64       \n",
      " 6   Cases_Senegal        25 non-null     float64       \n",
      " 7   Cases_UnitedStates   18 non-null     float64       \n",
      " 8   Cases_Spain          16 non-null     float64       \n",
      " 9   Cases_Mali           12 non-null     float64       \n",
      " 10  Deaths_Guinea        92 non-null     float64       \n",
      " 11  Deaths_Liberia       81 non-null     float64       \n",
      " 12  Deaths_SierraLeone   87 non-null     float64       \n",
      " 13  Deaths_Nigeria       38 non-null     float64       \n",
      " 14  Deaths_Senegal       22 non-null     float64       \n",
      " 15  Deaths_UnitedStates  18 non-null     float64       \n",
      " 16  Deaths_Spain         16 non-null     float64       \n",
      " 17  Deaths_Mali          12 non-null     float64       \n",
      "dtypes: datetime64[ns](1), float64(16), int64(1)\n",
      "memory usage: 17.3 KB\n"
     ]
    }
   ],
   "source": [
    "ebola1 = pd.read_csv('data/country_timeseries.csv', parse_dates=['Date'])\n",
    "ebola1.info()"
   ]
  },
  {
   "cell_type": "markdown",
   "id": "81622e12",
   "metadata": {},
   "source": [
    "- year/month/day 속성 사용"
   ]
  },
  {
   "cell_type": "code",
   "execution_count": 23,
   "id": "4b3a0ca1",
   "metadata": {},
   "outputs": [
    {
     "name": "stdout",
     "output_type": "stream",
     "text": [
      "2015\n",
      "1\n",
      "5\n"
     ]
    }
   ],
   "source": [
    "print(ebola1['Date'][0].year)\n",
    "print(ebola1['Date'][0].month)\n",
    "print(ebola1['Date'][0].day)"
   ]
  },
  {
   "cell_type": "markdown",
   "id": "db711fa4",
   "metadata": {},
   "source": [
    "- 인덱스를 사용하지 않고 dt접근자로 년/월/일 추정하기"
   ]
  },
  {
   "cell_type": "code",
   "execution_count": 25,
   "id": "6844f254",
   "metadata": {},
   "outputs": [
    {
     "data": {
      "text/html": [
       "<div>\n",
       "<style scoped>\n",
       "    .dataframe tbody tr th:only-of-type {\n",
       "        vertical-align: middle;\n",
       "    }\n",
       "\n",
       "    .dataframe tbody tr th {\n",
       "        vertical-align: top;\n",
       "    }\n",
       "\n",
       "    .dataframe thead th {\n",
       "        text-align: right;\n",
       "    }\n",
       "</style>\n",
       "<table border=\"1\" class=\"dataframe\">\n",
       "  <thead>\n",
       "    <tr style=\"text-align: right;\">\n",
       "      <th></th>\n",
       "      <th>Date</th>\n",
       "      <th>date_dt</th>\n",
       "      <th>year</th>\n",
       "      <th>month</th>\n",
       "      <th>day</th>\n",
       "    </tr>\n",
       "  </thead>\n",
       "  <tbody>\n",
       "    <tr>\n",
       "      <th>0</th>\n",
       "      <td>1/5/2015</td>\n",
       "      <td>2015-01-05</td>\n",
       "      <td>2015</td>\n",
       "      <td>1</td>\n",
       "      <td>5</td>\n",
       "    </tr>\n",
       "    <tr>\n",
       "      <th>1</th>\n",
       "      <td>1/4/2015</td>\n",
       "      <td>2015-01-04</td>\n",
       "      <td>2015</td>\n",
       "      <td>1</td>\n",
       "      <td>4</td>\n",
       "    </tr>\n",
       "    <tr>\n",
       "      <th>2</th>\n",
       "      <td>1/3/2015</td>\n",
       "      <td>2015-01-03</td>\n",
       "      <td>2015</td>\n",
       "      <td>1</td>\n",
       "      <td>3</td>\n",
       "    </tr>\n",
       "    <tr>\n",
       "      <th>3</th>\n",
       "      <td>1/2/2015</td>\n",
       "      <td>2015-01-02</td>\n",
       "      <td>2015</td>\n",
       "      <td>1</td>\n",
       "      <td>2</td>\n",
       "    </tr>\n",
       "    <tr>\n",
       "      <th>4</th>\n",
       "      <td>12/31/2014</td>\n",
       "      <td>2014-12-31</td>\n",
       "      <td>2014</td>\n",
       "      <td>12</td>\n",
       "      <td>31</td>\n",
       "    </tr>\n",
       "  </tbody>\n",
       "</table>\n",
       "</div>"
      ],
      "text/plain": [
       "         Date    date_dt  year  month  day\n",
       "0    1/5/2015 2015-01-05  2015      1    5\n",
       "1    1/4/2015 2015-01-04  2015      1    4\n",
       "2    1/3/2015 2015-01-03  2015      1    3\n",
       "3    1/2/2015 2015-01-02  2015      1    2\n",
       "4  12/31/2014 2014-12-31  2014     12   31"
      ]
     },
     "execution_count": 25,
     "metadata": {},
     "output_type": "execute_result"
    }
   ],
   "source": [
    "ebola['year'] = ebola['date_dt'].dt.year\n",
    "ebola['month'] = ebola['date_dt'].dt.month\n",
    "ebola['day'] = ebola['date_dt'].dt.day\n",
    "\n",
    "ebola[['Date','date_dt','year','month','day']].head()"
   ]
  },
  {
   "cell_type": "markdown",
   "id": "bdcc1d74",
   "metadata": {},
   "source": [
    "- 에볼라 최초 발병일 계산하기"
   ]
  },
  {
   "cell_type": "code",
   "execution_count": 26,
   "id": "e61f08b4",
   "metadata": {},
   "outputs": [
    {
     "name": "stdout",
     "output_type": "stream",
     "text": [
      "2014-03-22 00:00:00\n",
      "          Date  Day  Cases_Guinea  Cases_Liberia  Cases_SierraLeone  \\\n",
      "121  3/22/2014    0          49.0            NaN                NaN   \n",
      "\n",
      "     Cases_Nigeria  Cases_Senegal  Cases_UnitedStates  Cases_Spain  \\\n",
      "121            NaN            NaN                 NaN          NaN   \n",
      "\n",
      "     Cases_Mali  ...  Deaths_SierraLeone  Deaths_Nigeria  Deaths_Senegal  \\\n",
      "121         NaN  ...                 NaN             NaN             NaN   \n",
      "\n",
      "     Deaths_UnitedStates  Deaths_Spain  Deaths_Mali    date_dt  year month  \\\n",
      "121                  NaN           NaN          NaN 2014-03-22  2014     3   \n",
      "\n",
      "     day  \n",
      "121   22  \n",
      "\n",
      "[1 rows x 22 columns]\n"
     ]
    }
   ],
   "source": [
    "print(ebola['date_dt'].min())\n",
    "print(ebola.loc[ebola['date_dt'] == ebola['date_dt'].min()])"
   ]
  },
  {
   "cell_type": "markdown",
   "id": "a1f8ecab",
   "metadata": {},
   "source": [
    "- 에볼라 진행 정도 확인"
   ]
  },
  {
   "cell_type": "code",
   "execution_count": 28,
   "id": "f9122fe9",
   "metadata": {},
   "outputs": [
    {
     "name": "stdout",
     "output_type": "stream",
     "text": [
      "         Date  Day outbreak_d\n",
      "0    1/5/2015  289   289 days\n",
      "1    1/4/2015  288   288 days\n",
      "2    1/3/2015  287   287 days\n",
      "3    1/2/2015  286   286 days\n",
      "4  12/31/2014  284   284 days\n"
     ]
    }
   ],
   "source": [
    "ebola['outbreak_d'] = ebola['date_dt'] - ebola['date_dt'].min()\n",
    "print(ebola[['Date', 'Day','outbreak_d']].head())"
   ]
  },
  {
   "cell_type": "markdown",
   "id": "4eab75b3",
   "metadata": {},
   "source": [
    "## 사례별 시계열 데이터 계산하기\n",
    "### 파산한 은행의 수 계산\n",
    "- 은행데이터 확인"
   ]
  },
  {
   "cell_type": "code",
   "execution_count": 43,
   "id": "363e8653",
   "metadata": {},
   "outputs": [
    {
     "name": "stdout",
     "output_type": "stream",
     "text": [
      "                                           Bank Name         City  ST   CERT  \\\n",
      "0                Washington Federal Bank for Savings      Chicago  IL  30570   \n",
      "1    The Farmers and Merchants State Bank of Argonia      Argonia  KS  17719   \n",
      "2                                Fayette County Bank   Saint Elmo  IL   1802   \n",
      "3  Guaranty Bank, (d/b/a BestBank in Georgia & Mi...    Milwaukee  WI  30003   \n",
      "4                                     First NBC Bank  New Orleans  LA  58302   \n",
      "\n",
      "                 Acquiring Institution Closing Date Updated Date  \n",
      "0                   Royal Savings Bank   2017-12-15   2017-12-20  \n",
      "1                          Conway Bank   2017-10-13   2017-10-20  \n",
      "2            United Fidelity Bank, fsb   2017-05-26   2017-07-26  \n",
      "3  First-Citizens Bank & Trust Company   2017-05-05   2017-07-26  \n",
      "4                         Whitney Bank   2017-04-28   2017-12-05  \n",
      "<class 'pandas.core.frame.DataFrame'>\n",
      "RangeIndex: 555 entries, 0 to 554\n",
      "Data columns (total 7 columns):\n",
      " #   Column                 Non-Null Count  Dtype         \n",
      "---  ------                 --------------  -----         \n",
      " 0   Bank Name              555 non-null    object        \n",
      " 1   City                   555 non-null    object        \n",
      " 2   ST                     555 non-null    object        \n",
      " 3   CERT                   555 non-null    int64         \n",
      " 4   Acquiring Institution  555 non-null    object        \n",
      " 5   Closing Date           555 non-null    datetime64[ns]\n",
      " 6   Updated Date           555 non-null    datetime64[ns]\n",
      "dtypes: datetime64[ns](2), int64(1), object(4)\n",
      "memory usage: 30.5+ KB\n",
      "None\n"
     ]
    }
   ],
   "source": [
    "banks = pd.read_csv('./data/banklist.csv')\n",
    "print(bank.head())\n",
    "print(bank.info())"
   ]
  },
  {
   "cell_type": "code",
   "execution_count": 44,
   "id": "d98f1b42",
   "metadata": {},
   "outputs": [
    {
     "name": "stdout",
     "output_type": "stream",
     "text": [
      "<class 'pandas.core.frame.DataFrame'>\n",
      "RangeIndex: 555 entries, 0 to 554\n",
      "Data columns (total 7 columns):\n",
      " #   Column                 Non-Null Count  Dtype         \n",
      "---  ------                 --------------  -----         \n",
      " 0   Bank Name              555 non-null    object        \n",
      " 1   City                   555 non-null    object        \n",
      " 2   ST                     555 non-null    object        \n",
      " 3   CERT                   555 non-null    int64         \n",
      " 4   Acquiring Institution  555 non-null    object        \n",
      " 5   Closing Date           555 non-null    datetime64[ns]\n",
      " 6   Updated Date           555 non-null    datetime64[ns]\n",
      "dtypes: datetime64[ns](2), int64(1), object(4)\n",
      "memory usage: 30.5+ KB\n",
      "None\n"
     ]
    }
   ],
   "source": [
    "banks = pd.read_csv('./data/banklist.csv', parse_dates=[5,6])\n",
    "print(bank.info())"
   ]
  },
  {
   "cell_type": "markdown",
   "id": "0d02ed3b",
   "metadata": {},
   "source": [
    "### 파산한 은행의 수 계산\n",
    "- dt 접근자와 quarter(분기), year(연도) 사용"
   ]
  },
  {
   "cell_type": "code",
   "execution_count": 61,
   "id": "f384b912",
   "metadata": {},
   "outputs": [
    {
     "data": {
      "text/html": [
       "<div>\n",
       "<style scoped>\n",
       "    .dataframe tbody tr th:only-of-type {\n",
       "        vertical-align: middle;\n",
       "    }\n",
       "\n",
       "    .dataframe tbody tr th {\n",
       "        vertical-align: top;\n",
       "    }\n",
       "\n",
       "    .dataframe thead th {\n",
       "        text-align: right;\n",
       "    }\n",
       "</style>\n",
       "<table border=\"1\" class=\"dataframe\">\n",
       "  <thead>\n",
       "    <tr style=\"text-align: right;\">\n",
       "      <th></th>\n",
       "      <th>Bank Name</th>\n",
       "      <th>City</th>\n",
       "      <th>ST</th>\n",
       "      <th>CERT</th>\n",
       "      <th>Acquiring Institution</th>\n",
       "      <th>Closing Date</th>\n",
       "      <th>Updated Date</th>\n",
       "      <th>closing_quarter</th>\n",
       "      <th>closing_year</th>\n",
       "    </tr>\n",
       "  </thead>\n",
       "  <tbody>\n",
       "    <tr>\n",
       "      <th>0</th>\n",
       "      <td>Washington Federal Bank for Savings</td>\n",
       "      <td>Chicago</td>\n",
       "      <td>IL</td>\n",
       "      <td>30570</td>\n",
       "      <td>Royal Savings Bank</td>\n",
       "      <td>2017-12-15</td>\n",
       "      <td>2017-12-20</td>\n",
       "      <td>4</td>\n",
       "      <td>2017</td>\n",
       "    </tr>\n",
       "    <tr>\n",
       "      <th>1</th>\n",
       "      <td>The Farmers and Merchants State Bank of Argonia</td>\n",
       "      <td>Argonia</td>\n",
       "      <td>KS</td>\n",
       "      <td>17719</td>\n",
       "      <td>Conway Bank</td>\n",
       "      <td>2017-10-13</td>\n",
       "      <td>2017-10-20</td>\n",
       "      <td>4</td>\n",
       "      <td>2017</td>\n",
       "    </tr>\n",
       "    <tr>\n",
       "      <th>2</th>\n",
       "      <td>Fayette County Bank</td>\n",
       "      <td>Saint Elmo</td>\n",
       "      <td>IL</td>\n",
       "      <td>1802</td>\n",
       "      <td>United Fidelity Bank, fsb</td>\n",
       "      <td>2017-05-26</td>\n",
       "      <td>2017-07-26</td>\n",
       "      <td>2</td>\n",
       "      <td>2017</td>\n",
       "    </tr>\n",
       "    <tr>\n",
       "      <th>3</th>\n",
       "      <td>Guaranty Bank, (d/b/a BestBank in Georgia &amp; Mi...</td>\n",
       "      <td>Milwaukee</td>\n",
       "      <td>WI</td>\n",
       "      <td>30003</td>\n",
       "      <td>First-Citizens Bank &amp; Trust Company</td>\n",
       "      <td>2017-05-05</td>\n",
       "      <td>2017-07-26</td>\n",
       "      <td>2</td>\n",
       "      <td>2017</td>\n",
       "    </tr>\n",
       "    <tr>\n",
       "      <th>4</th>\n",
       "      <td>First NBC Bank</td>\n",
       "      <td>New Orleans</td>\n",
       "      <td>LA</td>\n",
       "      <td>58302</td>\n",
       "      <td>Whitney Bank</td>\n",
       "      <td>2017-04-28</td>\n",
       "      <td>2017-12-05</td>\n",
       "      <td>2</td>\n",
       "      <td>2017</td>\n",
       "    </tr>\n",
       "  </tbody>\n",
       "</table>\n",
       "</div>"
      ],
      "text/plain": [
       "                                           Bank Name         City  ST   CERT  \\\n",
       "0                Washington Federal Bank for Savings      Chicago  IL  30570   \n",
       "1    The Farmers and Merchants State Bank of Argonia      Argonia  KS  17719   \n",
       "2                                Fayette County Bank   Saint Elmo  IL   1802   \n",
       "3  Guaranty Bank, (d/b/a BestBank in Georgia & Mi...    Milwaukee  WI  30003   \n",
       "4                                     First NBC Bank  New Orleans  LA  58302   \n",
       "\n",
       "                 Acquiring Institution Closing Date Updated Date  \\\n",
       "0                   Royal Savings Bank   2017-12-15   2017-12-20   \n",
       "1                          Conway Bank   2017-10-13   2017-10-20   \n",
       "2            United Fidelity Bank, fsb   2017-05-26   2017-07-26   \n",
       "3  First-Citizens Bank & Trust Company   2017-05-05   2017-07-26   \n",
       "4                         Whitney Bank   2017-04-28   2017-12-05   \n",
       "\n",
       "   closing_quarter  closing_year  \n",
       "0                4          2017  \n",
       "1                4          2017  \n",
       "2                2          2017  \n",
       "3                2          2017  \n",
       "4                2          2017  "
      ]
     },
     "execution_count": 61,
     "metadata": {},
     "output_type": "execute_result"
    }
   ],
   "source": [
    "banks['closing_quarter'] = banks['Closing Date'].dt.quarter\n",
    "banks['closing_year'] = banks['Closing Date'].dt.year\n",
    "\n",
    "banks.head()"
   ]
  },
  {
   "cell_type": "markdown",
   "id": "ce1d7ffb",
   "metadata": {},
   "source": [
    "- 연도별 파산 현황 확인 -1,2"
   ]
  },
  {
   "cell_type": "code",
   "execution_count": 62,
   "id": "37f24dcf",
   "metadata": {},
   "outputs": [
    {
     "data": {
      "text/plain": [
       "2010    157\n",
       "2009    140\n",
       "2011     92\n",
       "2012     51\n",
       "2008     25\n",
       "Name: closing_year, dtype: int64"
      ]
     },
     "execution_count": 62,
     "metadata": {},
     "output_type": "execute_result"
    }
   ],
   "source": [
    "banks['closing_year'].value_counts().head()"
   ]
  },
  {
   "cell_type": "code",
   "execution_count": 63,
   "id": "6c750734",
   "metadata": {},
   "outputs": [
    {
     "data": {
      "text/plain": [
       "closing_year\n",
       "2000     2\n",
       "2001     4\n",
       "2002    11\n",
       "2003     3\n",
       "2004     4\n",
       "dtype: int64"
      ]
     },
     "execution_count": 63,
     "metadata": {},
     "output_type": "execute_result"
    }
   ],
   "source": [
    "banks.groupby(['closing_year']).size().head()"
   ]
  },
  {
   "cell_type": "markdown",
   "id": "ccac0dcc",
   "metadata": {},
   "source": [
    "- 연도별/분기별 파산 현황 확인"
   ]
  },
  {
   "cell_type": "code",
   "execution_count": 64,
   "id": "5cb4f0ee",
   "metadata": {},
   "outputs": [
    {
     "data": {
      "text/plain": [
       "closing_year  closing_quarter\n",
       "2000          4                  2\n",
       "2001          1                  1\n",
       "              2                  1\n",
       "              3                  2\n",
       "2002          1                  6\n",
       "dtype: int64"
      ]
     },
     "execution_count": 64,
     "metadata": {},
     "output_type": "execute_result"
    }
   ],
   "source": [
    "closing_year_q = banks.groupby(\n",
    "    ['closing_year', 'closing_quarter']).size()\n",
    "closing_year_q.head()"
   ]
  },
  {
   "cell_type": "code",
   "execution_count": 72,
   "id": "e86419b2",
   "metadata": {},
   "outputs": [
    {
     "ename": "NameError",
     "evalue": "name 'closing_year' is not defined",
     "output_type": "error",
     "traceback": [
      "\u001b[1;31m---------------------------------------------------------------------------\u001b[0m",
      "\u001b[1;31mNameError\u001b[0m                                 Traceback (most recent call last)",
      "Input \u001b[1;32mIn [72]\u001b[0m, in \u001b[0;36m<cell line: 2>\u001b[1;34m()\u001b[0m\n\u001b[0;32m      1\u001b[0m \u001b[38;5;28;01mimport\u001b[39;00m \u001b[38;5;21;01mmatplotlib\u001b[39;00m\u001b[38;5;21;01m.\u001b[39;00m\u001b[38;5;21;01mpyplot\u001b[39;00m \u001b[38;5;28;01mas\u001b[39;00m \u001b[38;5;21;01mplt\u001b[39;00m\n\u001b[1;32m----> 2\u001b[0m \u001b[43mclosing_year\u001b[49m\u001b[38;5;241m.\u001b[39mplot()\n",
      "\u001b[1;31mNameError\u001b[0m: name 'closing_year' is not defined"
     ]
    }
   ],
   "source": [
    "import matplotlib.pyplot as plt\n",
    "closing_year.plot() "
   ]
  },
  {
   "cell_type": "code",
   "execution_count": 66,
   "id": "feac294f",
   "metadata": {},
   "outputs": [
    {
     "data": {
      "image/png": "[encoded data removed]",
      "text/plain": [
       "<Figure size 432x288 with 1 Axes>"
      ]
     },
     "metadata": {
      "needs_background": "light"
     },
     "output_type": "display_data"
    }
   ],
   "source": [
    "fig = closing_year_q.plot()"
   ]
  },
  {
   "cell_type": "markdown",
   "id": "5ac86d0d",
   "metadata": {},
   "source": [
    "# 테슬라 주식 데이터"
   ]
  },
  {
   "cell_type": "code",
   "execution_count": 74,
   "id": "b3fcfa49",
   "metadata": {},
   "outputs": [],
   "source": [
    "#https://www.quandl.com"
   ]
  },
  {
   "cell_type": "code",
   "execution_count": 77,
   "id": "4aa479d0",
   "metadata": {},
   "outputs": [
    {
     "name": "stdout",
     "output_type": "stream",
     "text": [
      "<class 'pandas.core.frame.DataFrame'>\n",
      "RangeIndex: 1949 entries, 0 to 1948\n",
      "Data columns (total 13 columns):\n",
      " #   Column      Non-Null Count  Dtype         \n",
      "---  ------      --------------  -----         \n",
      " 0   Date        1949 non-null   datetime64[ns]\n",
      " 1   Open        1949 non-null   float64       \n",
      " 2   High        1949 non-null   float64       \n",
      " 3   Low         1949 non-null   float64       \n",
      " 4   Close       1949 non-null   float64       \n",
      " 5   Volume      1949 non-null   float64       \n",
      " 6   ExDividend  1949 non-null   float64       \n",
      " 7   SplitRatio  1949 non-null   float64       \n",
      " 8   AdjOpen     1949 non-null   float64       \n",
      " 9   AdjHigh     1949 non-null   float64       \n",
      " 10  AdjLow      1949 non-null   float64       \n",
      " 11  AdjClose    1949 non-null   float64       \n",
      " 12  AdjVolume   1949 non-null   float64       \n",
      "dtypes: datetime64[ns](1), float64(12)\n",
      "memory usage: 198.1 KB\n"
     ]
    }
   ],
   "source": [
    "tesla = pd.read_csv('./data/tesla_stock_quandl.csv', parse_dates=['Date'])\n",
    "tesla.info()"
   ]
  },
  {
   "cell_type": "code",
   "execution_count": 82,
   "id": "4cf67ebc",
   "metadata": {},
   "outputs": [
    {
     "data": {
      "text/html": [
       "<div>\n",
       "<style scoped>\n",
       "    .dataframe tbody tr th:only-of-type {\n",
       "        vertical-align: middle;\n",
       "    }\n",
       "\n",
       "    .dataframe tbody tr th {\n",
       "        vertical-align: top;\n",
       "    }\n",
       "\n",
       "    .dataframe thead th {\n",
       "        text-align: right;\n",
       "    }\n",
       "</style>\n",
       "<table border=\"1\" class=\"dataframe\">\n",
       "  <thead>\n",
       "    <tr style=\"text-align: right;\">\n",
       "      <th></th>\n",
       "      <th>Date</th>\n",
       "      <th>Open</th>\n",
       "      <th>High</th>\n",
       "      <th>Low</th>\n",
       "      <th>Close</th>\n",
       "      <th>Volume</th>\n",
       "      <th>ExDividend</th>\n",
       "      <th>SplitRatio</th>\n",
       "      <th>AdjOpen</th>\n",
       "      <th>AdjHigh</th>\n",
       "      <th>AdjLow</th>\n",
       "      <th>AdjClose</th>\n",
       "      <th>AdjVolume</th>\n",
       "    </tr>\n",
       "  </thead>\n",
       "  <tbody>\n",
       "    <tr>\n",
       "      <th>1947</th>\n",
       "      <td>2010-06-30</td>\n",
       "      <td>25.79</td>\n",
       "      <td>30.4192</td>\n",
       "      <td>23.30</td>\n",
       "      <td>23.83</td>\n",
       "      <td>17187100.0</td>\n",
       "      <td>0.0</td>\n",
       "      <td>1.0</td>\n",
       "      <td>25.79</td>\n",
       "      <td>30.4192</td>\n",
       "      <td>23.30</td>\n",
       "      <td>23.83</td>\n",
       "      <td>17187100.0</td>\n",
       "    </tr>\n",
       "    <tr>\n",
       "      <th>1948</th>\n",
       "      <td>2010-06-29</td>\n",
       "      <td>19.00</td>\n",
       "      <td>25.0000</td>\n",
       "      <td>17.54</td>\n",
       "      <td>23.89</td>\n",
       "      <td>18766300.0</td>\n",
       "      <td>0.0</td>\n",
       "      <td>1.0</td>\n",
       "      <td>19.00</td>\n",
       "      <td>25.0000</td>\n",
       "      <td>17.54</td>\n",
       "      <td>23.89</td>\n",
       "      <td>18766300.0</td>\n",
       "    </tr>\n",
       "  </tbody>\n",
       "</table>\n",
       "</div>"
      ],
      "text/plain": [
       "           Date   Open     High    Low  Close      Volume  ExDividend  \\\n",
       "1947 2010-06-30  25.79  30.4192  23.30  23.83  17187100.0         0.0   \n",
       "1948 2010-06-29  19.00  25.0000  17.54  23.89  18766300.0         0.0   \n",
       "\n",
       "      SplitRatio  AdjOpen  AdjHigh  AdjLow  AdjClose   AdjVolume  \n",
       "1947         1.0    25.79  30.4192   23.30     23.83  17187100.0  \n",
       "1948         1.0    19.00  25.0000   17.54     23.89  18766300.0  "
      ]
     },
     "execution_count": 82,
     "metadata": {},
     "output_type": "execute_result"
    }
   ],
   "source": [
    "tesla[(tesla.Date.dt.year == 2010) & (tesla.Date.dt.quarter == 2)]"
   ]
  },
  {
   "cell_type": "code",
   "execution_count": 83,
   "id": "a7156d7d",
   "metadata": {},
   "outputs": [],
   "source": [
    "tesla.index = tesla['Date']"
   ]
  },
  {
   "cell_type": "code",
   "execution_count": 85,
   "id": "a8b2e9f2",
   "metadata": {},
   "outputs": [
    {
     "data": {
      "text/plain": [
       "DatetimeIndex(['2018-03-27', '2018-03-26', '2018-03-23', '2018-03-22',\n",
       "               '2018-03-21', '2018-03-20', '2018-03-19', '2018-03-16',\n",
       "               '2018-03-15', '2018-03-14',\n",
       "               ...\n",
       "               '2010-07-13', '2010-07-12', '2010-07-09', '2010-07-08',\n",
       "               '2010-07-07', '2010-07-06', '2010-07-02', '2010-07-01',\n",
       "               '2010-06-30', '2010-06-29'],\n",
       "              dtype='datetime64[ns]', name='Date', length=1949, freq=None)"
      ]
     },
     "execution_count": 85,
     "metadata": {},
     "output_type": "execute_result"
    }
   ],
   "source": [
    "tesla.index"
   ]
  },
  {
   "cell_type": "code",
   "execution_count": 86,
   "id": "30141819",
   "metadata": {
    "scrolled": true
   },
   "outputs": [
    {
     "data": {
      "text/plain": [
       "Date          2018-03-20 00:00:00\n",
       "Open                       314.87\n",
       "High                       316.25\n",
       "Low                        308.76\n",
       "Close                      310.55\n",
       "Volume                  4726182.0\n",
       "ExDividend                    0.0\n",
       "SplitRatio                    1.0\n",
       "AdjOpen                    314.87\n",
       "AdjHigh                    316.25\n",
       "AdjLow                     308.76\n",
       "AdjClose                   310.55\n",
       "AdjVolume               4726182.0\n",
       "Name: 2018-03-20 00:00:00, dtype: object"
      ]
     },
     "execution_count": 86,
     "metadata": {},
     "output_type": "execute_result"
    }
   ],
   "source": [
    "tesla.loc['2018-03-20']"
   ]
  },
  {
   "cell_type": "code",
   "execution_count": 87,
   "id": "fd1f56c5",
   "metadata": {},
   "outputs": [
    {
     "name": "stderr",
     "output_type": "stream",
     "text": [
      "C:\\Users\\admin\\AppData\\Local\\Temp\\ipykernel_1696\\2920848526.py:1: FutureWarning: Indexing a DataFrame with a datetimelike index using a single string to slice the rows, like `frame[string]`, is deprecated and will be removed in a future version. Use `frame.loc[string]` instead.\n",
      "  tesla['2015']\n"
     ]
    },
    {
     "data": {
      "text/html": [
       "<div>\n",
       "<style scoped>\n",
       "    .dataframe tbody tr th:only-of-type {\n",
       "        vertical-align: middle;\n",
       "    }\n",
       "\n",
       "    .dataframe tbody tr th {\n",
       "        vertical-align: top;\n",
       "    }\n",
       "\n",
       "    .dataframe thead th {\n",
       "        text-align: right;\n",
       "    }\n",
       "</style>\n",
       "<table border=\"1\" class=\"dataframe\">\n",
       "  <thead>\n",
       "    <tr style=\"text-align: right;\">\n",
       "      <th></th>\n",
       "      <th>Date</th>\n",
       "      <th>Open</th>\n",
       "      <th>High</th>\n",
       "      <th>Low</th>\n",
       "      <th>Close</th>\n",
       "      <th>Volume</th>\n",
       "      <th>ExDividend</th>\n",
       "      <th>SplitRatio</th>\n",
       "      <th>AdjOpen</th>\n",
       "      <th>AdjHigh</th>\n",
       "      <th>AdjLow</th>\n",
       "      <th>AdjClose</th>\n",
       "      <th>AdjVolume</th>\n",
       "    </tr>\n",
       "    <tr>\n",
       "      <th>Date</th>\n",
       "      <th></th>\n",
       "      <th></th>\n",
       "      <th></th>\n",
       "      <th></th>\n",
       "      <th></th>\n",
       "      <th></th>\n",
       "      <th></th>\n",
       "      <th></th>\n",
       "      <th></th>\n",
       "      <th></th>\n",
       "      <th></th>\n",
       "      <th></th>\n",
       "      <th></th>\n",
       "    </tr>\n",
       "  </thead>\n",
       "  <tbody>\n",
       "    <tr>\n",
       "      <th>2015-12-31</th>\n",
       "      <td>2015-12-31</td>\n",
       "      <td>238.51</td>\n",
       "      <td>243.4500</td>\n",
       "      <td>238.3700</td>\n",
       "      <td>240.010</td>\n",
       "      <td>2715038.0</td>\n",
       "      <td>0.0</td>\n",
       "      <td>1.0</td>\n",
       "      <td>238.51</td>\n",
       "      <td>243.4500</td>\n",
       "      <td>238.3700</td>\n",
       "      <td>240.010</td>\n",
       "      <td>2715038.0</td>\n",
       "    </tr>\n",
       "    <tr>\n",
       "      <th>2015-12-30</th>\n",
       "      <td>2015-12-30</td>\n",
       "      <td>236.60</td>\n",
       "      <td>243.6340</td>\n",
       "      <td>235.6707</td>\n",
       "      <td>238.090</td>\n",
       "      <td>3697921.0</td>\n",
       "      <td>0.0</td>\n",
       "      <td>1.0</td>\n",
       "      <td>236.60</td>\n",
       "      <td>243.6340</td>\n",
       "      <td>235.6707</td>\n",
       "      <td>238.090</td>\n",
       "      <td>3697921.0</td>\n",
       "    </tr>\n",
       "    <tr>\n",
       "      <th>2015-12-29</th>\n",
       "      <td>2015-12-29</td>\n",
       "      <td>230.06</td>\n",
       "      <td>237.7200</td>\n",
       "      <td>229.5470</td>\n",
       "      <td>237.190</td>\n",
       "      <td>2406290.0</td>\n",
       "      <td>0.0</td>\n",
       "      <td>1.0</td>\n",
       "      <td>230.06</td>\n",
       "      <td>237.7200</td>\n",
       "      <td>229.5470</td>\n",
       "      <td>237.190</td>\n",
       "      <td>2406290.0</td>\n",
       "    </tr>\n",
       "    <tr>\n",
       "      <th>2015-12-28</th>\n",
       "      <td>2015-12-28</td>\n",
       "      <td>231.49</td>\n",
       "      <td>231.9800</td>\n",
       "      <td>225.5400</td>\n",
       "      <td>228.950</td>\n",
       "      <td>1901304.0</td>\n",
       "      <td>0.0</td>\n",
       "      <td>1.0</td>\n",
       "      <td>231.49</td>\n",
       "      <td>231.9800</td>\n",
       "      <td>225.5400</td>\n",
       "      <td>228.950</td>\n",
       "      <td>1901304.0</td>\n",
       "    </tr>\n",
       "    <tr>\n",
       "      <th>2015-12-24</th>\n",
       "      <td>2015-12-24</td>\n",
       "      <td>230.56</td>\n",
       "      <td>231.8800</td>\n",
       "      <td>228.2800</td>\n",
       "      <td>230.570</td>\n",
       "      <td>710277.0</td>\n",
       "      <td>0.0</td>\n",
       "      <td>1.0</td>\n",
       "      <td>230.56</td>\n",
       "      <td>231.8800</td>\n",
       "      <td>228.2800</td>\n",
       "      <td>230.570</td>\n",
       "      <td>710277.0</td>\n",
       "    </tr>\n",
       "    <tr>\n",
       "      <th>...</th>\n",
       "      <td>...</td>\n",
       "      <td>...</td>\n",
       "      <td>...</td>\n",
       "      <td>...</td>\n",
       "      <td>...</td>\n",
       "      <td>...</td>\n",
       "      <td>...</td>\n",
       "      <td>...</td>\n",
       "      <td>...</td>\n",
       "      <td>...</td>\n",
       "      <td>...</td>\n",
       "      <td>...</td>\n",
       "      <td>...</td>\n",
       "    </tr>\n",
       "    <tr>\n",
       "      <th>2015-01-08</th>\n",
       "      <td>2015-01-08</td>\n",
       "      <td>212.81</td>\n",
       "      <td>213.7999</td>\n",
       "      <td>210.0100</td>\n",
       "      <td>210.615</td>\n",
       "      <td>3442509.0</td>\n",
       "      <td>0.0</td>\n",
       "      <td>1.0</td>\n",
       "      <td>212.81</td>\n",
       "      <td>213.7999</td>\n",
       "      <td>210.0100</td>\n",
       "      <td>210.615</td>\n",
       "      <td>3442509.0</td>\n",
       "    </tr>\n",
       "    <tr>\n",
       "      <th>2015-01-07</th>\n",
       "      <td>2015-01-07</td>\n",
       "      <td>213.35</td>\n",
       "      <td>214.7800</td>\n",
       "      <td>209.7800</td>\n",
       "      <td>210.950</td>\n",
       "      <td>2968390.0</td>\n",
       "      <td>0.0</td>\n",
       "      <td>1.0</td>\n",
       "      <td>213.35</td>\n",
       "      <td>214.7800</td>\n",
       "      <td>209.7800</td>\n",
       "      <td>210.950</td>\n",
       "      <td>2968390.0</td>\n",
       "    </tr>\n",
       "    <tr>\n",
       "      <th>2015-01-06</th>\n",
       "      <td>2015-01-06</td>\n",
       "      <td>210.06</td>\n",
       "      <td>214.2000</td>\n",
       "      <td>204.2100</td>\n",
       "      <td>211.280</td>\n",
       "      <td>6261936.0</td>\n",
       "      <td>0.0</td>\n",
       "      <td>1.0</td>\n",
       "      <td>210.06</td>\n",
       "      <td>214.2000</td>\n",
       "      <td>204.2100</td>\n",
       "      <td>211.280</td>\n",
       "      <td>6261936.0</td>\n",
       "    </tr>\n",
       "    <tr>\n",
       "      <th>2015-01-05</th>\n",
       "      <td>2015-01-05</td>\n",
       "      <td>214.55</td>\n",
       "      <td>216.5000</td>\n",
       "      <td>207.1626</td>\n",
       "      <td>210.090</td>\n",
       "      <td>5368477.0</td>\n",
       "      <td>0.0</td>\n",
       "      <td>1.0</td>\n",
       "      <td>214.55</td>\n",
       "      <td>216.5000</td>\n",
       "      <td>207.1626</td>\n",
       "      <td>210.090</td>\n",
       "      <td>5368477.0</td>\n",
       "    </tr>\n",
       "    <tr>\n",
       "      <th>2015-01-02</th>\n",
       "      <td>2015-01-02</td>\n",
       "      <td>222.87</td>\n",
       "      <td>223.2500</td>\n",
       "      <td>213.2600</td>\n",
       "      <td>219.310</td>\n",
       "      <td>4764443.0</td>\n",
       "      <td>0.0</td>\n",
       "      <td>1.0</td>\n",
       "      <td>222.87</td>\n",
       "      <td>223.2500</td>\n",
       "      <td>213.2600</td>\n",
       "      <td>219.310</td>\n",
       "      <td>4764443.0</td>\n",
       "    </tr>\n",
       "  </tbody>\n",
       "</table>\n",
       "<p>252 rows × 13 columns</p>\n",
       "</div>"
      ],
      "text/plain": [
       "                 Date    Open      High       Low    Close     Volume  \\\n",
       "Date                                                                    \n",
       "2015-12-31 2015-12-31  238.51  243.4500  238.3700  240.010  2715038.0   \n",
       "2015-12-30 2015-12-30  236.60  243.6340  235.6707  238.090  3697921.0   \n",
       "2015-12-29 2015-12-29  230.06  237.7200  229.5470  237.190  2406290.0   \n",
       "2015-12-28 2015-12-28  231.49  231.9800  225.5400  228.950  1901304.0   \n",
       "2015-12-24 2015-12-24  230.56  231.8800  228.2800  230.570   710277.0   \n",
       "...               ...     ...       ...       ...      ...        ...   \n",
       "2015-01-08 2015-01-08  212.81  213.7999  210.0100  210.615  3442509.0   \n",
       "2015-01-07 2015-01-07  213.35  214.7800  209.7800  210.950  2968390.0   \n",
       "2015-01-06 2015-01-06  210.06  214.2000  204.2100  211.280  6261936.0   \n",
       "2015-01-05 2015-01-05  214.55  216.5000  207.1626  210.090  5368477.0   \n",
       "2015-01-02 2015-01-02  222.87  223.2500  213.2600  219.310  4764443.0   \n",
       "\n",
       "            ExDividend  SplitRatio  AdjOpen   AdjHigh    AdjLow  AdjClose  \\\n",
       "Date                                                                        \n",
       "2015-12-31         0.0         1.0   238.51  243.4500  238.3700   240.010   \n",
       "2015-12-30         0.0         1.0   236.60  243.6340  235.6707   238.090   \n",
       "2015-12-29         0.0         1.0   230.06  237.7200  229.5470   237.190   \n",
       "2015-12-28         0.0         1.0   231.49  231.9800  225.5400   228.950   \n",
       "2015-12-24         0.0         1.0   230.56  231.8800  228.2800   230.570   \n",
       "...                ...         ...      ...       ...       ...       ...   \n",
       "2015-01-08         0.0         1.0   212.81  213.7999  210.0100   210.615   \n",
       "2015-01-07         0.0         1.0   213.35  214.7800  209.7800   210.950   \n",
       "2015-01-06         0.0         1.0   210.06  214.2000  204.2100   211.280   \n",
       "2015-01-05         0.0         1.0   214.55  216.5000  207.1626   210.090   \n",
       "2015-01-02         0.0         1.0   222.87  223.2500  213.2600   219.310   \n",
       "\n",
       "            AdjVolume  \n",
       "Date                   \n",
       "2015-12-31  2715038.0  \n",
       "2015-12-30  3697921.0  \n",
       "2015-12-29  2406290.0  \n",
       "2015-12-28  1901304.0  \n",
       "2015-12-24   710277.0  \n",
       "...               ...  \n",
       "2015-01-08  3442509.0  \n",
       "2015-01-07  2968390.0  \n",
       "2015-01-06  6261936.0  \n",
       "2015-01-05  5368477.0  \n",
       "2015-01-02  4764443.0  \n",
       "\n",
       "[252 rows x 13 columns]"
      ]
     },
     "execution_count": 87,
     "metadata": {},
     "output_type": "execute_result"
    }
   ],
   "source": [
    "tesla['2015']"
   ]
  },
  {
   "cell_type": "code",
   "execution_count": 88,
   "id": "93c5dc4f",
   "metadata": {},
   "outputs": [
    {
     "name": "stderr",
     "output_type": "stream",
     "text": [
      "C:\\Users\\admin\\AppData\\Local\\Temp\\ipykernel_1696\\2237219238.py:1: FutureWarning: Indexing a DataFrame with a datetimelike index using a single string to slice the rows, like `frame[string]`, is deprecated and will be removed in a future version. Use `frame.loc[string]` instead.\n",
      "  tesla['2016-10']\n"
     ]
    },
    {
     "data": {
      "text/html": [
       "<div>\n",
       "<style scoped>\n",
       "    .dataframe tbody tr th:only-of-type {\n",
       "        vertical-align: middle;\n",
       "    }\n",
       "\n",
       "    .dataframe tbody tr th {\n",
       "        vertical-align: top;\n",
       "    }\n",
       "\n",
       "    .dataframe thead th {\n",
       "        text-align: right;\n",
       "    }\n",
       "</style>\n",
       "<table border=\"1\" class=\"dataframe\">\n",
       "  <thead>\n",
       "    <tr style=\"text-align: right;\">\n",
       "      <th></th>\n",
       "      <th>Date</th>\n",
       "      <th>Open</th>\n",
       "      <th>High</th>\n",
       "      <th>Low</th>\n",
       "      <th>Close</th>\n",
       "      <th>Volume</th>\n",
       "      <th>ExDividend</th>\n",
       "      <th>SplitRatio</th>\n",
       "      <th>AdjOpen</th>\n",
       "      <th>AdjHigh</th>\n",
       "      <th>AdjLow</th>\n",
       "      <th>AdjClose</th>\n",
       "      <th>AdjVolume</th>\n",
       "    </tr>\n",
       "    <tr>\n",
       "      <th>Date</th>\n",
       "      <th></th>\n",
       "      <th></th>\n",
       "      <th></th>\n",
       "      <th></th>\n",
       "      <th></th>\n",
       "      <th></th>\n",
       "      <th></th>\n",
       "      <th></th>\n",
       "      <th></th>\n",
       "      <th></th>\n",
       "      <th></th>\n",
       "      <th></th>\n",
       "      <th></th>\n",
       "    </tr>\n",
       "  </thead>\n",
       "  <tbody>\n",
       "    <tr>\n",
       "      <th>2016-10-31</th>\n",
       "      <td>2016-10-31</td>\n",
       "      <td>202.49</td>\n",
       "      <td>202.4900</td>\n",
       "      <td>195.81</td>\n",
       "      <td>197.73</td>\n",
       "      <td>4692273.0</td>\n",
       "      <td>0.0</td>\n",
       "      <td>1.0</td>\n",
       "      <td>202.49</td>\n",
       "      <td>202.4900</td>\n",
       "      <td>195.81</td>\n",
       "      <td>197.73</td>\n",
       "      <td>4692273.0</td>\n",
       "    </tr>\n",
       "    <tr>\n",
       "      <th>2016-10-28</th>\n",
       "      <td>2016-10-28</td>\n",
       "      <td>204.00</td>\n",
       "      <td>205.3200</td>\n",
       "      <td>199.83</td>\n",
       "      <td>199.97</td>\n",
       "      <td>4280141.0</td>\n",
       "      <td>0.0</td>\n",
       "      <td>1.0</td>\n",
       "      <td>204.00</td>\n",
       "      <td>205.3200</td>\n",
       "      <td>199.83</td>\n",
       "      <td>199.97</td>\n",
       "      <td>4280141.0</td>\n",
       "    </tr>\n",
       "    <tr>\n",
       "      <th>2016-10-27</th>\n",
       "      <td>2016-10-27</td>\n",
       "      <td>211.34</td>\n",
       "      <td>213.7000</td>\n",
       "      <td>201.65</td>\n",
       "      <td>204.01</td>\n",
       "      <td>13093744.0</td>\n",
       "      <td>0.0</td>\n",
       "      <td>1.0</td>\n",
       "      <td>211.34</td>\n",
       "      <td>213.7000</td>\n",
       "      <td>201.65</td>\n",
       "      <td>204.01</td>\n",
       "      <td>13093744.0</td>\n",
       "    </tr>\n",
       "    <tr>\n",
       "      <th>2016-10-26</th>\n",
       "      <td>2016-10-26</td>\n",
       "      <td>201.00</td>\n",
       "      <td>203.1900</td>\n",
       "      <td>200.10</td>\n",
       "      <td>202.24</td>\n",
       "      <td>5632841.0</td>\n",
       "      <td>0.0</td>\n",
       "      <td>1.0</td>\n",
       "      <td>201.00</td>\n",
       "      <td>203.1900</td>\n",
       "      <td>200.10</td>\n",
       "      <td>202.24</td>\n",
       "      <td>5632841.0</td>\n",
       "    </tr>\n",
       "    <tr>\n",
       "      <th>2016-10-25</th>\n",
       "      <td>2016-10-25</td>\n",
       "      <td>202.90</td>\n",
       "      <td>204.6900</td>\n",
       "      <td>201.20</td>\n",
       "      <td>202.34</td>\n",
       "      <td>2445014.0</td>\n",
       "      <td>0.0</td>\n",
       "      <td>1.0</td>\n",
       "      <td>202.90</td>\n",
       "      <td>204.6900</td>\n",
       "      <td>201.20</td>\n",
       "      <td>202.34</td>\n",
       "      <td>2445014.0</td>\n",
       "    </tr>\n",
       "    <tr>\n",
       "      <th>2016-10-24</th>\n",
       "      <td>2016-10-24</td>\n",
       "      <td>201.00</td>\n",
       "      <td>203.9452</td>\n",
       "      <td>200.25</td>\n",
       "      <td>202.76</td>\n",
       "      <td>2751562.0</td>\n",
       "      <td>0.0</td>\n",
       "      <td>1.0</td>\n",
       "      <td>201.00</td>\n",
       "      <td>203.9452</td>\n",
       "      <td>200.25</td>\n",
       "      <td>202.76</td>\n",
       "      <td>2751562.0</td>\n",
       "    </tr>\n",
       "    <tr>\n",
       "      <th>2016-10-21</th>\n",
       "      <td>2016-10-21</td>\n",
       "      <td>198.60</td>\n",
       "      <td>201.5700</td>\n",
       "      <td>197.41</td>\n",
       "      <td>200.09</td>\n",
       "      <td>2943402.0</td>\n",
       "      <td>0.0</td>\n",
       "      <td>1.0</td>\n",
       "      <td>198.60</td>\n",
       "      <td>201.5700</td>\n",
       "      <td>197.41</td>\n",
       "      <td>200.09</td>\n",
       "      <td>2943402.0</td>\n",
       "    </tr>\n",
       "    <tr>\n",
       "      <th>2016-10-20</th>\n",
       "      <td>2016-10-20</td>\n",
       "      <td>202.12</td>\n",
       "      <td>203.0000</td>\n",
       "      <td>197.05</td>\n",
       "      <td>199.10</td>\n",
       "      <td>5072877.0</td>\n",
       "      <td>0.0</td>\n",
       "      <td>1.0</td>\n",
       "      <td>202.12</td>\n",
       "      <td>203.0000</td>\n",
       "      <td>197.05</td>\n",
       "      <td>199.10</td>\n",
       "      <td>5072877.0</td>\n",
       "    </tr>\n",
       "    <tr>\n",
       "      <th>2016-10-19</th>\n",
       "      <td>2016-10-19</td>\n",
       "      <td>199.74</td>\n",
       "      <td>206.6600</td>\n",
       "      <td>198.06</td>\n",
       "      <td>203.56</td>\n",
       "      <td>6991183.0</td>\n",
       "      <td>0.0</td>\n",
       "      <td>1.0</td>\n",
       "      <td>199.74</td>\n",
       "      <td>206.6600</td>\n",
       "      <td>198.06</td>\n",
       "      <td>203.56</td>\n",
       "      <td>6991183.0</td>\n",
       "    </tr>\n",
       "    <tr>\n",
       "      <th>2016-10-18</th>\n",
       "      <td>2016-10-18</td>\n",
       "      <td>195.99</td>\n",
       "      <td>199.4700</td>\n",
       "      <td>193.26</td>\n",
       "      <td>199.10</td>\n",
       "      <td>5680475.0</td>\n",
       "      <td>0.0</td>\n",
       "      <td>1.0</td>\n",
       "      <td>195.99</td>\n",
       "      <td>199.4700</td>\n",
       "      <td>193.26</td>\n",
       "      <td>199.10</td>\n",
       "      <td>5680475.0</td>\n",
       "    </tr>\n",
       "    <tr>\n",
       "      <th>2016-10-17</th>\n",
       "      <td>2016-10-17</td>\n",
       "      <td>197.05</td>\n",
       "      <td>198.3900</td>\n",
       "      <td>192.00</td>\n",
       "      <td>193.96</td>\n",
       "      <td>4554080.0</td>\n",
       "      <td>0.0</td>\n",
       "      <td>1.0</td>\n",
       "      <td>197.05</td>\n",
       "      <td>198.3900</td>\n",
       "      <td>192.00</td>\n",
       "      <td>193.96</td>\n",
       "      <td>4554080.0</td>\n",
       "    </tr>\n",
       "    <tr>\n",
       "      <th>2016-10-14</th>\n",
       "      <td>2016-10-14</td>\n",
       "      <td>200.66</td>\n",
       "      <td>201.4300</td>\n",
       "      <td>196.30</td>\n",
       "      <td>196.51</td>\n",
       "      <td>4269850.0</td>\n",
       "      <td>0.0</td>\n",
       "      <td>1.0</td>\n",
       "      <td>200.66</td>\n",
       "      <td>201.4300</td>\n",
       "      <td>196.30</td>\n",
       "      <td>196.51</td>\n",
       "      <td>4269850.0</td>\n",
       "    </tr>\n",
       "    <tr>\n",
       "      <th>2016-10-13</th>\n",
       "      <td>2016-10-13</td>\n",
       "      <td>200.50</td>\n",
       "      <td>200.8950</td>\n",
       "      <td>197.05</td>\n",
       "      <td>200.24</td>\n",
       "      <td>2495413.0</td>\n",
       "      <td>0.0</td>\n",
       "      <td>1.0</td>\n",
       "      <td>200.50</td>\n",
       "      <td>200.8950</td>\n",
       "      <td>197.05</td>\n",
       "      <td>200.24</td>\n",
       "      <td>2495413.0</td>\n",
       "    </tr>\n",
       "    <tr>\n",
       "      <th>2016-10-12</th>\n",
       "      <td>2016-10-12</td>\n",
       "      <td>200.95</td>\n",
       "      <td>203.8800</td>\n",
       "      <td>200.42</td>\n",
       "      <td>201.51</td>\n",
       "      <td>1970689.0</td>\n",
       "      <td>0.0</td>\n",
       "      <td>1.0</td>\n",
       "      <td>200.95</td>\n",
       "      <td>203.8800</td>\n",
       "      <td>200.42</td>\n",
       "      <td>201.51</td>\n",
       "      <td>1970689.0</td>\n",
       "    </tr>\n",
       "    <tr>\n",
       "      <th>2016-10-11</th>\n",
       "      <td>2016-10-11</td>\n",
       "      <td>201.85</td>\n",
       "      <td>202.2000</td>\n",
       "      <td>198.31</td>\n",
       "      <td>200.10</td>\n",
       "      <td>2328422.0</td>\n",
       "      <td>0.0</td>\n",
       "      <td>1.0</td>\n",
       "      <td>201.85</td>\n",
       "      <td>202.2000</td>\n",
       "      <td>198.31</td>\n",
       "      <td>200.10</td>\n",
       "      <td>2328422.0</td>\n",
       "    </tr>\n",
       "    <tr>\n",
       "      <th>2016-10-10</th>\n",
       "      <td>2016-10-10</td>\n",
       "      <td>201.35</td>\n",
       "      <td>204.1400</td>\n",
       "      <td>199.66</td>\n",
       "      <td>200.95</td>\n",
       "      <td>3316297.0</td>\n",
       "      <td>0.0</td>\n",
       "      <td>1.0</td>\n",
       "      <td>201.35</td>\n",
       "      <td>204.1400</td>\n",
       "      <td>199.66</td>\n",
       "      <td>200.95</td>\n",
       "      <td>3316297.0</td>\n",
       "    </tr>\n",
       "    <tr>\n",
       "      <th>2016-10-07</th>\n",
       "      <td>2016-10-07</td>\n",
       "      <td>201.00</td>\n",
       "      <td>201.3200</td>\n",
       "      <td>195.80</td>\n",
       "      <td>196.61</td>\n",
       "      <td>3493018.0</td>\n",
       "      <td>0.0</td>\n",
       "      <td>1.0</td>\n",
       "      <td>201.00</td>\n",
       "      <td>201.3200</td>\n",
       "      <td>195.80</td>\n",
       "      <td>196.61</td>\n",
       "      <td>3493018.0</td>\n",
       "    </tr>\n",
       "    <tr>\n",
       "      <th>2016-10-06</th>\n",
       "      <td>2016-10-06</td>\n",
       "      <td>202.46</td>\n",
       "      <td>204.2099</td>\n",
       "      <td>200.21</td>\n",
       "      <td>201.00</td>\n",
       "      <td>4703402.0</td>\n",
       "      <td>0.0</td>\n",
       "      <td>1.0</td>\n",
       "      <td>202.46</td>\n",
       "      <td>204.2099</td>\n",
       "      <td>200.21</td>\n",
       "      <td>201.00</td>\n",
       "      <td>4703402.0</td>\n",
       "    </tr>\n",
       "    <tr>\n",
       "      <th>2016-10-05</th>\n",
       "      <td>2016-10-05</td>\n",
       "      <td>212.24</td>\n",
       "      <td>213.1500</td>\n",
       "      <td>208.12</td>\n",
       "      <td>208.46</td>\n",
       "      <td>1877534.0</td>\n",
       "      <td>0.0</td>\n",
       "      <td>1.0</td>\n",
       "      <td>212.24</td>\n",
       "      <td>213.1500</td>\n",
       "      <td>208.12</td>\n",
       "      <td>208.46</td>\n",
       "      <td>1877534.0</td>\n",
       "    </tr>\n",
       "    <tr>\n",
       "      <th>2016-10-04</th>\n",
       "      <td>2016-10-04</td>\n",
       "      <td>213.10</td>\n",
       "      <td>213.3200</td>\n",
       "      <td>208.82</td>\n",
       "      <td>211.41</td>\n",
       "      <td>3541481.0</td>\n",
       "      <td>0.0</td>\n",
       "      <td>1.0</td>\n",
       "      <td>213.10</td>\n",
       "      <td>213.3200</td>\n",
       "      <td>208.82</td>\n",
       "      <td>211.41</td>\n",
       "      <td>3541481.0</td>\n",
       "    </tr>\n",
       "    <tr>\n",
       "      <th>2016-10-03</th>\n",
       "      <td>2016-10-03</td>\n",
       "      <td>212.30</td>\n",
       "      <td>215.6688</td>\n",
       "      <td>208.25</td>\n",
       "      <td>213.70</td>\n",
       "      <td>5999892.0</td>\n",
       "      <td>0.0</td>\n",
       "      <td>1.0</td>\n",
       "      <td>212.30</td>\n",
       "      <td>215.6688</td>\n",
       "      <td>208.25</td>\n",
       "      <td>213.70</td>\n",
       "      <td>5999892.0</td>\n",
       "    </tr>\n",
       "  </tbody>\n",
       "</table>\n",
       "</div>"
      ],
      "text/plain": [
       "                 Date    Open      High     Low   Close      Volume  \\\n",
       "Date                                                                  \n",
       "2016-10-31 2016-10-31  202.49  202.4900  195.81  197.73   4692273.0   \n",
       "2016-10-28 2016-10-28  204.00  205.3200  199.83  199.97   4280141.0   \n",
       "2016-10-27 2016-10-27  211.34  213.7000  201.65  204.01  13093744.0   \n",
       "2016-10-26 2016-10-26  201.00  203.1900  200.10  202.24   5632841.0   \n",
       "2016-10-25 2016-10-25  202.90  204.6900  201.20  202.34   2445014.0   \n",
       "2016-10-24 2016-10-24  201.00  203.9452  200.25  202.76   2751562.0   \n",
       "2016-10-21 2016-10-21  198.60  201.5700  197.41  200.09   2943402.0   \n",
       "2016-10-20 2016-10-20  202.12  203.0000  197.05  199.10   5072877.0   \n",
       "2016-10-19 2016-10-19  199.74  206.6600  198.06  203.56   6991183.0   \n",
       "2016-10-18 2016-10-18  195.99  199.4700  193.26  199.10   5680475.0   \n",
       "2016-10-17 2016-10-17  197.05  198.3900  192.00  193.96   4554080.0   \n",
       "2016-10-14 2016-10-14  200.66  201.4300  196.30  196.51   4269850.0   \n",
       "2016-10-13 2016-10-13  200.50  200.8950  197.05  200.24   2495413.0   \n",
       "2016-10-12 2016-10-12  200.95  203.8800  200.42  201.51   1970689.0   \n",
       "2016-10-11 2016-10-11  201.85  202.2000  198.31  200.10   2328422.0   \n",
       "2016-10-10 2016-10-10  201.35  204.1400  199.66  200.95   3316297.0   \n",
       "2016-10-07 2016-10-07  201.00  201.3200  195.80  196.61   3493018.0   \n",
       "2016-10-06 2016-10-06  202.46  204.2099  200.21  201.00   4703402.0   \n",
       "2016-10-05 2016-10-05  212.24  213.1500  208.12  208.46   1877534.0   \n",
       "2016-10-04 2016-10-04  213.10  213.3200  208.82  211.41   3541481.0   \n",
       "2016-10-03 2016-10-03  212.30  215.6688  208.25  213.70   5999892.0   \n",
       "\n",
       "            ExDividend  SplitRatio  AdjOpen   AdjHigh  AdjLow  AdjClose  \\\n",
       "Date                                                                      \n",
       "2016-10-31         0.0         1.0   202.49  202.4900  195.81    197.73   \n",
       "2016-10-28         0.0         1.0   204.00  205.3200  199.83    199.97   \n",
       "2016-10-27         0.0         1.0   211.34  213.7000  201.65    204.01   \n",
       "2016-10-26         0.0         1.0   201.00  203.1900  200.10    202.24   \n",
       "2016-10-25         0.0         1.0   202.90  204.6900  201.20    202.34   \n",
       "2016-10-24         0.0         1.0   201.00  203.9452  200.25    202.76   \n",
       "2016-10-21         0.0         1.0   198.60  201.5700  197.41    200.09   \n",
       "2016-10-20         0.0         1.0   202.12  203.0000  197.05    199.10   \n",
       "2016-10-19         0.0         1.0   199.74  206.6600  198.06    203.56   \n",
       "2016-10-18         0.0         1.0   195.99  199.4700  193.26    199.10   \n",
       "2016-10-17         0.0         1.0   197.05  198.3900  192.00    193.96   \n",
       "2016-10-14         0.0         1.0   200.66  201.4300  196.30    196.51   \n",
       "2016-10-13         0.0         1.0   200.50  200.8950  197.05    200.24   \n",
       "2016-10-12         0.0         1.0   200.95  203.8800  200.42    201.51   \n",
       "2016-10-11         0.0         1.0   201.85  202.2000  198.31    200.10   \n",
       "2016-10-10         0.0         1.0   201.35  204.1400  199.66    200.95   \n",
       "2016-10-07         0.0         1.0   201.00  201.3200  195.80    196.61   \n",
       "2016-10-06         0.0         1.0   202.46  204.2099  200.21    201.00   \n",
       "2016-10-05         0.0         1.0   212.24  213.1500  208.12    208.46   \n",
       "2016-10-04         0.0         1.0   213.10  213.3200  208.82    211.41   \n",
       "2016-10-03         0.0         1.0   212.30  215.6688  208.25    213.70   \n",
       "\n",
       "             AdjVolume  \n",
       "Date                    \n",
       "2016-10-31   4692273.0  \n",
       "2016-10-28   4280141.0  \n",
       "2016-10-27  13093744.0  \n",
       "2016-10-26   5632841.0  \n",
       "2016-10-25   2445014.0  \n",
       "2016-10-24   2751562.0  \n",
       "2016-10-21   2943402.0  \n",
       "2016-10-20   5072877.0  \n",
       "2016-10-19   6991183.0  \n",
       "2016-10-18   5680475.0  \n",
       "2016-10-17   4554080.0  \n",
       "2016-10-14   4269850.0  \n",
       "2016-10-13   2495413.0  \n",
       "2016-10-12   1970689.0  \n",
       "2016-10-11   2328422.0  \n",
       "2016-10-10   3316297.0  \n",
       "2016-10-07   3493018.0  \n",
       "2016-10-06   4703402.0  \n",
       "2016-10-05   1877534.0  \n",
       "2016-10-04   3541481.0  \n",
       "2016-10-03   5999892.0  "
      ]
     },
     "execution_count": 88,
     "metadata": {},
     "output_type": "execute_result"
    }
   ],
   "source": [
    "tesla['2016-10']"
   ]
  },
  {
   "cell_type": "code",
   "execution_count": 92,
   "id": "d7624a67",
   "metadata": {},
   "outputs": [
    {
     "data": {
      "text/plain": [
       "DatetimeIndex(['2015-03-31', '2015-06-30', '2015-09-30', '2015-12-31'], dtype='datetime64[ns]', freq='Q-DEC')"
      ]
     },
     "execution_count": 92,
     "metadata": {},
     "output_type": "execute_result"
    }
   ],
   "source": [
    "pd.date_range(start='2015-01-01', end='2015-12-31', freq='Q')"
   ]
  }
 ],
 "metadata": {
  "kernelspec": {
   "display_name": "Python 3 (ipykernel)",
   "language": "python",
   "name": "python3"
  },
  "language_info": {
   "codemirror_mode": {
    "name": "ipython",
    "version": 3
   },
   "file_extension": ".py",
   "mimetype": "text/x-python",
   "name": "python",
   "nbconvert_exporter": "python",
   "pygments_lexer": "ipython3",
   "version": "3.9.12"
  }
 },
 "nbformat": 4,
 "nbformat_minor": 5
}
