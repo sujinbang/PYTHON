{
 "cells": [
  {
   "cell_type": "markdown",
   "id": "6efc2849",
   "metadata": {},
   "source": [
    "# 산술연산"
   ]
  },
  {
   "cell_type": "code",
   "execution_count": 65,
   "id": "9c630ec9",
   "metadata": {},
   "outputs": [],
   "source": [
    "import numpy as np"
   ]
  },
  {
   "cell_type": "code",
   "execution_count": 4,
   "id": "b5942d8f",
   "metadata": {},
   "outputs": [
    {
     "name": "stdout",
     "output_type": "stream",
     "text": [
      "[1, 2, 3, 4, 5, 6]\n"
     ]
    }
   ],
   "source": [
    "#리스트 덧셈\n",
    "list1 = [1,2,3]\n",
    "list2 = [4,5,6]\n",
    "print(list1+list2)"
   ]
  },
  {
   "cell_type": "code",
   "execution_count": 6,
   "id": "21c2c853",
   "metadata": {},
   "outputs": [
    {
     "name": "stdout",
     "output_type": "stream",
     "text": [
      "[5 7 9]\n"
     ]
    }
   ],
   "source": [
    "#배열의 덧셈\n",
    "arr1 = np.array([1,2,3])\n",
    "arr2 = np.array([4,5,6])\n",
    "print(arr1 + arr2)"
   ]
  },
  {
   "cell_type": "code",
   "execution_count": 9,
   "id": "b2d8267f",
   "metadata": {},
   "outputs": [
    {
     "name": "stdout",
     "output_type": "stream",
     "text": [
      "[[12. 14. 16.]\n",
      " [18. 20. 22.]]\n",
      "[[10. 10. 10.]\n",
      " [10. 10. 10.]]\n"
     ]
    }
   ],
   "source": [
    "#모양이 같은 배열연산\n",
    "arr1 = np.arange(1,7,dtype=np.float32).reshape(2,3)\n",
    "arr2 = np.arange(11,17,dtype=np.int32).reshape(2,3)\n",
    "print(arr1+arr2)\n",
    "print(arr2-arr1)"
   ]
  },
  {
   "cell_type": "code",
   "execution_count": 12,
   "id": "9560f873",
   "metadata": {},
   "outputs": [
    {
     "name": "stdout",
     "output_type": "stream",
     "text": [
      "[[11. 24. 39.]\n",
      " [56. 75. 96.]]\n",
      "[[11.          6.          4.33333333]\n",
      " [ 3.5         3.          2.66666667]]\n",
      "[[1.00000000e+00 4.09600000e+03 1.59432300e+06]\n",
      " [2.68435456e+08 3.05175781e+10 2.82110991e+12]]\n"
     ]
    }
   ],
   "source": [
    "print(arr1*arr2)\n",
    "print(arr2/arr1)\n",
    "print(arr1**arr2)   # 제곱"
   ]
  },
  {
   "cell_type": "code",
   "execution_count": 18,
   "id": "03f4ca2b",
   "metadata": {},
   "outputs": [
    {
     "name": "stdout",
     "output_type": "stream",
     "text": [
      "25\n"
     ]
    }
   ],
   "source": [
    "num=5\n",
    "print(num**2)"
   ]
  },
  {
   "cell_type": "code",
   "execution_count": 23,
   "id": "3280761b",
   "metadata": {},
   "outputs": [
    {
     "name": "stdout",
     "output_type": "stream",
     "text": [
      "[[11.  6.  4.]\n",
      " [ 3.  3.  2.]]\n",
      "[[0. 0. 1.]\n",
      " [2. 0. 4.]]\n"
     ]
    }
   ],
   "source": [
    "print(arr2//arr1)  #몫\n",
    "print(arr2 % arr1)  #나머지"
   ]
  },
  {
   "cell_type": "code",
   "execution_count": 32,
   "id": "dfc16586",
   "metadata": {},
   "outputs": [
    {
     "name": "stdout",
     "output_type": "stream",
     "text": [
      "[[12. 14. 16.]\n",
      " [18. 20. 22.]]\n",
      "[[-10. -10. -10.]\n",
      " [-10. -10. -10.]]\n",
      "[[11. 24. 39.]\n",
      " [56. 75. 96.]]\n",
      "[[0.09090909 0.16666667 0.23076923]\n",
      " [0.28571429 0.33333333 0.375     ]]\n"
     ]
    }
   ],
   "source": [
    "print(np.add(arr1,arr2)) # 더하기\n",
    "print(np.subtract(arr1,arr2)) # 빼기\n",
    "print(np.multiply(arr1,arr2)) # 곱하기\n",
    "print(np.divide(arr1,arr2)) # 나누기"
   ]
  },
  {
   "cell_type": "markdown",
   "id": "3dc939d7",
   "metadata": {},
   "source": [
    "- Broadcasting\n",
    "    - 연산하고자 하는 배열의 모양이 다른 경우의 연산"
   ]
  },
  {
   "cell_type": "code",
   "execution_count": 33,
   "id": "856f8618",
   "metadata": {},
   "outputs": [
    {
     "ename": "ValueError",
     "evalue": "operands could not be broadcast together with shapes (5,2) (2,5) ",
     "output_type": "error",
     "traceback": [
      "\u001b[1;31m---------------------------------------------------------------------------\u001b[0m",
      "\u001b[1;31mValueError\u001b[0m                                Traceback (most recent call last)",
      "Input \u001b[1;32mIn [33]\u001b[0m, in \u001b[0;36m<cell line: 3>\u001b[1;34m()\u001b[0m\n\u001b[0;32m      1\u001b[0m arr3 \u001b[38;5;241m=\u001b[39m np\u001b[38;5;241m.\u001b[39marange(\u001b[38;5;241m10\u001b[39m)\u001b[38;5;241m.\u001b[39mreshape(\u001b[38;5;241m5\u001b[39m,\u001b[38;5;241m2\u001b[39m)\n\u001b[0;32m      2\u001b[0m arr4 \u001b[38;5;241m=\u001b[39m np\u001b[38;5;241m.\u001b[39marange(\u001b[38;5;241m10\u001b[39m)\u001b[38;5;241m.\u001b[39mreshape(\u001b[38;5;241m2\u001b[39m,\u001b[38;5;241m5\u001b[39m)\n\u001b[1;32m----> 3\u001b[0m \u001b[38;5;28mprint\u001b[39m(\u001b[43marr3\u001b[49m\u001b[38;5;241;43m+\u001b[39;49m\u001b[43marr4\u001b[49m)\n",
      "\u001b[1;31mValueError\u001b[0m: operands could not be broadcast together with shapes (5,2) (2,5) "
     ]
    }
   ],
   "source": [
    "arr3 = np.arange(10).reshape(5,2)\n",
    "arr4 = np.arange(10).reshape(2,5)\n",
    "print(arr3+arr4)\n",
    "\n",
    "#에러 확인 맞음 - arr3와 arr4 shape이 맞지 않아 연산이 불가능함"
   ]
  },
  {
   "cell_type": "code",
   "execution_count": 35,
   "id": "33eba0de",
   "metadata": {},
   "outputs": [
    {
     "name": "stdout",
     "output_type": "stream",
     "text": [
      "[11 12 13]\n"
     ]
    }
   ],
   "source": [
    "#배열과 스칼라의 연산\n",
    "scalar = 10\n",
    "vector = np.array([1,2,3])\n",
    "\n",
    "print(scalar + vector)"
   ]
  },
  {
   "cell_type": "code",
   "execution_count": 38,
   "id": "bad19a00",
   "metadata": {},
   "outputs": [
    {
     "name": "stdout",
     "output_type": "stream",
     "text": [
      "[[11 12 13]\n",
      " [14 15 16]]\n"
     ]
    }
   ],
   "source": [
    "scalar = 10\n",
    "metrix = np.array([[1,2,3],[4,5,6]])\n",
    "\n",
    "print(scalar + metrix)"
   ]
  },
  {
   "cell_type": "code",
   "execution_count": 41,
   "id": "f9961f22",
   "metadata": {},
   "outputs": [
    {
     "name": "stdout",
     "output_type": "stream",
     "text": [
      "[[[11 12 13]\n",
      "  [14 15 16]]\n",
      "\n",
      " [[17 18 19]\n",
      "  [20 21 22]]\n",
      "\n",
      " [[23 24 25]\n",
      "  [26 27 28]]]\n"
     ]
    }
   ],
   "source": [
    "scalar = 10\n",
    "tensor = np.array([[[1,2,3],[4,5,6]],\n",
    "                   [[7,8,9],[10,11,12]],\n",
    "                   [[13,14,15],[16,17,18]]])\n",
    "\n",
    "print(scalar + tensor)"
   ]
  },
  {
   "cell_type": "code",
   "execution_count": 54,
   "id": "831a9e5c",
   "metadata": {},
   "outputs": [
    {
     "name": "stdout",
     "output_type": "stream",
     "text": [
      "[[1 2 3]\n",
      " [4 5 6]\n",
      " [7 8 9]]\n",
      "[[11 12 13]]\n"
     ]
    }
   ],
   "source": [
    "#broadcasting의 조건\n",
    "# 벡터와 매트릭스의 연산\n",
    "matrix = np.arange(1,10).reshape(3,3)\n",
    "vector = np.arange(11,14).reshape(1,3)\n",
    "\n",
    "print(matrix)\n",
    "print(vector)"
   ]
  },
  {
   "cell_type": "code",
   "execution_count": 55,
   "id": "51b8e711",
   "metadata": {},
   "outputs": [
    {
     "name": "stdout",
     "output_type": "stream",
     "text": [
      "[[12 14 16]\n",
      " [15 17 19]\n",
      " [18 20 22]]\n"
     ]
    }
   ],
   "source": [
    "print(matrix + vector)"
   ]
  },
  {
   "cell_type": "code",
   "execution_count": 56,
   "id": "7fc2281e",
   "metadata": {},
   "outputs": [
    {
     "name": "stdout",
     "output_type": "stream",
     "text": [
      "[[1 2 3]\n",
      " [4 5 6]\n",
      " [7 8 9]]\n",
      "[[11]\n",
      " [12]\n",
      " [13]]\n"
     ]
    }
   ],
   "source": [
    "matrix = np.arange(1,10).reshape(3,3)\n",
    "vector = np.arange(11,14).reshape(3,1)\n",
    "\n",
    "print(matrix)\n",
    "print(vector)"
   ]
  },
  {
   "cell_type": "code",
   "execution_count": 57,
   "id": "d504e3d0",
   "metadata": {},
   "outputs": [
    {
     "name": "stdout",
     "output_type": "stream",
     "text": [
      "[[12 13 14]\n",
      " [16 17 18]\n",
      " [20 21 22]]\n"
     ]
    }
   ],
   "source": [
    "print(matrix + vector)"
   ]
  },
  {
   "cell_type": "code",
   "execution_count": 59,
   "id": "dfa202bf",
   "metadata": {},
   "outputs": [
    {
     "name": "stdout",
     "output_type": "stream",
     "text": [
      "[1 2 3]\n",
      "[[1]\n",
      " [2]\n",
      " [3]]\n"
     ]
    }
   ],
   "source": [
    "#벡터와 벡터의 브로드캐스팅 연산\n",
    "arr1 = np.array([1,2,3])\n",
    "arr2 = np.array([1,2,3]).reshape(3,1)\n",
    "print(arr1)\n",
    "print(arr2)"
   ]
  },
  {
   "cell_type": "code",
   "execution_count": 62,
   "id": "5efa40ae",
   "metadata": {},
   "outputs": [
    {
     "name": "stdout",
     "output_type": "stream",
     "text": [
      "[[2 3 4]\n",
      " [3 4 5]\n",
      " [4 5 6]]\n"
     ]
    }
   ],
   "source": [
    "print(arr1+arr2)"
   ]
  },
  {
   "cell_type": "markdown",
   "id": "8aad5d93",
   "metadata": {},
   "source": [
    "# 행렬연산\n",
    "### np.dot(arr1,arr2)"
   ]
  },
  {
   "cell_type": "code",
   "execution_count": 68,
   "id": "4252ac3d",
   "metadata": {},
   "outputs": [
    {
     "name": "stdout",
     "output_type": "stream",
     "text": [
      "[1 4 9]\n"
     ]
    }
   ],
   "source": [
    "arr1= np.array([1,2,3])\n",
    "arr2 = np.array([1,2,3])\n",
    "print(arr1*arr2)"
   ]
  },
  {
   "cell_type": "code",
   "execution_count": 70,
   "id": "16799695",
   "metadata": {},
   "outputs": [
    {
     "name": "stdout",
     "output_type": "stream",
     "text": [
      "14\n",
      "[1 4 9]\n"
     ]
    }
   ],
   "source": [
    "arr1= np.array([1,2,3])\n",
    "arr2 = np.array([1,2,3]).T\n",
    "print(np.dot(arr1,arr2))\n",
    "print(arr1*arr2)"
   ]
  },
  {
   "cell_type": "code",
   "execution_count": 72,
   "id": "c4ebf19c",
   "metadata": {},
   "outputs": [
    {
     "name": "stdout",
     "output_type": "stream",
     "text": [
      "14\n",
      "14\n",
      "14\n"
     ]
    }
   ],
   "source": [
    "print(np.dot(arr1,arr2))\n",
    "print(arr1.dot(arr2))\n",
    "print(arr1@arr2)"
   ]
  },
  {
   "cell_type": "code",
   "execution_count": 73,
   "id": "106cc591",
   "metadata": {},
   "outputs": [
    {
     "name": "stdout",
     "output_type": "stream",
     "text": [
      "[[ 82  88]\n",
      " [199 214]]\n"
     ]
    }
   ],
   "source": [
    "arr3 = np.arange(1,7).reshape(2,3)\n",
    "arr4 = np.arange(11,17).reshape(3,2)\n",
    "print(np.dot(arr3,arr4))"
   ]
  }
 ],
 "metadata": {
  "kernelspec": {
   "display_name": "Python 3 (ipykernel)",
   "language": "python",
   "name": "python3"
  },
  "language_info": {
   "codemirror_mode": {
    "name": "ipython",
    "version": 3
   },
   "file_extension": ".py",
   "mimetype": "text/x-python",
   "name": "python",
   "nbconvert_exporter": "python",
   "pygments_lexer": "ipython3",
   "version": "3.9.12"
  }
 },
 "nbformat": 4,
 "nbformat_minor": 5
}
