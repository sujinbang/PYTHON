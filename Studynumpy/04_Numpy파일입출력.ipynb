{
 "cells": [
  {
   "cell_type": "code",
   "execution_count": 6,
   "id": "dbfffe0f",
   "metadata": {},
   "outputs": [],
   "source": [
    "import numpy as np"
   ]
  },
  {
   "cell_type": "markdown",
   "id": "1c505d78",
   "metadata": {},
   "source": [
    "# 파일 처리\n",
    "- ndarray의 정보를 파일로 저장할 수 있다\n",
    "- 일반적인 파일 확장자는 npy를 사용한다"
   ]
  },
  {
   "cell_type": "code",
   "execution_count": 7,
   "id": "46468a66",
   "metadata": {},
   "outputs": [
    {
     "name": "stdout",
     "output_type": "stream",
     "text": [
      "[[ 0.52869998  0.24002431  1.2128991  -1.10488172 -0.77255987]\n",
      " [-2.23883153 -0.29351768  1.21995378  0.72245015  1.44879789]\n",
      " [-0.31375817 -0.03495561  0.74840012 -0.02521824 -1.69088776]]\n"
     ]
    }
   ],
   "source": [
    "n = np.random.randn(3,5)\n",
    "print(n)\n",
    "n.tofile('n.npy')   # tofile 파일 저장"
   ]
  },
  {
   "cell_type": "code",
   "execution_count": 8,
   "id": "a3bb795f",
   "metadata": {},
   "outputs": [
    {
     "name": "stdout",
     "output_type": "stream",
     "text": [
      "[ 0.52869998  0.24002431  1.2128991  -1.10488172 -0.77255987 -2.23883153\n",
      " -0.29351768  1.21995378  0.72245015  1.44879789 -0.31375817 -0.03495561\n",
      "  0.74840012 -0.02521824 -1.69088776]\n"
     ]
    }
   ],
   "source": [
    "m = np.fromfile('n.npy')  # fromfile 파일 불러오기\n",
    "print(m)"
   ]
  },
  {
   "cell_type": "code",
   "execution_count": 9,
   "id": "a11b3694",
   "metadata": {},
   "outputs": [
    {
     "name": "stdout",
     "output_type": "stream",
     "text": [
      "[ 0.52869998  0.24002431  1.2128991  -1.10488172 -0.77255987 -2.23883153\n",
      " -0.29351768  1.21995378  0.72245015  1.44879789 -0.31375817 -0.03495561\n",
      "  0.74840012 -0.02521824 -1.69088776]\n"
     ]
    }
   ],
   "source": [
    "np.fromfile('C:/STUDY/StudyPython22/jupyter/n.npy')  #절대경로로 불러오기- 배열이 깨지는 문제\n",
    "print(m)"
   ]
  },
  {
   "cell_type": "code",
   "execution_count": 10,
   "id": "45e0ad34",
   "metadata": {},
   "outputs": [
    {
     "name": "stdout",
     "output_type": "stream",
     "text": [
      "[ 0.52869998  0.24002431  1.2128991  -1.10488172 -0.77255987 -2.23883153\n",
      " -0.29351768  1.21995378  0.72245015  1.44879789 -0.31375817 -0.03495561\n",
      "  0.74840012 -0.02521824 -1.69088776]\n"
     ]
    }
   ],
   "source": [
    "np.fromfile('C:/STUDY/StudyPython22/jupyter/n.npy').reshape(3,5)  #파일의 형태 그대로 불러오기\n",
    "print(m)"
   ]
  },
  {
   "cell_type": "code",
   "execution_count": 11,
   "id": "ed1b18ce",
   "metadata": {},
   "outputs": [
    {
     "name": "stdout",
     "output_type": "stream",
     "text": [
      "[[ 0.52869998  0.24002431  1.2128991  -1.10488172 -0.77255987]\n",
      " [-2.23883153 -0.29351768  1.21995378  0.72245015  1.44879789]\n",
      " [-0.31375817 -0.03495561  0.74840012 -0.02521824 -1.69088776]]\n"
     ]
    }
   ],
   "source": [
    "np.save('n1.npy',n)\n",
    "m1 = np.load('n1.npy')\n",
    "print(m1)"
   ]
  },
  {
   "cell_type": "markdown",
   "id": "58a8ec86",
   "metadata": {},
   "source": [
    "- txt 파일 저장(np.savetxt)\n",
    "- txt 파일 불러오기(np.loadtxt)\n"
   ]
  },
  {
   "cell_type": "code",
   "execution_count": 12,
   "id": "a7de0ca8",
   "metadata": {},
   "outputs": [],
   "source": [
    "np.savetxt('n.txt',n)"
   ]
  },
  {
   "cell_type": "code",
   "execution_count": 14,
   "id": "d9404c6a",
   "metadata": {},
   "outputs": [
    {
     "data": {
      "text/plain": [
       "array([[ 0.52869998,  0.24002431,  1.2128991 , -1.10488172, -0.77255987],\n",
       "       [-2.23883153, -0.29351768,  1.21995378,  0.72245015,  1.44879789],\n",
       "       [-0.31375817, -0.03495561,  0.74840012, -0.02521824, -1.69088776]])"
      ]
     },
     "execution_count": 14,
     "metadata": {},
     "output_type": "execute_result"
    }
   ],
   "source": [
    "np.loadtxt('n.txt')"
   ]
  },
  {
   "cell_type": "code",
   "execution_count": 18,
   "id": "d82c33a1",
   "metadata": {},
   "outputs": [],
   "source": [
    "#csv 파일 저장, 불러오기\n",
    "np.savetxt('n.csv',n) #한 셀에 ,로 구분되어 전체 데이터가 들어감\n",
    "\n",
    "np.savetxt('n.csv', n, delimiter= ',') # 각 셀로 데이터가 들어감"
   ]
  },
  {
   "cell_type": "code",
   "execution_count": 17,
   "id": "7d3b2ebb",
   "metadata": {},
   "outputs": [
    {
     "data": {
      "text/plain": [
       "array([[ 0.52869998,  0.24002431,  1.2128991 , -1.10488172, -0.77255987],\n",
       "       [-2.23883153, -0.29351768,  1.21995378,  0.72245015,  1.44879789],\n",
       "       [-0.31375817, -0.03495561,  0.74840012, -0.02521824, -1.69088776]])"
      ]
     },
     "execution_count": 17,
     "metadata": {},
     "output_type": "execute_result"
    }
   ],
   "source": [
    "np.loadtxt('n.csv')"
   ]
  },
  {
   "cell_type": "markdown",
   "id": "f192ef05",
   "metadata": {},
   "source": [
    "- 문제 풀이"
   ]
  },
  {
   "cell_type": "code",
   "execution_count": 58,
   "id": "adeba1ab",
   "metadata": {},
   "outputs": [
    {
     "name": "stdout",
     "output_type": "stream",
     "text": [
      "[[ 1  2  3  4  5]\n",
      " [ 6  7  8  9 10]\n",
      " [11 12 13 14 15]\n",
      " [16 17 18 19 20]\n",
      " [21 22 23 24 25]]\n"
     ]
    }
   ],
   "source": [
    "arr = np.arange(1,26,dtype=np.int8).reshape(5,5) # 1~25 범위의 5x5 행렬 생성\n",
    "print(arr)\n",
    "np.savetxt('./data/data.csv', arr, delimiter=',')\n"
   ]
  },
  {
   "cell_type": "code",
   "execution_count": 53,
   "id": "e3164762",
   "metadata": {},
   "outputs": [
    {
     "name": "stdout",
     "output_type": "stream",
     "text": [
      "[['1' '15' '14' '4']\n",
      " ['12' '6' '7' '9']\n",
      " ['8' '10' '11' '5']\n",
      " ['13' '3' '2' '16']]\n"
     ]
    }
   ],
   "source": [
    "arr1 = np.loadtxt('./data/06_data1.txt',dtype=np.str_)\n",
    "arr1\n",
    "\n",
    "arr1 = np.loadtxt('./data/06_data1.txt',delimiter='\\t', dtype=np.str_)\n",
    "print(arr1)"
   ]
  },
  {
   "cell_type": "code",
   "execution_count": 57,
   "id": "55f5407d",
   "metadata": {},
   "outputs": [
    {
     "name": "stdout",
     "output_type": "stream",
     "text": [
      "[[ 1 15 14  4]\n",
      " [12  6  7  9]\n",
      " [ 8 10 11  5]\n",
      " [13  3  2 16]]\n"
     ]
    }
   ],
   "source": [
    "arr2 = np.loadtxt('./data/06_data2.txt',delimiter=',', dtype=np.int8)\n",
    "print(arr2)"
   ]
  },
  {
   "cell_type": "markdown",
   "id": "3f6eb466",
   "metadata": {},
   "source": [
    "- 파일 읽어오기"
   ]
  },
  {
   "cell_type": "code",
   "execution_count": 65,
   "id": "fec5c7e0",
   "metadata": {},
   "outputs": [
    {
     "name": "stdout",
     "output_type": "stream",
     "text": [
      "[[      1  565082     273   27177]\n",
      " [      2 2827233     444   45111]\n",
      " [      3 1144913     289   29043]\n",
      " [      4 1131034     230   22436]\n",
      " [      5  380425     391   38020]]\n"
     ]
    }
   ],
   "source": [
    "data = np.loadtxt('./data/ex1_지역별전기요금.csv',delimiter=',',dtype=np.int32)\n",
    "print(data[  :5  , : ]) #상위 5개 데이터 출력"
   ]
  },
  {
   "cell_type": "markdown",
   "id": "48629291",
   "metadata": {},
   "source": [
    "- 데이터 확인하기"
   ]
  },
  {
   "cell_type": "code",
   "execution_count": 67,
   "id": "8b00495a",
   "metadata": {},
   "outputs": [
    {
     "name": "stdout",
     "output_type": "stream",
     "text": [
      "(17, 4)\n"
     ]
    }
   ],
   "source": [
    "print(data.shape)"
   ]
  },
  {
   "cell_type": "code",
   "execution_count": 73,
   "id": "67a27556",
   "metadata": {
    "scrolled": true
   },
   "outputs": [
    {
     "name": "stdout",
     "output_type": "stream",
     "text": [
      "[ 1  2  3  4  5  6  7  8  9 10 11 12 13 14 15 16 17]\n"
     ]
    }
   ],
   "source": [
    "#중복지역확인\n",
    "print(np.unique(data[:,0]))"
   ]
  },
  {
   "cell_type": "code",
   "execution_count": 74,
   "id": "eec3a337",
   "metadata": {},
   "outputs": [
    {
     "name": "stdout",
     "output_type": "stream",
     "text": [
      "[  49394  258605  323151  380425  425659  565082  584500  634696  668623\n",
      "  726699  734723  742285  947300 1131034 1144913 2737725 2827233]\n"
     ]
    }
   ],
   "source": [
    "#sort를 활용한 정렬 -- > 행렬의 값을 다 섞어버리기 때문에 제대로된 데이터를 추출할 수 없음\n",
    "#2차원 배열의 행과 열로 되어있는 데이터에서는 sort를 최대한 사용하지 않는게 좋음\n",
    "print(np.sort(data[:,1]))"
   ]
  },
  {
   "cell_type": "code",
   "execution_count": 81,
   "id": "966ea537",
   "metadata": {},
   "outputs": [
    {
     "name": "stdout",
     "output_type": "stream",
     "text": [
      "[ 9 14 10  4  6  0 16 13  5 12 11 15  7  3  2  8  1]\n",
      "[[     10   49394     580   57091]\n",
      " [     15  258605     221   22180]\n",
      " [     11  323151     353   35470]\n",
      " [      5  380425     391   38020]\n",
      " [      7  425659     344   32331]\n",
      " [      1  565082     273   27177]\n",
      " [     17  584500     268   26899]\n",
      " [     14  634696     285   28556]\n",
      " [      6  668623     364   35245]\n",
      " [     13  726699     249   25120]\n",
      " [     12  734723     398   40049]\n",
      " [     16  742285     282   27901]\n",
      " [      8  947300     366   36274]\n",
      " [      4 1131034     230   22436]\n",
      " [      3 1144913     289   29043]\n",
      " [      9 2737725     361   36569]\n",
      " [      2 2827233     444   45111]]\n",
      "[ 1  8  2  3  7 15 11 12  5 13 16  0  6  4 10 14  9]\n",
      "[[      2 2827233     444   45111]\n",
      " [      9 2737725     361   36569]\n",
      " [      3 1144913     289   29043]\n",
      " [      4 1131034     230   22436]\n",
      " [      8  947300     366   36274]\n",
      " [     16  742285     282   27901]\n",
      " [     12  734723     398   40049]\n",
      " [     13  726699     249   25120]\n",
      " [      6  668623     364   35245]\n",
      " [     14  634696     285   28556]\n",
      " [     17  584500     268   26899]\n",
      " [      1  565082     273   27177]\n",
      " [      7  425659     344   32331]\n",
      " [      5  380425     391   38020]\n",
      " [     11  323151     353   35470]\n",
      " [     15  258605     221   22180]\n",
      " [     10   49394     580   57091]]\n"
     ]
    }
   ],
   "source": [
    "#정렬(argsort 사용) - 가구수를 기준으로 오름차순으로 정렬\n",
    "print(data[:,1].argsort())\n",
    "print(data[ data[:,1].argsort() ])\n",
    "\n",
    "#argsort를 사용하여 내림차순으로 정렬\n",
    "print(data[:,1].argsort()[::-1] )\n",
    "print(data[ data[:,1].argsort()[::-1] ])"
   ]
  },
  {
   "cell_type": "code",
   "execution_count": 82,
   "id": "ce302d69",
   "metadata": {},
   "outputs": [
    {
     "name": "stdout",
     "output_type": "stream",
     "text": [
      "[[     10   49394     580   57091]\n",
      " [     15  258605     221   22180]\n",
      " [     11  323151     353   35470]\n",
      " [      5  380425     391   38020]\n",
      " [      7  425659     344   32331]\n",
      " [      1  565082     273   27177]\n",
      " [     17  584500     268   26899]\n",
      " [     14  634696     285   28556]\n",
      " [      6  668623     364   35245]\n",
      " [     13  726699     249   25120]\n",
      " [     12  734723     398   40049]\n",
      " [     16  742285     282   27901]\n",
      " [      8  947300     366   36274]\n",
      " [      4 1131034     230   22436]\n",
      " [      3 1144913     289   29043]\n",
      " [      9 2737725     361   36569]\n",
      " [      2 2827233     444   45111]]\n"
     ]
    }
   ],
   "source": [
    "#fancy index\n",
    "print(data[data[:,1].argsort()])"
   ]
  },
  {
   "cell_type": "markdown",
   "id": "bd041ae6",
   "metadata": {},
   "source": [
    "- 데이터 통계"
   ]
  },
  {
   "cell_type": "code",
   "execution_count": 83,
   "id": "d85c1663",
   "metadata": {},
   "outputs": [
    {
     "name": "stdout",
     "output_type": "stream",
     "text": [
      "14882047\n"
     ]
    }
   ],
   "source": [
    "#전국 대상 가구수(1 열) 합\n",
    "print(np.sum(data[:,1])) #data[:,1].sum()"
   ]
  },
  {
   "cell_type": "code",
   "execution_count": 91,
   "id": "f9b81efa",
   "metadata": {},
   "outputs": [
    {
     "name": "stdout",
     "output_type": "stream",
     "text": [
      "335.18\n"
     ]
    }
   ],
   "source": [
    "# 가구당 평균 전력 사용량 (2 열)의 전국 평균값\n",
    "print(round(data[:,2].mean(),2))   # round(  , 소수점자리수지정) - 반올림하여 출력\n",
    "                                   # np.mean(data[:2])"
   ]
  },
  {
   "cell_type": "code",
   "execution_count": 101,
   "id": "edae13d5",
   "metadata": {},
   "outputs": [
    {
     "name": "stdout",
     "output_type": "stream",
     "text": [
      "5698\n",
      "가구당 평균 전력 사용량의 전국 평균값 : 335.18\n"
     ]
    }
   ],
   "source": [
    "#무식하게 평균 구하기\n",
    "e_sum = np.sum(data[:,2])\n",
    "print(e_sum)\n",
    "\n",
    "n_rows = data.shape[0]\n",
    "\n",
    "print('가구당 평균 전력 사용량의 전국 평균값 :' , round(e_sum/n_rows,2))"
   ]
  },
  {
   "cell_type": "code",
   "execution_count": 112,
   "id": "abbd0780",
   "metadata": {
    "scrolled": true
   },
   "outputs": [
    {
     "name": "stdout",
     "output_type": "stream",
     "text": [
      "[False  True False False  True  True  True  True  True  True  True  True\n",
      " False False False False False]\n",
      "[[      2 2827233]\n",
      " [      5  380425]\n",
      " [      6  668623]\n",
      " [      7  425659]\n",
      " [      8  947300]\n",
      " [      9 2737725]\n",
      " [     10   49394]\n",
      " [     11  323151]\n",
      " [     12  734723]]\n"
     ]
    }
   ],
   "source": [
    "#가구당 평균 전력 사용량(2열)이 평균 이상인 지역\n",
    "#대상가구수추출(1열)\n",
    "avg_=data[:,2].mean()  #가구당 평균 전력사용량의 전국 평균\n",
    "\n",
    "print(data[: , 2]>avg_)\n",
    "print(data[data[: , 2]>avg_ , 0:2]) #슬라이싱 [ , 0:2] (1열까지 추출)"
   ]
  }
 ],
 "metadata": {
  "kernelspec": {
   "display_name": "Python 3 (ipykernel)",
   "language": "python",
   "name": "python3"
  },
  "language_info": {
   "codemirror_mode": {
    "name": "ipython",
    "version": 3
   },
   "file_extension": ".py",
   "mimetype": "text/x-python",
   "name": "python",
   "nbconvert_exporter": "python",
   "pygments_lexer": "ipython3",
   "version": "3.9.12"
  }
 },
 "nbformat": 4,
 "nbformat_minor": 5
}
