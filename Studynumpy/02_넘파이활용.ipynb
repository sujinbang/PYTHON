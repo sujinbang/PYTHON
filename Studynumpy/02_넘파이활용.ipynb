{
 "cells": [
  {
   "cell_type": "markdown",
   "id": "49c79a8c",
   "metadata": {},
   "source": [
    "# Reshape\n",
    "- 배열의 shape을 변형해주는 함수\n",
    "- 배열의 요소 개수를 유지하며 형태만 변경\n",
    "- 변형 전 size와 변형 후 size가 동일해야함"
   ]
  },
  {
   "cell_type": "code",
   "execution_count": 218,
   "id": "dc9e2065",
   "metadata": {},
   "outputs": [],
   "source": [
    "import numpy as np"
   ]
  },
  {
   "cell_type": "code",
   "execution_count": 8,
   "id": "cc8682cf",
   "metadata": {},
   "outputs": [
    {
     "name": "stdout",
     "output_type": "stream",
     "text": [
      "[[1 2 3]\n",
      " [4 5 6]]\n",
      "[[1 2]\n",
      " [3 4]\n",
      " [5 6]]\n"
     ]
    }
   ],
   "source": [
    "arr = np.array([[1,2,3],[4,5,6]]) # 2x3\n",
    "print(arr)\n",
    "print(arr.reshape(3,2))"
   ]
  },
  {
   "cell_type": "code",
   "execution_count": 10,
   "id": "e636fd1b",
   "metadata": {},
   "outputs": [
    {
     "name": "stdout",
     "output_type": "stream",
     "text": [
      "[[[1 2]]\n",
      "\n",
      " [[3 4]]\n",
      "\n",
      " [[5 6]]]\n",
      "[[1 2]\n",
      " [3 4]\n",
      " [5 6]]\n"
     ]
    }
   ],
   "source": [
    "print(arr.reshape(3,1,2))\n",
    "print(arr.reshape(-1,2))"
   ]
  },
  {
   "cell_type": "code",
   "execution_count": 12,
   "id": "9fa58361",
   "metadata": {},
   "outputs": [
    {
     "name": "stdout",
     "output_type": "stream",
     "text": [
      "[[1 2 3]\n",
      " [4 5 6]]\n"
     ]
    }
   ],
   "source": [
    "print(arr.reshape(2,-1))"
   ]
  },
  {
   "cell_type": "code",
   "execution_count": 15,
   "id": "3a896434",
   "metadata": {},
   "outputs": [
    {
     "name": "stdout",
     "output_type": "stream",
     "text": [
      "[[[ 1  2  3  4]\n",
      "  [ 5  6  7  8]\n",
      "  [ 9 10 11 12]]\n",
      "\n",
      " [[13 14 15 16]\n",
      "  [17 18 19 20]\n",
      "  [21 22 23 24]]\n",
      "\n",
      " [[25 26 27 28]\n",
      "  [29 30 31 32]\n",
      "  [33 34 35 36]]]\n"
     ]
    }
   ],
   "source": [
    "tensor = np.array(range(1,37))            #shape (3,3,4)\n",
    "\n",
    "print(tensor.reshape(3,3,4))"
   ]
  },
  {
   "cell_type": "markdown",
   "id": "50de3635",
   "metadata": {},
   "source": [
    "# tensor 배열을 2차원 배열로 변형시켜봅니다. *열의 개수는 9"
   ]
  },
  {
   "cell_type": "code",
   "execution_count": 17,
   "id": "634d9af0",
   "metadata": {},
   "outputs": [
    {
     "name": "stdout",
     "output_type": "stream",
     "text": [
      "[[ 1  2  3  4  5  6  7  8  9]\n",
      " [10 11 12 13 14 15 16 17 18]\n",
      " [19 20 21 22 23 24 25 26 27]\n",
      " [28 29 30 31 32 33 34 35 36]]\n",
      "[[ 1  2  3  4  5  6  7  8  9]\n",
      " [10 11 12 13 14 15 16 17 18]\n",
      " [19 20 21 22 23 24 25 26 27]\n",
      " [28 29 30 31 32 33 34 35 36]]\n"
     ]
    }
   ],
   "source": [
    "print(tensor.reshape(4,9))\n",
    "print(tensor.reshape(-1,9))    # 행의 값에 -1을 넣을 경우 열에 맞춰서 배열을 생성해주세요"
   ]
  },
  {
   "cell_type": "markdown",
   "id": "cdc5ad52",
   "metadata": {},
   "source": [
    "# Flatten\n",
    "- 다차원 배열을 1차원 배열로 변형"
   ]
  },
  {
   "cell_type": "code",
   "execution_count": 26,
   "id": "eea41b30",
   "metadata": {},
   "outputs": [
    {
     "name": "stdout",
     "output_type": "stream",
     "text": [
      "[[1 2 3]\n",
      " [4 5 6]]\n",
      "[1 2 3 4 5 6]\n"
     ]
    }
   ],
   "source": [
    "print(arr)\n",
    "print(arr.flatten())"
   ]
  },
  {
   "cell_type": "code",
   "execution_count": 22,
   "id": "83ae2b70",
   "metadata": {},
   "outputs": [
    {
     "name": "stdout",
     "output_type": "stream",
     "text": [
      "[1 2 3 4 5 6]\n"
     ]
    }
   ],
   "source": [
    "print(arr.reshape(1,6).flatten())"
   ]
  },
  {
   "cell_type": "code",
   "execution_count": 24,
   "id": "ba910b3b",
   "metadata": {},
   "outputs": [
    {
     "name": "stdout",
     "output_type": "stream",
     "text": [
      "[1 2 3 4 5 6]\n"
     ]
    }
   ],
   "source": [
    "print(arr.reshape(3,1,2).flatten())"
   ]
  },
  {
   "cell_type": "code",
   "execution_count": 29,
   "id": "b07f5b81",
   "metadata": {},
   "outputs": [
    {
     "name": "stdout",
     "output_type": "stream",
     "text": [
      "[ 1  2  3  4  5  6  7  8  9 10 11 12 13 14 15 16 17 18 19 20 21 22 23 24\n",
      " 25 26 27 28 29 30 31 32 33 34 35 36]\n"
     ]
    }
   ],
   "source": [
    "#tensor = np.array(range(1,37)) \n",
    "print(tensor.reshape(-1,9).flatten())"
   ]
  },
  {
   "cell_type": "markdown",
   "id": "c7f89a28",
   "metadata": {},
   "source": [
    "# Arange"
   ]
  },
  {
   "cell_type": "code",
   "execution_count": 35,
   "id": "b390b188",
   "metadata": {},
   "outputs": [
    {
     "name": "stdout",
     "output_type": "stream",
     "text": [
      "[ 0  1  2  3  4  5  6  7  8  9 10 11 12 13 14 15 16 17 18 19 20 21 22 23\n",
      " 24 25 26 27 28 29]\n"
     ]
    }
   ],
   "source": [
    "print(np.arange(30))        #np.array(range(30)) 과 동일"
   ]
  },
  {
   "cell_type": "code",
   "execution_count": 39,
   "id": "33692a3c",
   "metadata": {},
   "outputs": [
    {
     "name": "stdout",
     "output_type": "stream",
     "text": [
      "[0 2 4 6 8]\n",
      "[-2.  -1.5 -1.  -0.5  0.   0.5  1.   1.5]\n",
      "[10  9  8  7  6  5  4  3  2  1]\n"
     ]
    }
   ],
   "source": [
    "#간격 지정 : np.arrange(start, end, step)\n",
    "print(np.arange(0,10,2))\n",
    "\n",
    "print(np.arange(-2,2,0.5))\n",
    "\n",
    "print(np.arange(10,0,-1))"
   ]
  },
  {
   "cell_type": "markdown",
   "id": "8c7f9434",
   "metadata": {},
   "source": [
    "# Arange + Reshape\n",
    "- 배열 요소를 순서대로 가지는 다차원 배열 생성 가능"
   ]
  },
  {
   "cell_type": "code",
   "execution_count": 41,
   "id": "88d7c4e3",
   "metadata": {},
   "outputs": [
    {
     "name": "stdout",
     "output_type": "stream",
     "text": [
      "[[ 1  2  3  4  5]\n",
      " [ 6  7  8  9 10]\n",
      " [11 12 13 14 15]\n",
      " [16 17 18 19 20]\n",
      " [21 22 23 24 25]]\n"
     ]
    }
   ],
   "source": [
    "print(np.arange(1,26).reshape(5,5))"
   ]
  },
  {
   "cell_type": "code",
   "execution_count": 43,
   "id": "64e6a821",
   "metadata": {},
   "outputs": [
    {
     "name": "stdout",
     "output_type": "stream",
     "text": [
      "[[[0.  0.2 0.4 0.6 0.8]\n",
      "  [1.  1.2 1.4 1.6 1.8]]\n",
      "\n",
      " [[2.  2.2 2.4 2.6 2.8]\n",
      "  [3.  3.2 3.4 3.6 3.8]]\n",
      "\n",
      " [[4.  4.2 4.4 4.6 4.8]\n",
      "  [5.  5.2 5.4 5.6 5.8]]]\n"
     ]
    }
   ],
   "source": [
    "print(np.arange(0,6,0.2).reshape(3,2,5))"
   ]
  },
  {
   "cell_type": "code",
   "execution_count": 45,
   "id": "81012dde",
   "metadata": {},
   "outputs": [
    {
     "name": "stdout",
     "output_type": "stream",
     "text": [
      "[[100 110 120 130 140]\n",
      " [150 160 170 180 190]]\n"
     ]
    }
   ],
   "source": [
    "print(np.arange(100,191,10).reshape(2,5))  #100~190, 10간격으로 shape(2,5)"
   ]
  },
  {
   "cell_type": "code",
   "execution_count": 57,
   "id": "3a8da891",
   "metadata": {},
   "outputs": [
    {
     "name": "stdout",
     "output_type": "stream",
     "text": [
      "[[[-2.  -1.5 -1. ]\n",
      "  [-0.5  0.   0.5]\n",
      "  [ 1.   1.5  2. ]]]\n",
      "[[-2.  -1.5 -1. ]\n",
      " [-0.5  0.   0.5]\n",
      " [ 1.   1.5  2. ]]\n"
     ]
    }
   ],
   "source": [
    "#-2 ~ 2, 0.5 3차원\n",
    "np.arange(-2,2.5,0.5)\n",
    "np.arange(-2,2.5,0.5).size\n",
    "print(np.arange(-2,2.5,0.5).reshape(1,3,3))   # 3차원\n",
    "print(np.arange(-2,2.5,0.5).reshape(3,3))  # 2차원"
   ]
  },
  {
   "cell_type": "markdown",
   "id": "614da97c",
   "metadata": {},
   "source": [
    "# Zeros\n",
    "- 0으로 채워진 배열 생성"
   ]
  },
  {
   "cell_type": "code",
   "execution_count": 63,
   "id": "ee5bb383",
   "metadata": {},
   "outputs": [
    {
     "name": "stdout",
     "output_type": "stream",
     "text": [
      "[0 0 0 0 0]\n",
      "[0 0 0 0 0]\n",
      "[[0. 0. 0.]\n",
      " [0. 0. 0.]]\n",
      "float64\n"
     ]
    }
   ],
   "source": [
    "#np.zeros(shape.dtype)\n",
    "print(np.zeros(shape=(5,),dtype=np.int8))\n",
    "\n",
    "print(np.zeros((5),np.int8))\n",
    "\n",
    "print(np.zeros((2,3)))  #dtype 생략하여 생성 가능 -> float으로 생성\n",
    "print(np.zeros((2,3)).dtype)"
   ]
  },
  {
   "cell_type": "markdown",
   "id": "810ea8ca",
   "metadata": {},
   "source": [
    "# Ones\n",
    "- 1로 채워진 배열 생성"
   ]
  },
  {
   "cell_type": "code",
   "execution_count": 66,
   "id": "8d2b6c8c",
   "metadata": {},
   "outputs": [
    {
     "name": "stdout",
     "output_type": "stream",
     "text": [
      "[1 1 1 1 1]\n"
     ]
    }
   ],
   "source": [
    "print(np.ones(shape=(5,),dtype=np.int8))"
   ]
  },
  {
   "cell_type": "markdown",
   "id": "8c1a1609",
   "metadata": {},
   "source": [
    "# Empty\n",
    "- shape만 주어지고 비어있는 배열 생성\n",
    "- 배열을 생성만 하고 값을 주지 않아 메모리에 저장되어 있던 기존값이 저장될 수 있음"
   ]
  },
  {
   "cell_type": "code",
   "execution_count": 73,
   "id": "32fbdb59",
   "metadata": {},
   "outputs": [
    {
     "name": "stdout",
     "output_type": "stream",
     "text": [
      "[100 110 120 130 140 150 160 170 180 190]\n"
     ]
    }
   ],
   "source": [
    "print(np.empty(shape = (10,),dtype = np.int32))"
   ]
  },
  {
   "cell_type": "markdown",
   "id": "a52aaa74",
   "metadata": {},
   "source": [
    "# Zeros_like / Ones_like / Empty_like\n",
    "- 입력 받은 배열과 같은 shape,dtype의 배열 생성"
   ]
  },
  {
   "cell_type": "code",
   "execution_count": 75,
   "id": "c8390f01",
   "metadata": {},
   "outputs": [
    {
     "name": "stdout",
     "output_type": "stream",
     "text": [
      "[[0 0 0 0 0 0]\n",
      " [0 0 0 0 0 0]\n",
      " [0 0 0 0 0 0]\n",
      " [0 0 0 0 0 0]]\n"
     ]
    }
   ],
   "source": [
    "matrix = np.arange(24).reshape(4,6)\n",
    "print(np.zeros_like(matrix))"
   ]
  },
  {
   "cell_type": "code",
   "execution_count": 79,
   "id": "0563fd66",
   "metadata": {},
   "outputs": [
    {
     "name": "stdout",
     "output_type": "stream",
     "text": [
      "[[1. 1. 1. 1. 1. 1. 1. 1. 1. 1.]\n",
      " [1. 1. 1. 1. 1. 1. 1. 1. 1. 1.]]\n"
     ]
    }
   ],
   "source": [
    "matrix = np.arange(-2,2,0.2).reshape(2,10)\n",
    "matrix\n",
    "print(np.ones_like(matrix))"
   ]
  },
  {
   "cell_type": "code",
   "execution_count": 78,
   "id": "49785784",
   "metadata": {
    "scrolled": true
   },
   "outputs": [
    {
     "name": "stdout",
     "output_type": "stream",
     "text": [
      "[[1411174936        461         73          0          0          0]\n",
      " [         0          0          0    7602297 1634607739  975332717]\n",
      " [1953702432 1953853284  572533794 1954047348  572537378  808464731]\n",
      " [ 808530208  808595744  808661280  808726816  808792352  808857888]\n",
      " [ 808923424  808988960  809054496  577657949    7078013          0]]\n"
     ]
    }
   ],
   "source": [
    "matrix = np.arange(30).reshape(5,6)\n",
    "print(np.empty_like(matrix))"
   ]
  },
  {
   "cell_type": "markdown",
   "id": "054116cd",
   "metadata": {},
   "source": [
    "# Identity\n",
    "- 단위 행렬 : 주대각선의 값이 1이고 나머지는 0인 정사각 행렬"
   ]
  },
  {
   "cell_type": "code",
   "execution_count": 83,
   "id": "8848022a",
   "metadata": {},
   "outputs": [
    {
     "name": "stdout",
     "output_type": "stream",
     "text": [
      "[[1 0 0 0 0]\n",
      " [0 1 0 0 0]\n",
      " [0 0 1 0 0]\n",
      " [0 0 0 1 0]\n",
      " [0 0 0 0 1]]\n",
      "[['1' '' '' '' '']\n",
      " ['' '1' '' '' '']\n",
      " ['' '' '1' '' '']\n",
      " ['' '' '' '1' '']\n",
      " ['' '' '' '' '1']]\n"
     ]
    }
   ],
   "source": [
    "print(np.identity(5,dtype=np.int8))\n",
    "print(np.identity(5,dtype=np.str_))"
   ]
  },
  {
   "cell_type": "code",
   "execution_count": 82,
   "id": "9df1493a",
   "metadata": {},
   "outputs": [
    {
     "name": "stdout",
     "output_type": "stream",
     "text": [
      "[[1. 0.]\n",
      " [0. 1.]]\n"
     ]
    }
   ],
   "source": [
    "print(np.identity(2))"
   ]
  },
  {
   "cell_type": "markdown",
   "id": "10067691",
   "metadata": {},
   "source": [
    "# Eye\n",
    "- 대각선이 1로 채워지는 행렬\n",
    "- 대각선의 시작 위치 지정 가능"
   ]
  },
  {
   "cell_type": "code",
   "execution_count": 85,
   "id": "f1d7ee2b",
   "metadata": {},
   "outputs": [
    {
     "name": "stdout",
     "output_type": "stream",
     "text": [
      "[[1 0 0 0 0]\n",
      " [0 1 0 0 0]\n",
      " [0 0 1 0 0]\n",
      " [0 0 0 1 0]\n",
      " [0 0 0 0 1]]\n"
     ]
    }
   ],
   "source": [
    "print(np.eye(5,dtype=np.int8))     #np.eye(size,M,k,dtype)"
   ]
  },
  {
   "cell_type": "code",
   "execution_count": 87,
   "id": "de0a00a1",
   "metadata": {},
   "outputs": [
    {
     "name": "stdout",
     "output_type": "stream",
     "text": [
      "[[0. 0. 1. 0. 0.]\n",
      " [0. 0. 0. 1. 0.]\n",
      " [0. 0. 0. 0. 1.]\n",
      " [0. 0. 0. 0. 0.]\n",
      " [0. 0. 0. 0. 0.]]\n"
     ]
    }
   ],
   "source": [
    "print(np.eye(5,k=2))"
   ]
  },
  {
   "cell_type": "code",
   "execution_count": 89,
   "id": "c5c597fe",
   "metadata": {},
   "outputs": [
    {
     "name": "stdout",
     "output_type": "stream",
     "text": [
      "[[0. 0. 0. 0. 0. 0. 0. 0. 0. 0.]\n",
      " [1. 0. 0. 0. 0. 0. 0. 0. 0. 0.]\n",
      " [0. 1. 0. 0. 0. 0. 0. 0. 0. 0.]\n",
      " [0. 0. 1. 0. 0. 0. 0. 0. 0. 0.]\n",
      " [0. 0. 0. 1. 0. 0. 0. 0. 0. 0.]]\n"
     ]
    }
   ],
   "source": [
    "print(np.eye(5,M=10,k=-1))"
   ]
  },
  {
   "cell_type": "code",
   "execution_count": 93,
   "id": "b04b8be5",
   "metadata": {},
   "outputs": [
    {
     "name": "stdout",
     "output_type": "stream",
     "text": [
      "[[0. 0. 0. 0. 0. 0. 0. 0. 0. 0.]\n",
      " [1. 0. 0. 0. 0. 0. 0. 0. 0. 0.]\n",
      " [0. 1. 0. 0. 0. 0. 0. 0. 0. 0.]\n",
      " [0. 0. 1. 0. 0. 0. 0. 0. 0. 0.]\n",
      " [0. 0. 0. 1. 0. 0. 0. 0. 0. 0.]]\n"
     ]
    }
   ],
   "source": [
    "print(np.eye(5, M=10, k=-1))"
   ]
  },
  {
   "cell_type": "code",
   "execution_count": 95,
   "id": "e1982675",
   "metadata": {},
   "outputs": [
    {
     "name": "stdout",
     "output_type": "stream",
     "text": [
      "[[0. 0. 0. 0. 0. 1. 0. 0. 0. 0.]\n",
      " [0. 0. 0. 0. 0. 0. 1. 0. 0. 0.]\n",
      " [0. 0. 0. 0. 0. 0. 0. 1. 0. 0.]\n",
      " [0. 0. 0. 0. 0. 0. 0. 0. 1. 0.]\n",
      " [0. 0. 0. 0. 0. 0. 0. 0. 0. 1.]]\n"
     ]
    }
   ],
   "source": [
    "print(np.eye(5, M=10, k = 5))"
   ]
  },
  {
   "cell_type": "markdown",
   "id": "643c33a2",
   "metadata": {},
   "source": [
    "# Full\n",
    "- 입력값으로 채워지는 행렬\n",
    "\n",
    "### np.full((shape),value)"
   ]
  },
  {
   "cell_type": "code",
   "execution_count": 97,
   "id": "22fa6423",
   "metadata": {},
   "outputs": [
    {
     "name": "stdout",
     "output_type": "stream",
     "text": [
      "[[3 3 3 3 3]\n",
      " [3 3 3 3 3]]\n"
     ]
    }
   ],
   "source": [
    "print(np.full((2,5),3))"
   ]
  },
  {
   "cell_type": "markdown",
   "id": "39b407e9",
   "metadata": {},
   "source": [
    "# Random.randint\n",
    "- 주어진 범위 안의 랜덤한 값을 뽑는 함수\n",
    "\n",
    "### np.random.randint(range)"
   ]
  },
  {
   "cell_type": "code",
   "execution_count": 101,
   "id": "aec56151",
   "metadata": {},
   "outputs": [
    {
     "name": "stdout",
     "output_type": "stream",
     "text": [
      "3\n"
     ]
    }
   ],
   "source": [
    "#0~5 까지의 정수 중 하나 뽑기\n",
    "#numpy를 활용하여 랜덤하게 정수 뽑기\n",
    "print(np.random.randint(6))"
   ]
  },
  {
   "cell_type": "code",
   "execution_count": 103,
   "id": "bd6a2d20",
   "metadata": {},
   "outputs": [
    {
     "data": {
      "text/plain": [
       "6"
      ]
     },
     "execution_count": 103,
     "metadata": {},
     "output_type": "execute_result"
    }
   ],
   "source": [
    "#random을 활용하여 랜덤하게 정수 뽑기\n",
    "import random\n",
    "random.randint(1,10)"
   ]
  },
  {
   "cell_type": "markdown",
   "id": "0f31c278",
   "metadata": {},
   "source": [
    "# Random.rand\n",
    "- 랜덤한 값으로 채워지는 배열\n",
    "- 표준정규분포 난수를 shape 형태의 배열로 생성\n",
    "- 0~1 사이의 값을 가짐\n",
    "\n",
    "### np.random.rand(shape)"
   ]
  },
  {
   "cell_type": "code",
   "execution_count": 105,
   "id": "bd7b2aad",
   "metadata": {},
   "outputs": [
    {
     "name": "stdout",
     "output_type": "stream",
     "text": [
      "[0.15169382 0.03564282 0.56800299]\n"
     ]
    }
   ],
   "source": [
    "print(np.random.rand(3))"
   ]
  },
  {
   "cell_type": "code",
   "execution_count": 107,
   "id": "d7afecd0",
   "metadata": {},
   "outputs": [
    {
     "name": "stdout",
     "output_type": "stream",
     "text": [
      "[[0.8168965  0.69513993]\n",
      " [0.83953245 0.51312981]\n",
      " [0.4862603  0.24044702]]\n"
     ]
    }
   ],
   "source": [
    "print(np.random.rand(3,2))"
   ]
  },
  {
   "cell_type": "markdown",
   "id": "d314b7f7",
   "metadata": {},
   "source": [
    "# Random.randn\n",
    "- 랜덤한 값으로 채워지는 배열\n",
    "\n",
    "### np.random,randn(shape)"
   ]
  },
  {
   "cell_type": "code",
   "execution_count": 109,
   "id": "f4154b4d",
   "metadata": {},
   "outputs": [
    {
     "name": "stdout",
     "output_type": "stream",
     "text": [
      "[ 0.703633    0.67159121 -0.46314208]\n"
     ]
    }
   ],
   "source": [
    "print(np.random.randn(3))"
   ]
  },
  {
   "cell_type": "code",
   "execution_count": 111,
   "id": "ac3d04f1",
   "metadata": {},
   "outputs": [
    {
     "name": "stdout",
     "output_type": "stream",
     "text": [
      "[[ 1.19817928  0.21036248]\n",
      " [-0.84434531  0.67742441]\n",
      " [ 1.56342471  0.27012129]]\n"
     ]
    }
   ],
   "source": [
    "print(np.random.randn(3,2))"
   ]
  },
  {
   "cell_type": "markdown",
   "id": "af67e3b2",
   "metadata": {},
   "source": [
    "# 연산함수"
   ]
  },
  {
   "cell_type": "markdown",
   "id": "d420caf3",
   "metadata": {},
   "source": [
    "## SUM\n",
    "\n",
    "### ndarray.sum()"
   ]
  },
  {
   "cell_type": "code",
   "execution_count": 116,
   "id": "d2a54245",
   "metadata": {},
   "outputs": [
    {
     "name": "stdout",
     "output_type": "stream",
     "text": [
      "[[1 2 3]\n",
      " [4 5 6]]\n",
      "21\n"
     ]
    }
   ],
   "source": [
    "matrix=np.arange(1,7).reshape(2,3)\n",
    "print(matrix)\n",
    "print(matrix.sum())"
   ]
  },
  {
   "cell_type": "code",
   "execution_count": 117,
   "id": "09612c51",
   "metadata": {},
   "outputs": [
    {
     "name": "stdout",
     "output_type": "stream",
     "text": [
      "[5 7 9]\n",
      "[ 6 15]\n"
     ]
    }
   ],
   "source": [
    "print(matrix.sum(axis=0))           # 'axis = 0' 열끼리 값을 더함\n",
    "print(matrix.sum(axis=1))           # 'axis = 1' 행끼리 값을 더함"
   ]
  },
  {
   "cell_type": "code",
   "execution_count": 120,
   "id": "64b5dcc6",
   "metadata": {},
   "outputs": [
    {
     "name": "stdout",
     "output_type": "stream",
     "text": [
      "[[[ 1  2  3]\n",
      "  [ 4  5  6]]\n",
      "\n",
      " [[ 7  8  9]\n",
      "  [10 11 12]]\n",
      "\n",
      " [[13 14 15]\n",
      "  [16 17 18]]]\n",
      "171\n"
     ]
    }
   ],
   "source": [
    "tensor=np.arange(1,19).reshape(3,2,3)\n",
    "print(tensor)\n",
    "print(tensor.sum())"
   ]
  },
  {
   "cell_type": "code",
   "execution_count": 122,
   "id": "3c3e0d3c",
   "metadata": {},
   "outputs": [
    {
     "name": "stdout",
     "output_type": "stream",
     "text": [
      "[[21 24 27]\n",
      " [30 33 36]]\n",
      "[[ 5  7  9]\n",
      " [17 19 21]\n",
      " [29 31 33]]\n",
      "[[ 6 15]\n",
      " [24 33]\n",
      " [42 51]]\n"
     ]
    }
   ],
   "source": [
    "print(tensor.sum(axis=0))\n",
    "print(tensor.sum(axis=1))\n",
    "print(tensor.sum(axis=2))"
   ]
  },
  {
   "cell_type": "markdown",
   "id": "66651edc",
   "metadata": {},
   "source": [
    "# Mean"
   ]
  },
  {
   "cell_type": "code",
   "execution_count": 124,
   "id": "c0da10b7",
   "metadata": {},
   "outputs": [
    {
     "name": "stdout",
     "output_type": "stream",
     "text": [
      "3.5\n",
      "[2.5 3.5 4.5]\n",
      "[2. 5.]\n"
     ]
    }
   ],
   "source": [
    "print(matrix.mean())           # 전체평균\n",
    "print(matrix.mean(axis=0))     # 행끼리 평균\n",
    "print(matrix.mean(axis=1))     # 열끼리 평균"
   ]
  },
  {
   "cell_type": "code",
   "execution_count": 126,
   "id": "04a99b70",
   "metadata": {},
   "outputs": [
    {
     "data": {
      "text/plain": [
       "171"
      ]
     },
     "execution_count": 126,
     "metadata": {},
     "output_type": "execute_result"
    }
   ],
   "source": [
    "tensor.sum()         #np.sum(tensor)"
   ]
  },
  {
   "cell_type": "code",
   "execution_count": 132,
   "id": "9336a4b9",
   "metadata": {},
   "outputs": [
    {
     "name": "stdout",
     "output_type": "stream",
     "text": [
      "[[21 24 27]\n",
      " [30 33 36]]\n",
      "[[21 24 27]\n",
      " [30 33 36]]\n"
     ]
    }
   ],
   "source": [
    "print(np.sum(tensor,axis=0))\n",
    "print(tensor.sum(axis=0))"
   ]
  },
  {
   "cell_type": "code",
   "execution_count": 133,
   "id": "56600636",
   "metadata": {},
   "outputs": [
    {
     "name": "stdout",
     "output_type": "stream",
     "text": [
      "[2. 5.]\n"
     ]
    }
   ],
   "source": [
    "print(matrix.mean(axis=1))"
   ]
  },
  {
   "cell_type": "markdown",
   "id": "1662cd9e",
   "metadata": {},
   "source": [
    "# Std"
   ]
  },
  {
   "cell_type": "code",
   "execution_count": 136,
   "id": "5d69acbc",
   "metadata": {},
   "outputs": [
    {
     "name": "stdout",
     "output_type": "stream",
     "text": [
      "1.707825127659933\n",
      "[1.5 1.5 1.5]\n",
      "[0.81649658 0.81649658]\n"
     ]
    }
   ],
   "source": [
    "print(matrix.std())\n",
    "print(matrix.std(axis=0))\n",
    "print(matrix.std(axis=1))"
   ]
  },
  {
   "cell_type": "markdown",
   "id": "6fde8b17",
   "metadata": {},
   "source": [
    "# 그 외 수학 연산자\n",
    "#### 지수(exp)\n",
    "#### 로그(log)\n",
    "#### 제곱근(sqrt)\n",
    "#### 삼각함수(sin)\n",
    "#### 삼각함수(cos)\n",
    "#### 삼각함수(tan)"
   ]
  },
  {
   "cell_type": "markdown",
   "id": "e9848804",
   "metadata": {},
   "source": [
    "# 배열 정렬(Sort)"
   ]
  },
  {
   "cell_type": "code",
   "execution_count": 139,
   "id": "14c6f2f3",
   "metadata": {},
   "outputs": [
    {
     "name": "stdout",
     "output_type": "stream",
     "text": [
      "[60 31 56  4 79]\n"
     ]
    }
   ],
   "source": [
    "#randint를 사용하여 1~100 숫자 중 5개를 뽑아 배열 생성\n",
    "vector = np.array([np.random.randint(1,100)\n",
    "                  for n in range(5)])\n",
    "print(vector)"
   ]
  },
  {
   "cell_type": "code",
   "execution_count": 141,
   "id": "edefbb08",
   "metadata": {},
   "outputs": [
    {
     "name": "stdout",
     "output_type": "stream",
     "text": [
      "[ 4 31 56 60 79]\n"
     ]
    }
   ],
   "source": [
    "print(np.sort(vector))"
   ]
  },
  {
   "cell_type": "code",
   "execution_count": 143,
   "id": "c93c80d4",
   "metadata": {},
   "outputs": [
    {
     "name": "stdout",
     "output_type": "stream",
     "text": [
      "[79 60 56 31  4]\n"
     ]
    }
   ],
   "source": [
    "print(np.sort(vector)[::-1])"
   ]
  },
  {
   "cell_type": "code",
   "execution_count": 144,
   "id": "6bad2d9a",
   "metadata": {},
   "outputs": [
    {
     "data": {
      "text/plain": [
       "[0, 1, 2, 3, 4]"
      ]
     },
     "execution_count": 144,
     "metadata": {},
     "output_type": "execute_result"
    }
   ],
   "source": [
    "[i for i in range(5)]"
   ]
  },
  {
   "cell_type": "code",
   "execution_count": 149,
   "id": "a8667659",
   "metadata": {},
   "outputs": [
    {
     "data": {
      "text/plain": [
       "[3, 9, 15, 21, 27]"
      ]
     },
     "execution_count": 149,
     "metadata": {},
     "output_type": "execute_result"
    }
   ],
   "source": [
    "#리스트 내 포문\n",
    "list_ = [1,2,3,4,5,6,7,8,9,10]\n",
    "\n",
    "list2_= [num*3 for num in list_ if num % 2 ==1]\n",
    "list2_"
   ]
  },
  {
   "cell_type": "code",
   "execution_count": 151,
   "id": "8e850521",
   "metadata": {},
   "outputs": [
    {
     "name": "stdout",
     "output_type": "stream",
     "text": [
      "[[18 59 35 14 36]\n",
      " [70 30 57 33 31]\n",
      " [78 96 26 12 33]\n",
      " [ 7 22 60  8 88]]\n"
     ]
    }
   ],
   "source": [
    "matrix = np.array([np.random.randint(1,100)\n",
    "                  for n in range(20)]).reshape(4,5)\n",
    "print(matrix)"
   ]
  },
  {
   "cell_type": "code",
   "execution_count": 153,
   "id": "841bd530",
   "metadata": {},
   "outputs": [
    {
     "name": "stdout",
     "output_type": "stream",
     "text": [
      "[[14 18 35 36 59]\n",
      " [30 31 33 57 70]\n",
      " [12 26 33 78 96]\n",
      " [ 7  8 22 60 88]]\n",
      "[[ 7 22 26  8 31]\n",
      " [18 30 35 12 33]\n",
      " [70 59 57 14 36]\n",
      " [78 96 60 33 88]]\n"
     ]
    }
   ],
   "source": [
    "print(np.sort(matrix))\n",
    "print(np.sort(matrix, axis = 0))"
   ]
  },
  {
   "cell_type": "markdown",
   "id": "1008f874",
   "metadata": {},
   "source": [
    "# 배열 합치기(Vstack)\n",
    "### np.vstack([arr1,arr2])"
   ]
  },
  {
   "cell_type": "code",
   "execution_count": 156,
   "id": "257afb83",
   "metadata": {},
   "outputs": [
    {
     "name": "stdout",
     "output_type": "stream",
     "text": [
      "[[1 2 3]\n",
      " [4 5 6]]\n"
     ]
    }
   ],
   "source": [
    "vector1 = np.array([1,2,3])\n",
    "vector2 = np.array([4,5,6])\n",
    "\n",
    "print(np.vstack([vector1,vector2]))"
   ]
  },
  {
   "cell_type": "markdown",
   "id": "1ce99dd5",
   "metadata": {},
   "source": [
    "# Hstck\n",
    "### np.hstack([arr1,arr2])"
   ]
  },
  {
   "cell_type": "code",
   "execution_count": 160,
   "id": "049a7834",
   "metadata": {},
   "outputs": [
    {
     "name": "stdout",
     "output_type": "stream",
     "text": [
      "[[1 4]\n",
      " [2 5]\n",
      " [3 6]]\n"
     ]
    }
   ],
   "source": [
    "vector1 = np.array([1,2,3]).reshape(3,1)\n",
    "vector2 = np.array([4,5,6]).reshape(3,1)\n",
    "\n",
    "print(np.hstack([vector1,vector2]))"
   ]
  },
  {
   "cell_type": "markdown",
   "id": "4a9e4ca3",
   "metadata": {},
   "source": [
    "# 배열 합치기(Concatenate)\n",
    "### np.concatenate(arr1,arr2,axis)\n",
    "\n",
    "## 주피터노트북 자동완성 : tab키 (파이썬에서 ctrl+space)"
   ]
  },
  {
   "cell_type": "code",
   "execution_count": 163,
   "id": "96027891",
   "metadata": {},
   "outputs": [
    {
     "name": "stdout",
     "output_type": "stream",
     "text": [
      "[1 2 3 4 5 6]\n",
      "[[1 2 3 4 5 6]]\n"
     ]
    }
   ],
   "source": [
    "vector1 = np.array([1,2,3])\n",
    "vector2 = np.array([4,5,6])\n",
    "print(np.concatenate([vector1,vector2],axis=0))   # axis = 0 : 수평으로 합침 --> axis=1(수직) 은 오류\n",
    "\n",
    "#concatenate : 1차원 배열에서는 수직으로 합칠때(axis=1) 오류 발생\n",
    "#배열을 2차원으로 변경 후 axis=1로 성정하면 오류 해결\n",
    "\n",
    "vector1 = np.array([[1,2,3]])\n",
    "vector2 = np.array([[4,5,6]])\n",
    "print(np.concatenate([vector1,vector2],axis=1))"
   ]
  },
  {
   "cell_type": "code",
   "execution_count": 174,
   "id": "8b810d1f",
   "metadata": {},
   "outputs": [
    {
     "ename": "TypeError",
     "evalue": "'function' object is not subscriptable",
     "output_type": "error",
     "traceback": [
      "\u001b[1;31m---------------------------------------------------------------------------\u001b[0m",
      "\u001b[1;31mTypeError\u001b[0m                                 Traceback (most recent call last)",
      "Input \u001b[1;32mIn [174]\u001b[0m, in \u001b[0;36m<cell line: 4>\u001b[1;34m()\u001b[0m\n\u001b[0;32m      1\u001b[0m matrix1 \u001b[38;5;241m=\u001b[39m np\u001b[38;5;241m.\u001b[39marray([[\u001b[38;5;241m1\u001b[39m,\u001b[38;5;241m2\u001b[39m,\u001b[38;5;241m3\u001b[39m],[\u001b[38;5;241m1\u001b[39m,\u001b[38;5;241m2\u001b[39m,\u001b[38;5;241m3\u001b[39m]])\u001b[38;5;241m.\u001b[39mreshape(\u001b[38;5;241m3\u001b[39m,\u001b[38;5;241m2\u001b[39m)\n\u001b[0;32m      2\u001b[0m vector2 \u001b[38;5;241m=\u001b[39m np\u001b[38;5;241m.\u001b[39marray([[\u001b[38;5;241m4\u001b[39m,\u001b[38;5;241m5\u001b[39m,\u001b[38;5;241m6\u001b[39m]])\u001b[38;5;241m.\u001b[39mreshape(\u001b[38;5;241m3\u001b[39m,\u001b[38;5;241m1\u001b[39m)\n\u001b[1;32m----> 4\u001b[0m \u001b[38;5;28mprint\u001b[39m(\u001b[43mnp\u001b[49m\u001b[38;5;241;43m.\u001b[39;49m\u001b[43mconcatenate\u001b[49m\u001b[43m[\u001b[49m\u001b[43mmatrix1\u001b[49m\u001b[43m,\u001b[49m\u001b[43mvector2\u001b[49m\u001b[43m]\u001b[49m, axis\u001b[38;5;241m=\u001b[39m\u001b[38;5;241m0\u001b[39m)\n",
      "\u001b[1;31mTypeError\u001b[0m: 'function' object is not subscriptable"
     ]
    }
   ],
   "source": [
    "matrix1 = np.array([[1,2,3],[1,2,3]]).reshape(3,2)\n",
    "vector2 = np.array([[4,5,6]]).reshape(3,1)\n",
    "\n",
    "print(np.concatenate[matrix1,vector2], axis=0)"
   ]
  },
  {
   "cell_type": "code",
   "execution_count": 169,
   "id": "ba6d0811",
   "metadata": {},
   "outputs": [
    {
     "name": "stdout",
     "output_type": "stream",
     "text": [
      "[[1 2 5 6]\n",
      " [3 4 7 8]]\n"
     ]
    }
   ],
   "source": [
    "matrix1 = np.arange(1,5).reshape(2,2)\n",
    "matrix2 = np.arange(5,9).reshape(2,2)\n",
    "print(np.concatenate([matrix1,matrix2],axis=1))"
   ]
  },
  {
   "cell_type": "markdown",
   "id": "e9bf148f",
   "metadata": {},
   "source": [
    "# 행 / 열 바꾸기(transpose)\n",
    "### ndarray.tranpose()\n",
    "### ndarray.T"
   ]
  },
  {
   "cell_type": "code",
   "execution_count": 176,
   "id": "8e73dffc",
   "metadata": {},
   "outputs": [
    {
     "name": "stdout",
     "output_type": "stream",
     "text": [
      "[[5 6]]\n"
     ]
    }
   ],
   "source": [
    "matrix3 = np.array([[5,6]])\n",
    "print(matrix3)"
   ]
  },
  {
   "cell_type": "code",
   "execution_count": 181,
   "id": "30284cdd",
   "metadata": {},
   "outputs": [
    {
     "name": "stdout",
     "output_type": "stream",
     "text": [
      "(1, 2) (2, 1)\n",
      "[[5]\n",
      " [6]]\n",
      "[[5]\n",
      " [6]]\n"
     ]
    }
   ],
   "source": [
    "print(matrix3.shape,matrix3.transpose().shape)\n",
    "print(matrix3.transpose())\n",
    "print(matrix3.T)"
   ]
  },
  {
   "cell_type": "code",
   "execution_count": 184,
   "id": "ad071eaa",
   "metadata": {},
   "outputs": [
    {
     "data": {
      "text/plain": [
       "(2, 1, 1)"
      ]
     },
     "execution_count": 184,
     "metadata": {},
     "output_type": "execute_result"
    }
   ],
   "source": [
    "np.array([[[5,6]]]).T.shape"
   ]
  },
  {
   "cell_type": "markdown",
   "id": "5c44af7a",
   "metadata": {},
   "source": [
    "# Transpose + Concatenate\n",
    "- 형태를 바꿔 서로 결합할 수 없는 배열을 합칠 수 있다"
   ]
  },
  {
   "cell_type": "code",
   "execution_count": 230,
   "id": "1ad2658c",
   "metadata": {},
   "outputs": [
    {
     "name": "stdout",
     "output_type": "stream",
     "text": [
      "[[1 2]\n",
      " [3 1]\n",
      " [2 3]\n",
      " [5 6]]\n"
     ]
    }
   ],
   "source": [
    "print(np.concatenate([matrix1,matrix3]))"
   ]
  },
  {
   "cell_type": "code",
   "execution_count": 221,
   "id": "e3a45fc0",
   "metadata": {},
   "outputs": [
    {
     "name": "stdout",
     "output_type": "stream",
     "text": [
      "[[1 2]\n",
      " [3 1]\n",
      " [2 3]\n",
      " [5 6]]\n"
     ]
    }
   ],
   "source": [
    "print(np.concatenate([matrix1,matrix3],axis = 0))\n",
    "\n",
    "# matrix1은 2 x 2 행렬  matrix3는 1행 2열 행렬\n",
    "# 수평으로 결합(axis=1)하려면 행의 개수가 동일해야함 --> 결합이 안되므로 오류 발생"
   ]
  },
  {
   "cell_type": "code",
   "execution_count": 224,
   "id": "ede3761a",
   "metadata": {},
   "outputs": [
    {
     "ename": "ValueError",
     "evalue": "all the input array dimensions for the concatenation axis must match exactly, but along dimension 1, the array at index 0 has size 2 and the array at index 1 has size 1",
     "output_type": "error",
     "traceback": [
      "\u001b[1;31m---------------------------------------------------------------------------\u001b[0m",
      "\u001b[1;31mValueError\u001b[0m                                Traceback (most recent call last)",
      "Input \u001b[1;32mIn [224]\u001b[0m, in \u001b[0;36m<cell line: 1>\u001b[1;34m()\u001b[0m\n\u001b[1;32m----> 1\u001b[0m \u001b[38;5;28mprint\u001b[39m(\u001b[43mnp\u001b[49m\u001b[38;5;241;43m.\u001b[39;49m\u001b[43mconcatenate\u001b[49m\u001b[43m(\u001b[49m\u001b[43m[\u001b[49m\u001b[43mmatrix1\u001b[49m\u001b[43m,\u001b[49m\u001b[43m \u001b[49m\u001b[43mmatrix3\u001b[49m\u001b[38;5;241;43m.\u001b[39;49m\u001b[43mT\u001b[49m\u001b[43m]\u001b[49m\u001b[43m,\u001b[49m\u001b[43m \u001b[49m\u001b[43maxis\u001b[49m\u001b[38;5;241;43m=\u001b[39;49m\u001b[38;5;241;43m0\u001b[39;49m\u001b[43m)\u001b[49m)\n",
      "File \u001b[1;32m<__array_function__ internals>:5\u001b[0m, in \u001b[0;36mconcatenate\u001b[1;34m(*args, **kwargs)\u001b[0m\n",
      "\u001b[1;31mValueError\u001b[0m: all the input array dimensions for the concatenation axis must match exactly, but along dimension 1, the array at index 0 has size 2 and the array at index 1 has size 1"
     ]
    }
   ],
   "source": [
    "print(np.concatenate([matrix1, matrix3.T], axis=0))"
   ]
  },
  {
   "cell_type": "markdown",
   "id": "16320df4",
   "metadata": {},
   "source": [
    "# 인덱스 반환 함수\n",
    "- argmax, agrmin"
   ]
  },
  {
   "cell_type": "code",
   "execution_count": 199,
   "id": "1e3b4c95",
   "metadata": {},
   "outputs": [
    {
     "name": "stdout",
     "output_type": "stream",
     "text": [
      "[[ 1  2  3  4  5]\n",
      " [ 6  7  8  9 10]]\n"
     ]
    }
   ],
   "source": [
    "a = np.arange(1,11).reshape(2,5)\n",
    "print(a)"
   ]
  },
  {
   "cell_type": "code",
   "execution_count": 201,
   "id": "3d7c7825",
   "metadata": {},
   "outputs": [
    {
     "name": "stdout",
     "output_type": "stream",
     "text": [
      "9 0\n"
     ]
    }
   ],
   "source": [
    "print(np.argmax(a),np.argmin(a))"
   ]
  },
  {
   "cell_type": "code",
   "execution_count": 207,
   "id": "8a6b5dd5",
   "metadata": {},
   "outputs": [
    {
     "name": "stdout",
     "output_type": "stream",
     "text": [
      "[1 1 1 1 1]\n"
     ]
    }
   ],
   "source": [
    "print(np.argmax(a,axis=0))"
   ]
  },
  {
   "cell_type": "code",
   "execution_count": 210,
   "id": "ce839399",
   "metadata": {
    "scrolled": true
   },
   "outputs": [
    {
     "name": "stdout",
     "output_type": "stream",
     "text": [
      "[[1 2 3 4]\n",
      " [2 3 4 1]\n",
      " [3 4 1 2]]\n",
      "[3 2 1]\n",
      "[2 2 1 0]\n"
     ]
    }
   ],
   "source": [
    "b = np.array([[1,2,3,4],[2,3,4,1],[3,4,1,2]])\n",
    "print(b)\n",
    "print(np.argmax(b,axis=1))\n",
    "print(np.argmax(b,axis=0))"
   ]
  },
  {
   "cell_type": "markdown",
   "id": "271b00ba",
   "metadata": {},
   "source": [
    "# 배열 인덱싱(Fancy Index)"
   ]
  },
  {
   "cell_type": "code",
   "execution_count": 212,
   "id": "7406a1e4",
   "metadata": {},
   "outputs": [
    {
     "name": "stdout",
     "output_type": "stream",
     "text": [
      "[ 1  2  3  4  5  6  7  8  9 10]\n",
      "[3 4 5 6]\n"
     ]
    }
   ],
   "source": [
    "a = np.arange(1,11)\n",
    "b = np.array([3,4,5,6])\n",
    "print(a)\n",
    "print(b)"
   ]
  },
  {
   "cell_type": "code",
   "execution_count": 214,
   "id": "ec888e09",
   "metadata": {},
   "outputs": [
    {
     "name": "stdout",
     "output_type": "stream",
     "text": [
      "[4 5 6 7]\n"
     ]
    }
   ],
   "source": [
    "print(a[b])"
   ]
  },
  {
   "cell_type": "code",
   "execution_count": 216,
   "id": "5bbbe9bd",
   "metadata": {},
   "outputs": [
    {
     "name": "stdout",
     "output_type": "stream",
     "text": [
      "[10 11 12 13 14 15 16 17 18 19]\n",
      "9\n"
     ]
    }
   ],
   "source": [
    "a = np.arange(10,20)\n",
    "b = np.argmax(a)\n",
    "print(a)\n",
    "print(b)"
   ]
  },
  {
   "cell_type": "code",
   "execution_count": 217,
   "id": "34989c8b",
   "metadata": {},
   "outputs": [
    {
     "name": "stdout",
     "output_type": "stream",
     "text": [
      "19\n"
     ]
    }
   ],
   "source": [
    "print(a[b])"
   ]
  }
 ],
 "metadata": {
  "kernelspec": {
   "display_name": "Python 3 (ipykernel)",
   "language": "python",
   "name": "python3"
  },
  "language_info": {
   "codemirror_mode": {
    "name": "ipython",
    "version": 3
   },
   "file_extension": ".py",
   "mimetype": "text/x-python",
   "name": "python",
   "nbconvert_exporter": "python",
   "pygments_lexer": "ipython3",
   "version": "3.9.12"
  }
 },
 "nbformat": 4,
 "nbformat_minor": 5
}
