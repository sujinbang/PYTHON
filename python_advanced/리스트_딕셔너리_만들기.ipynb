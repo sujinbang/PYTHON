{
 "cells": [
  {
   "cell_type": "code",
   "execution_count": 19,
   "id": "13f5211e",
   "metadata": {},
   "outputs": [],
   "source": [
    "import pandas as pd"
   ]
  },
  {
   "cell_type": "code",
   "execution_count": 45,
   "id": "7166009e",
   "metadata": {},
   "outputs": [],
   "source": [
    "row = [(1,2,3),(4,5,6)]\n",
    "col_name = ['no1','no2','no3']"
   ]
  },
  {
   "cell_type": "code",
   "execution_count": 50,
   "id": "b7443706",
   "metadata": {},
   "outputs": [
    {
     "name": "stdout",
     "output_type": "stream",
     "text": [
      "(1, 2, 3)\n",
      "1\n",
      "2\n",
      "3\n",
      "{'no1': 1, 'no2': 2, 'no3': 3}\n",
      "(4, 5, 6)\n",
      "4\n",
      "5\n",
      "6\n",
      "{'no1': 4, 'no2': 5, 'no3': 6}\n"
     ]
    },
    {
     "data": {
      "text/plain": [
       "[{'no1': 1, 'no2': 2, 'no3': 3}, {'no1': 4, 'no2': 5, 'no3': 6}]"
      ]
     },
     "execution_count": 50,
     "metadata": {},
     "output_type": "execute_result"
    }
   ],
   "source": [
    "# 딕셔너리 전체를 담을 리스트 변수\n",
    "list_row = []\n",
    "\n",
    "for tup in row:\n",
    "    print(tup)\n",
    "    dict_row = {}\n",
    "    \n",
    "    for i in range(0, len(tup)):\n",
    "        print(tup[i])\n",
    "        dict_row[col_name[i]] = tup[i]\n",
    "    print(dict_row)\n",
    "    list_row.append(dict_row)\n",
    "list_row"
   ]
  },
  {
   "cell_type": "code",
   "execution_count": 9,
   "id": "d9a2b3e4",
   "metadata": {},
   "outputs": [
    {
     "data": {
      "text/plain": [
       "1"
      ]
     },
     "execution_count": 9,
     "metadata": {},
     "output_type": "execute_result"
    }
   ],
   "source": [
    "a[0][0]"
   ]
  }
 ],
 "metadata": {
  "kernelspec": {
   "display_name": "Python 3 (ipykernel)",
   "language": "python",
   "name": "python3"
  },
  "language_info": {
   "codemirror_mode": {
    "name": "ipython",
    "version": 3
   },
   "file_extension": ".py",
   "mimetype": "text/x-python",
   "name": "python",
   "nbconvert_exporter": "python",
   "pygments_lexer": "ipython3",
   "version": "3.9.12"
  }
 },
 "nbformat": 4,
 "nbformat_minor": 5
}
