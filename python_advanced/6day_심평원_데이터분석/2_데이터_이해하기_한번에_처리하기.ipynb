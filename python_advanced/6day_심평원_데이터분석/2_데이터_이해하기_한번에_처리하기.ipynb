{
 "cells": [
  {
   "cell_type": "code",
   "execution_count": 6,
   "id": "d719dde9",
   "metadata": {},
   "outputs": [],
   "source": [
    "#참고로 [변수명]은 문자열처럼 [포맷 처리가 안됩]니다\n",
    "import pandas as pd"
   ]
  },
  {
   "cell_type": "code",
   "execution_count": 79,
   "id": "a107760c",
   "metadata": {},
   "outputs": [],
   "source": [
    "# 4개 데이터 기준값\n",
    "nm_list = [\"20\",\"30\",\"40\",\"53\"]\n",
    "\n",
    "# 4개 엑셀 시트 기준값\n",
    "sheet_list = [\"20table_명세서일반내역\",\n",
    "              \"30table_진료내역\",\n",
    "              \"40table_상병\",\n",
    "              \"53table_처방전상세내역\"\n",
    "             ]\n",
    "\n",
    "# 전체 파일 읽기\n",
    "# 4개의 데이터 프레임 지정\n",
    "# 4개의 시트 조회값 저장\n",
    "\n",
    "df_dict = {}\n",
    "df_col_dict = {}\n",
    "\n",
    "for i in range(0, len(nm_list),1): \n",
    "    df_dict[nm_list[i]] = pd.read_csv(\"./files_org/SAMPLE_DB_{}TABLE_2013.txt\".format(nm_list[i]), sep=\",\")\n",
    "\n",
    "    df_col_dict[nm_list[i]] = pd.read_excel(\"./files_org/표본자료 변수 테이블(2012-2013).xlsx\", \n",
    "                               sheet_name = sheet_list[i],\n",
    "                               usecols=\"A,D\")\n",
    "    new_dict = {}\n",
    "    #{20:dataframe, 30:dataframe}\n",
    "    \n",
    "    for j in range(0, len(df_col_dict[nm_list[i]])):\n",
    "        new_dict[ df_col_dict[nm_list[i]].to_dict(\"records\")[j]['변수명'] ] = \\\n",
    "        df_col_dict[nm_list[i]].to_dict(\"records\")[j]['표준한글컬럼명']\n",
    "        \n",
    "    df_dict[nm_list[i]].rename(columns = new_dict).to_excel(\n",
    "        \"./files_new2/df_kor_{}.xlsx\".format(sheet_list[i]), index=False\n",
    "    )\n"
   ]
  },
  {
   "cell_type": "code",
   "execution_count": null,
   "id": "1273af50",
   "metadata": {},
   "outputs": [],
   "source": []
  }
 ],
 "metadata": {
  "kernelspec": {
   "display_name": "Python 3 (ipykernel)",
   "language": "python",
   "name": "python3"
  },
  "language_info": {
   "codemirror_mode": {
    "name": "ipython",
    "version": 3
   },
   "file_extension": ".py",
   "mimetype": "text/x-python",
   "name": "python",
   "nbconvert_exporter": "python",
   "pygments_lexer": "ipython3",
   "version": "3.9.12"
  }
 },
 "nbformat": 4,
 "nbformat_minor": 5
}
