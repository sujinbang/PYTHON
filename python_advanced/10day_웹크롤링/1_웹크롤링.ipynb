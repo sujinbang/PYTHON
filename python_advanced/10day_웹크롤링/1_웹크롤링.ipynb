{
 "cells": [
  {
   "cell_type": "markdown",
   "id": "11f2bb00-d8b3-4198-9478-bd032db08a00",
   "metadata": {
    "tags": []
   },
   "source": [
    "### 웹크롤링"
   ]
  },
  {
   "cell_type": "code",
   "execution_count": 1,
   "id": "fcd5531a-1d36-4927-8b43-c09800418ab3",
   "metadata": {},
   "outputs": [],
   "source": [
    "from bs4 import BeautifulSoup as bs\n",
    "import requests"
   ]
  },
  {
   "attachments": {
    "ff6ea516-22f0-43ab-8c6e-5accf14c64f3.png": {
     "image/png": "[encoded data removed]"
    }
   },
   "cell_type": "markdown",
   "id": "c3430f81-edb2-4d8a-8fb9-c094cd9727e4",
   "metadata": {},
   "source": [
    "### selenium 설치\n",
    "![image.png](attachment:ff6ea516-22f0-43ab-8c6e-5accf14c64f3.png)"
   ]
  },
  {
   "cell_type": "code",
   "execution_count": 2,
   "id": "5ba65a39-6646-4bee-b668-187cbc5e64c9",
   "metadata": {},
   "outputs": [],
   "source": [
    "# 웹 드라이버 라이브러리\n",
    "from selenium import webdriver"
   ]
  },
  {
   "cell_type": "code",
   "execution_count": 3,
   "id": "4b5c8a30-33b5-4815-9c8f-651765183f0c",
   "metadata": {},
   "outputs": [
    {
     "name": "stderr",
     "output_type": "stream",
     "text": [
      "C:\\Users\\admin\\AppData\\Local\\Temp\\ipykernel_8676\\1652052964.py:1: DeprecationWarning: executable_path has been deprecated, please pass in a Service object\n",
      "  driver = webdriver.Chrome(\"C:/ChromeDriver_exe/chromedriver_102.exe\")\n"
     ]
    }
   ],
   "source": [
    "driver = webdriver.Chrome(\"C:/ChromeDriver_exe/chromedriver_102.exe\")"
   ]
  },
  {
   "cell_type": "code",
   "execution_count": 4,
   "id": "1e84625b-0d32-49b6-b029-f4fafd0ae352",
   "metadata": {},
   "outputs": [],
   "source": [
    "driver.get(\"https://www.naver.com\")"
   ]
  },
  {
   "cell_type": "code",
   "execution_count": 5,
   "id": "ca99e193-ddd9-4e12-b91b-cd47010b75a9",
   "metadata": {},
   "outputs": [],
   "source": [
    "html = driver.page_source\n",
    "#html"
   ]
  },
  {
   "cell_type": "code",
   "execution_count": 6,
   "id": "df10db47-f068-4349-9627-9426f1546679",
   "metadata": {},
   "outputs": [
    {
     "data": {
      "text/plain": [
       "\"\\n<html>\\n<head>\\n<title>테스트 페이지 입니다...</title>\\n</head>\\n    <body>\\n    <h1> 우리동네시장</h1>\\n        <div class = 'sale'>\\n            <p id='fruits1' class='fruits'>\\n                <span class = 'name'> 바나나 </span>\\n                <span class = 'price'> 3000원 </span>\\n                <span class = 'inventory'> 500개 </span>\\n                <span class = 'store'> 가나다상회 </span>\\n                <a href = 'http://bit.ly/forPlaywithData' > 홈페이지 </a>\\n            </p>\\n        </div>\\n        <div class = 'prepare'>\\n            <p id='fruits2' class='fruits'>\\n                <span class ='name'> 파인애플 </span>\\n            </p>\\n        </div>\\n    </body>\\n</html>\\n\""
      ]
     },
     "execution_count": 6,
     "metadata": {},
     "output_type": "execute_result"
    }
   ],
   "source": [
    "# html 변수에 html 문서를 문자열로 지정\n",
    "html = \"\"\"\n",
    "<html>\n",
    "<head>\n",
    "<title>테스트 페이지 입니다...</title>\n",
    "</head>\n",
    "    <body>\n",
    "    <h1> 우리동네시장</h1>\n",
    "        <div class = 'sale'>\n",
    "            <p id='fruits1' class='fruits'>\n",
    "                <span class = 'name'> 바나나 </span>\n",
    "                <span class = 'price'> 3000원 </span>\n",
    "                <span class = 'inventory'> 500개 </span>\n",
    "                <span class = 'store'> 가나다상회 </span>\n",
    "                <a href = 'http://bit.ly/forPlaywithData' > 홈페이지 </a>\n",
    "            </p>\n",
    "        </div>\n",
    "        <div class = 'prepare'>\n",
    "            <p id='fruits2' class='fruits'>\n",
    "                <span class ='name'> 파인애플 </span>\n",
    "            </p>\n",
    "        </div>\n",
    "    </body>\n",
    "</html>\n",
    "\"\"\"\n",
    "html"
   ]
  },
  {
   "cell_type": "code",
   "execution_count": 7,
   "id": "0531dba8-e6a2-4ee1-a14c-f1cd5a006d09",
   "metadata": {},
   "outputs": [
    {
     "data": {
      "text/plain": [
       "\n",
       "<html>\n",
       "<head>\n",
       "<title>테스트 페이지 입니다...</title>\n",
       "</head>\n",
       "<body>\n",
       "<h1> 우리동네시장</h1>\n",
       "<div class=\"sale\">\n",
       "<p class=\"fruits\" id=\"fruits1\">\n",
       "<span class=\"name\"> 바나나 </span>\n",
       "<span class=\"price\"> 3000원 </span>\n",
       "<span class=\"inventory\"> 500개 </span>\n",
       "<span class=\"store\"> 가나다상회 </span>\n",
       "<a href=\"http://bit.ly/forPlaywithData\"> 홈페이지 </a>\n",
       "</p>\n",
       "</div>\n",
       "<div class=\"prepare\">\n",
       "<p class=\"fruits\" id=\"fruits2\">\n",
       "<span class=\"name\"> 파인애플 </span>\n",
       "</p>\n",
       "</div>\n",
       "</body>\n",
       "</html>"
      ]
     },
     "execution_count": 7,
     "metadata": {},
     "output_type": "execute_result"
    }
   ],
   "source": [
    "# 문자열(변수 html)을 의미있는 값으로 구현\n",
    "soup = bs(html, \"html.parser\")\n",
    "soup"
   ]
  },
  {
   "cell_type": "markdown",
   "id": "0bafe0ea-8bc2-4cd4-85b5-a49c7e0f2de2",
   "metadata": {},
   "source": [
    "### HTML 정보 찾기 -> 태그 이름 활용"
   ]
  },
  {
   "cell_type": "code",
   "execution_count": 8,
   "id": "26457c58-b0ef-4cf2-9c4c-08cfbf9cf397",
   "metadata": {},
   "outputs": [
    {
     "data": {
      "text/plain": [
       "[<span class=\"name\"> 바나나 </span>,\n",
       " <span class=\"price\"> 3000원 </span>,\n",
       " <span class=\"inventory\"> 500개 </span>,\n",
       " <span class=\"store\"> 가나다상회 </span>,\n",
       " <span class=\"name\"> 파인애플 </span>]"
      ]
     },
     "execution_count": 8,
     "metadata": {},
     "output_type": "execute_result"
    }
   ],
   "source": [
    "# 태그 중에 span 이라는 이름을 가지는 모든 것 조회\n",
    "# select의 결과는 리스트로 출력\n",
    "soup.select(\"span\")"
   ]
  },
  {
   "cell_type": "code",
   "execution_count": 9,
   "id": "2c9b0704-6d32-47f7-976b-619268b09dca",
   "metadata": {},
   "outputs": [
    {
     "data": {
      "text/plain": [
       "[<p class=\"fruits\" id=\"fruits1\">\n",
       " <span class=\"name\"> 바나나 </span>\n",
       " <span class=\"price\"> 3000원 </span>\n",
       " <span class=\"inventory\"> 500개 </span>\n",
       " <span class=\"store\"> 가나다상회 </span>\n",
       " <a href=\"http://bit.ly/forPlaywithData\"> 홈페이지 </a>\n",
       " </p>,\n",
       " <p class=\"fruits\" id=\"fruits2\">\n",
       " <span class=\"name\"> 파인애플 </span>\n",
       " </p>]"
      ]
     },
     "execution_count": 9,
     "metadata": {},
     "output_type": "execute_result"
    }
   ],
   "source": [
    "soup.select(\"p\")"
   ]
  },
  {
   "cell_type": "markdown",
   "id": "8317cc03-f299-4d14-a8f4-4b988cbc7037",
   "metadata": {},
   "source": [
    "- 멤버들에 접근\n",
    "    - id : #\n",
    "    - class : .\n",
    "    \n",
    "    \n",
    "- 자식을 호출 : >\n",
    "- 자손을 호출 :  (space)"
   ]
  },
  {
   "cell_type": "code",
   "execution_count": 10,
   "id": "4187e1d1-339e-4d4a-860a-1f02fc8d1f7e",
   "metadata": {},
   "outputs": [
    {
     "data": {
      "text/plain": [
       "[<p class=\"fruits\" id=\"fruits1\">\n",
       " <span class=\"name\"> 바나나 </span>\n",
       " <span class=\"price\"> 3000원 </span>\n",
       " <span class=\"inventory\"> 500개 </span>\n",
       " <span class=\"store\"> 가나다상회 </span>\n",
       " <a href=\"http://bit.ly/forPlaywithData\"> 홈페이지 </a>\n",
       " </p>]"
      ]
     },
     "execution_count": 10,
     "metadata": {},
     "output_type": "execute_result"
    }
   ],
   "source": [
    "# id 속성의 값이 fruits1이 들어 있는 태그의 시작과 끝까지의 모든 태그 조회\n",
    "soup.select(\"#fruits1\")  "
   ]
  },
  {
   "cell_type": "code",
   "execution_count": 11,
   "id": "df14fa3a-bf32-4078-ad4f-5be67a1956cd",
   "metadata": {},
   "outputs": [
    {
     "data": {
      "text/plain": [
       "[<span class=\"price\"> 3000원 </span>]"
      ]
     },
     "execution_count": 11,
     "metadata": {},
     "output_type": "execute_result"
    }
   ],
   "source": [
    "# class 이름이 price인 것을 조회\n",
    "soup.select(\".price\")"
   ]
  },
  {
   "cell_type": "code",
   "execution_count": 12,
   "id": "e14e2a40-5702-4470-a1f4-6e874b8455c5",
   "metadata": {},
   "outputs": [
    {
     "data": {
      "text/plain": [
       "[<span class=\"name\"> 바나나 </span>, <span class=\"name\"> 파인애플 </span>]"
      ]
     },
     "execution_count": 12,
     "metadata": {},
     "output_type": "execute_result"
    }
   ],
   "source": [
    "# span 태그 중에 class 이름이 name 인 것을 조회\n",
    "soup.select(\"span.name\")"
   ]
  },
  {
   "cell_type": "code",
   "execution_count": 13,
   "id": "9642a2cb-5c0c-4ca5-997c-9aa439473cd7",
   "metadata": {},
   "outputs": [
    {
     "data": {
      "text/plain": [
       "[<span class=\"name\"> 바나나 </span>]"
      ]
     },
     "execution_count": 13,
     "metadata": {},
     "output_type": "execute_result"
    }
   ],
   "source": [
    "soup.select(\"#fruits1 > span.name\")"
   ]
  },
  {
   "cell_type": "code",
   "execution_count": 14,
   "id": "b1475e8e-d1e9-49bb-a4f8-c002cdc12afe",
   "metadata": {},
   "outputs": [
    {
     "data": {
      "text/plain": [
       "[<span class=\"name\"> 바나나 </span>]"
      ]
     },
     "execution_count": 14,
     "metadata": {},
     "output_type": "execute_result"
    }
   ],
   "source": [
    "# 태그명이 div 이면서 class 이름이 sale인 태그의 자식 중에 아이디 이름이 fruits1인 \n",
    "# 태그 밑에 있는 자식에 대한 태크명이 span이면서 클래스 이름이 name인 태그 모두 찾기\n",
    "\n",
    "soup.select(\"div.sale > #fruits1 > span.name\")\n"
   ]
  },
  {
   "cell_type": "code",
   "execution_count": 15,
   "id": "44626668-58dd-42fd-b768-78e706ce148b",
   "metadata": {},
   "outputs": [
    {
     "data": {
      "text/plain": [
       "' 바나나 '"
      ]
     },
     "execution_count": 15,
     "metadata": {},
     "output_type": "execute_result"
    }
   ],
   "source": [
    "# 자손을 호출\n",
    "soup.select(\"div.sale span.name\")[0].text"
   ]
  },
  {
   "cell_type": "code",
   "execution_count": 16,
   "id": "7ed07fd8-eb76-4c4b-a649-614af3a06315",
   "metadata": {},
   "outputs": [
    {
     "data": {
      "text/plain": [
       "['name']"
      ]
     },
     "execution_count": 16,
     "metadata": {},
     "output_type": "execute_result"
    }
   ],
   "source": [
    "# class의 key값을 가져와라\n",
    "soup.select(\"div.sale span.name\")[0][\"class\"]"
   ]
  },
  {
   "cell_type": "code",
   "execution_count": 17,
   "id": "d18974a8-83b6-44e3-a5e6-9626de50f0e9",
   "metadata": {},
   "outputs": [
    {
     "data": {
      "text/plain": [
       "'http://bit.ly/forPlaywithData'"
      ]
     },
     "execution_count": 17,
     "metadata": {},
     "output_type": "execute_result"
    }
   ],
   "source": [
    "# a 태그 조회\n",
    "# a 태그의 href는 링크 정보\n",
    "soup.select(\"a\")[0][\"href\"]"
   ]
  },
  {
   "attachments": {
    "cb62d3db-e11d-4268-bed4-16f5c98345d9.png": {
     "image/png": "[encoded data removed]"
    }
   },
   "cell_type": "markdown",
   "id": "7de62fd5-5f67-40f8-91f0-e2d8cd703d69",
   "metadata": {},
   "source": [
    "#### 웹크롤링 사용시 주의사항\n",
    " - url 경로 뒤에 /robots.txt로 확인\n",
    " - ![image.png](attachment:cb62d3db-e11d-4268-bed4-16f5c98345d9.png)"
   ]
  },
  {
   "cell_type": "markdown",
   "id": "9646dfa3-73bb-4206-be50-254268820e83",
   "metadata": {},
   "source": [
    "### 멜론 노래 순위 정보 크롤링"
   ]
  },
  {
   "cell_type": "code",
   "execution_count": 18,
   "id": "84ddecfc-619e-4712-a003-ecc0f16484ab",
   "metadata": {},
   "outputs": [],
   "source": [
    "url = \"http://www.melon.com/chart/index.htm\""
   ]
  },
  {
   "cell_type": "code",
   "execution_count": 19,
   "id": "1f1cf301-e1e9-452d-b7d2-f4a83d547db5",
   "metadata": {},
   "outputs": [
    {
     "name": "stderr",
     "output_type": "stream",
     "text": [
      "C:\\Users\\admin\\AppData\\Local\\Temp\\ipykernel_8676\\2145615864.py:1: DeprecationWarning: executable_path has been deprecated, please pass in a Service object\n",
      "  driver = webdriver.Chrome(\"C:/ChromeDriver_exe/chromedriver_102.exe\")\n"
     ]
    }
   ],
   "source": [
    "driver = webdriver.Chrome(\"C:/ChromeDriver_exe/chromedriver_102.exe\")\n",
    "driver.get(url)\n",
    "html = driver.page_source\n",
    "#html"
   ]
  },
  {
   "cell_type": "code",
   "execution_count": 76,
   "id": "a987c365-5cd8-4b80-866c-23f2562ba93e",
   "metadata": {},
   "outputs": [],
   "source": [
    "soup = bs(html, \"html.parser\")\n",
    "#soup"
   ]
  },
  {
   "cell_type": "code",
   "execution_count": 95,
   "id": "33cedde6-2354-49b9-9e73-a53ea6afe390",
   "metadata": {},
   "outputs": [
    {
     "data": {
      "text/plain": [
       "'LOVE DIVE'"
      ]
     },
     "execution_count": 95,
     "metadata": {},
     "output_type": "execute_result"
    }
   ],
   "source": [
    "soup.select(\"div#wrap > div.clfix > div.my_fold >\\\n",
    "            div#conts > div#tb_list > form >\\\n",
    "            div.service_list_song > table > tbody > tr > td >\\\n",
    "            div.wrap > div.wrap_song_info > div.ellipsis\")[0].text.replace(\"\\n\",\"\")"
   ]
  },
  {
   "cell_type": "code",
   "execution_count": 99,
   "id": "1b35ae85-6aab-4796-b039-32bf62098242",
   "metadata": {},
   "outputs": [
    {
     "data": {
      "text/plain": [
       "'IVE (아이브)'"
      ]
     },
     "execution_count": 99,
     "metadata": {},
     "output_type": "execute_result"
    }
   ],
   "source": [
    "soup.select(\"div#wrap > div.clfix > div.my_fold >\\\n",
    "            div#conts > div#tb_list > form >\\\n",
    "            div.service_list_song > table > tbody > tr > td >\\\n",
    "            div.wrap > div.wrap_song_info > div.ellipsis.rank02 > a\")[0].text"
   ]
  },
  {
   "cell_type": "code",
   "execution_count": 104,
   "id": "7c12b5c3-397e-498d-9f5e-5a830a5dc433",
   "metadata": {},
   "outputs": [
    {
     "data": {
      "text/plain": [
       "'\\nLOVE DIVE\\n'"
      ]
     },
     "execution_count": 104,
     "metadata": {},
     "output_type": "execute_result"
    }
   ],
   "source": [
    "soup.select(\"div#wrap > div.clfix > div.my_fold >\\\n",
    "            div#conts > div#tb_list > form >\\\n",
    "            div.service_list_song > table > tbody > tr > td >\\\n",
    "            div.wrap > div.wrap_song_info > div.ellipsis\")[2].text"
   ]
  },
  {
   "cell_type": "code",
   "execution_count": 103,
   "id": "afa43924-3154-4851-a9ee-f508629c525d",
   "metadata": {},
   "outputs": [
    {
     "data": {
      "text/html": [
       "<div>\n",
       "<style scoped>\n",
       "    .dataframe tbody tr th:only-of-type {\n",
       "        vertical-align: middle;\n",
       "    }\n",
       "\n",
       "    .dataframe tbody tr th {\n",
       "        vertical-align: top;\n",
       "    }\n",
       "\n",
       "    .dataframe thead th {\n",
       "        text-align: right;\n",
       "    }\n",
       "</style>\n",
       "<table border=\"1\" class=\"dataframe\">\n",
       "  <thead>\n",
       "    <tr style=\"text-align: right;\">\n",
       "      <th></th>\n",
       "      <th>순위</th>\n",
       "      <th>곡이름</th>\n",
       "      <th>가수명</th>\n",
       "      <th>앨범명</th>\n",
       "    </tr>\n",
       "  </thead>\n",
       "  <tbody>\n",
       "    <tr>\n",
       "      <th>0</th>\n",
       "      <td>1</td>\n",
       "      <td>LOVE DIVE</td>\n",
       "      <td>IVE (아이브)</td>\n",
       "      <td>LOVE DIVE</td>\n",
       "    </tr>\n",
       "    <tr>\n",
       "      <th>1</th>\n",
       "      <td>2</td>\n",
       "      <td>TOMBOY</td>\n",
       "      <td>(여자)아이들</td>\n",
       "      <td>I NEVER DIE</td>\n",
       "    </tr>\n",
       "    <tr>\n",
       "      <th>2</th>\n",
       "      <td>3</td>\n",
       "      <td>That That (prod. &amp; feat. SUGA of BTS)</td>\n",
       "      <td>싸이 (PSY)</td>\n",
       "      <td>싸다9</td>\n",
       "    </tr>\n",
       "    <tr>\n",
       "      <th>3</th>\n",
       "      <td>4</td>\n",
       "      <td>사랑인가 봐</td>\n",
       "      <td>멜로망스</td>\n",
       "      <td>사랑인가 봐 (사내맞선 OST 스페셜 트랙)</td>\n",
       "    </tr>\n",
       "    <tr>\n",
       "      <th>4</th>\n",
       "      <td>5</td>\n",
       "      <td>우리들의 블루스</td>\n",
       "      <td>임영웅</td>\n",
       "      <td>IM HERO</td>\n",
       "    </tr>\n",
       "    <tr>\n",
       "      <th>5</th>\n",
       "      <td>6</td>\n",
       "      <td>사랑은 늘 도망가</td>\n",
       "      <td>임영웅</td>\n",
       "      <td>신사와 아가씨 OST Part.2</td>\n",
       "    </tr>\n",
       "    <tr>\n",
       "      <th>6</th>\n",
       "      <td>7</td>\n",
       "      <td>Yet To Come</td>\n",
       "      <td>방탄소년단</td>\n",
       "      <td>Proof</td>\n",
       "    </tr>\n",
       "    <tr>\n",
       "      <th>7</th>\n",
       "      <td>8</td>\n",
       "      <td>정이라고 하자 (Feat. 10CM)</td>\n",
       "      <td>BIG Naughty (서동현)</td>\n",
       "      <td>정이라고 하자</td>\n",
       "    </tr>\n",
       "    <tr>\n",
       "      <th>8</th>\n",
       "      <td>9</td>\n",
       "      <td>봄여름가을겨울 (Still Life)</td>\n",
       "      <td>BIGBANG (빅뱅)</td>\n",
       "      <td>봄여름가을겨울 (Still Life)</td>\n",
       "    </tr>\n",
       "    <tr>\n",
       "      <th>9</th>\n",
       "      <td>10</td>\n",
       "      <td>다시 만날 수 있을까</td>\n",
       "      <td>임영웅</td>\n",
       "      <td>IM HERO</td>\n",
       "    </tr>\n",
       "  </tbody>\n",
       "</table>\n",
       "</div>"
      ],
      "text/plain": [
       "   순위                                    곡이름                가수명  \\\n",
       "0   1                              LOVE DIVE          IVE (아이브)   \n",
       "1   2                                 TOMBOY            (여자)아이들   \n",
       "2   3  That That (prod. & feat. SUGA of BTS)           싸이 (PSY)   \n",
       "3   4                                 사랑인가 봐               멜로망스   \n",
       "4   5                               우리들의 블루스                임영웅   \n",
       "5   6                              사랑은 늘 도망가                임영웅   \n",
       "6   7                            Yet To Come              방탄소년단   \n",
       "7   8                   정이라고 하자 (Feat. 10CM)  BIG Naughty (서동현)   \n",
       "8   9                   봄여름가을겨울 (Still Life)       BIGBANG (빅뱅)   \n",
       "9  10                            다시 만날 수 있을까                임영웅   \n",
       "\n",
       "                        앨범명  \n",
       "0                 LOVE DIVE  \n",
       "1               I NEVER DIE  \n",
       "2                       싸다9  \n",
       "3  사랑인가 봐 (사내맞선 OST 스페셜 트랙)  \n",
       "4                   IM HERO  \n",
       "5        신사와 아가씨 OST Part.2  \n",
       "6                     Proof  \n",
       "7                   정이라고 하자  \n",
       "8      봄여름가을겨울 (Still Life)  \n",
       "9                   IM HERO  "
      ]
     },
     "execution_count": 103,
     "metadata": {},
     "output_type": "execute_result"
    }
   ],
   "source": [
    "import pandas as pd\n",
    "\n",
    "list_rank = []\n",
    "for i in range(1, 11, 1):\n",
    "    list_rank.append(i)\n",
    "\n",
    "list_song = []\n",
    "for i in range(0, 30, 3):\n",
    "    # print(\"곡이름 : \", soup.select(\"div#wrap > div.clfix > div.my_fold >\\\n",
    "    #         div#conts > div#tb_list > form >\\\n",
    "    #         div.service_list_song > table > tbody > tr > td >\\\n",
    "    #         div.wrap > div.wrap_song_info > div.ellipsis\")[i].text)\n",
    "    list_song.append(soup.select(\"div#wrap > div.clfix > div.my_fold >\\\n",
    "            div#conts > div#tb_list > form >\\\n",
    "            div.service_list_song > table > tbody > tr > td >\\\n",
    "            div.wrap > div.wrap_song_info > div.ellipsis\")[i].text.replace(\"\\n\",\"\"))\n",
    "list_song\n",
    "\n",
    "list_singer = []\n",
    "for i in range(0, 10, 1):\n",
    "    # print(\"가수명: \", soup.select(\"div#wrap > div.clfix > div.my_fold >\\\n",
    "    #         div#conts > div#tb_list > form >\\\n",
    "    #         div.service_list_song > table > tbody > tr > td >\\\n",
    "    #         div.wrap > div.wrap_song_info > div.ellipsis\")[i].text)\n",
    "    list_singer.append(soup.select(\"div#wrap > div.clfix > div.my_fold >\\\n",
    "            div#conts > div#tb_list > form >\\\n",
    "            div.service_list_song > table > tbody > tr > td >\\\n",
    "            div.wrap > div.wrap_song_info > div.ellipsis.rank02 > a\")[i].text)\n",
    "list_singer\n",
    "\n",
    "list_album = []\n",
    "for i in range(2, 30, 3):\n",
    "    # print(\"앨범명: \", soup.select(\"div#wrap > div.clfix > div.my_fold >\\\n",
    "    #         div#conts > div#tb_list > form >\\\n",
    "    #         div.service_list_song > table > tbody > tr > td >\\\n",
    "    #         div.wrap > div.wrap_song_info > div.ellipsis\")[i].text)\n",
    "    list_album.append(soup.select(\"div#wrap > div.clfix > div.my_fold >\\\n",
    "            div#conts > div#tb_list > form >\\\n",
    "            div.service_list_song > table > tbody > tr > td >\\\n",
    "            div.wrap > div.wrap_song_info > div.ellipsis\")[i].text.replace(\"\\n\",\"\"))\n",
    "list_album\n",
    "\n",
    "\n",
    "df = pd.DataFrame({\"순위\" : list_rank, \"곡이름\" : list_song, \"가수명\" : list_singer, \"앨범명\" : list_album})\n",
    "df"
   ]
  },
  {
   "cell_type": "code",
   "execution_count": null,
   "id": "3d85731f-1e31-494e-ba58-45188d4b961a",
   "metadata": {},
   "outputs": [],
   "source": []
  }
 ],
 "metadata": {
  "kernelspec": {
   "display_name": "Python 3 (ipykernel)",
   "language": "python",
   "name": "python3"
  },
  "language_info": {
   "codemirror_mode": {
    "name": "ipython",
    "version": 3
   },
   "file_extension": ".py",
   "mimetype": "text/x-python",
   "name": "python",
   "nbconvert_exporter": "python",
   "pygments_lexer": "ipython3",
   "version": "3.9.12"
  }
 },
 "nbformat": 4,
 "nbformat_minor": 5
}
