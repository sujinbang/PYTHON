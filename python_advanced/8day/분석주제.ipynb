{
 "cells": [
  {
   "cell_type": "code",
   "execution_count": 1,
   "id": "e5c961bd-9988-4afb-bf31-cbc3e0f1eda6",
   "metadata": {},
   "outputs": [
    {
     "data": {
      "text/plain": [
       "'\\n소주제 3 + 2\\n<시간대별 버스 이용량 분석\\n- 기준월 및 기준일자별 버스 이용량 분석 비교\\n- 기준일 및 시간대별 버스 이용량 분석 비교\\n- 기준시간 및 시간(분)별 버스 이용량 분석비교\\n\\n<버스 내 체류시간 분석>\\n- 기준일 및 시간대별 버스내 체류시간(분) 분석비교\\n- 시간 및 승객구분별 비도분석 비교\\n\\n<승하차 정류장별 버스내 체류시간 분석>\\n- 승하차 정류장별 체류시간(분) 상위 30건 분석 비교\\n\\n<소주제 2개 이상 추가 도출>\\n포항시 관련 추가 데이터 수집하여 분석 가능\\n'"
      ]
     },
     "execution_count": 1,
     "metadata": {},
     "output_type": "execute_result"
    }
   ],
   "source": [
    "\"\"\"\n",
    "소주제 3 + 2\n",
    "<시간대별 버스 이용량 분석>\n",
    "- 기준월 및 기준일자별 버스 이용량 분석 비교\n",
    "- 기준일 및 시간대별 버스 이용량 분석 비교\n",
    "- 기준시간 및 시간(분)별 버스 이용량 분석비교\n",
    "\n",
    "<버스 내 체류시간 분석>\n",
    "- 기준일 및 시간대별 버스내 체류시간(분) 분석비교\n",
    "- 시간 및 승객구분별 빈도분석 비교\n",
    "\n",
    "<승하차 정류장별 버스내 체류시간 분석>\n",
    "- 승하차 정류장별 체류시간(분) 상위 30건 분석 비교\n",
    "\n",
    "<소주제 2개 이상 추가 도출>\n",
    "포항시 관련 추가 데이터 수집하여 분석 가능\n",
    "\"\"\""
   ]
  },
  {
   "cell_type": "code",
   "execution_count": null,
   "id": "a4d5dad4-35bb-45bd-9b80-1f666fa976ae",
   "metadata": {},
   "outputs": [],
   "source": []
  }
 ],
 "metadata": {
  "kernelspec": {
   "display_name": "Python 3 (ipykernel)",
   "language": "python",
   "name": "python3"
  },
  "language_info": {
   "codemirror_mode": {
    "name": "ipython",
    "version": 3
   },
   "file_extension": ".py",
   "mimetype": "text/x-python",
   "name": "python",
   "nbconvert_exporter": "python",
   "pygments_lexer": "ipython3",
   "version": "3.9.12"
  }
 },
 "nbformat": 4,
 "nbformat_minor": 5
}
