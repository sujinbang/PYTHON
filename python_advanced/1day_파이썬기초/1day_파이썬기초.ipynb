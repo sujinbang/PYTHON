{
 "cells": [
  {
   "cell_type": "markdown",
   "id": "6fb6d78a",
   "metadata": {},
   "source": [
    "### 파이썬 기초"
   ]
  },
  {
   "cell_type": "code",
   "execution_count": null,
   "id": "ad257313",
   "metadata": {},
   "outputs": [],
   "source": [
    "'''\n",
    "[문제]\n",
    "dict_val이라는 딕셔너리 변수에\n",
    "아래 값을 넣기\n",
    "a키에는 리스트 \"aa\", \"bb\", \"cc\" 넣기\n",
    "b키에는 리스트 \"a\", \"b\", \"c\" 넣기\n",
    "\n",
    "dict_val에 들어있는 키값에 대한 리스트 출력하기\n",
    "'''"
   ]
  },
  {
   "cell_type": "code",
   "execution_count": 70,
   "id": "a19f5d9d",
   "metadata": {},
   "outputs": [],
   "source": [
    "dict_val = {'a':['aa','bb','cc'], 'b':['a','b','c']}"
   ]
  },
  {
   "cell_type": "code",
   "execution_count": 71,
   "id": "0c02a941",
   "metadata": {},
   "outputs": [
    {
     "name": "stdout",
     "output_type": "stream",
     "text": [
      "['aa', 'bb', 'cc']\n",
      "['a', 'b', 'c']\n"
     ]
    }
   ],
   "source": [
    "print(dict_val[\"a\"])\n",
    "print(dict_val[\"b\"])"
   ]
  },
  {
   "cell_type": "code",
   "execution_count": 72,
   "id": "635ec171",
   "metadata": {},
   "outputs": [
    {
     "name": "stdout",
     "output_type": "stream",
     "text": [
      "['aa', 'bb', 'cc']\n",
      "['a', 'b', 'c']\n"
     ]
    }
   ],
   "source": [
    "# 강사님 답\n",
    "for k in dict_val:\n",
    "    print(dict_val[k])   "
   ]
  },
  {
   "cell_type": "code",
   "execution_count": 76,
   "id": "3d5346c9",
   "metadata": {},
   "outputs": [
    {
     "name": "stdout",
     "output_type": "stream",
     "text": [
      "['aa', 'bb', 'cc']\n",
      "aa\n",
      "bb\n",
      "cc\n",
      "aa\n",
      "bb\n",
      "cc\n",
      "aa\n",
      "bb\n",
      "cc\n",
      "cc\n",
      "cc\n",
      "cc\n",
      "['a', 'b', 'c']\n",
      "a\n",
      "b\n",
      "c\n",
      "a\n",
      "b\n",
      "c\n",
      "a\n",
      "b\n",
      "c\n",
      "c\n",
      "c\n",
      "c\n"
     ]
    }
   ],
   "source": [
    "for k in dict_val:\n",
    "    # key값 가져오기\n",
    "    print(dict_val[k])\n",
    "    list_val = dict_val[k]\n",
    "    # 리스트의 값을 이용하는 방식\n",
    "    for val in dict_val[k]:\n",
    "        print(val)\n",
    "    #리스트의 인덱스번호를 이용하는 방식\n",
    "    for i in range(0, len(dict_val[k])):\n",
    "        print(dict_val[k][i])\n",
    "    \n",
    "    #list_val로 변수 선언 후 값을 이용한 방식\n",
    "    for val in list_val:\n",
    "        print(val)\n",
    "    #list_val로 변수 선언 후 인덱스번호를 이용한 방식    \n",
    "    for val in range(0,len(list_val)):\n",
    "        print(list_val[i])"
   ]
  },
  {
   "cell_type": "code",
   "execution_count": 77,
   "id": "f02f1931",
   "metadata": {},
   "outputs": [
    {
     "data": {
      "text/plain": [
       "'\\nlist_val 이라는 리스트 변수에 딕셔너리 값을 넣겠습니다\\n첫번째 리스트에는 a가, 값은 리스트 \"aa\",\"bb\",\"cc\" 넣기\\n두번째 리스트에는 b가, 값은 리스트 \"a\",\"b\",\"c\" 넣기\\n'"
      ]
     },
     "execution_count": 77,
     "metadata": {},
     "output_type": "execute_result"
    }
   ],
   "source": [
    "'''\n",
    "list_val 이라는 리스트 변수에 딕셔너리 값을 넣겠습니다\n",
    "첫번째 리스트에는 a가, 값은 리스트 \"aa\",\"bb\",\"cc\" 넣기\n",
    "두번째 리스트에는 b가, 값은 리스트 \"a\",\"b\",\"c\" 넣기\n",
    "'''"
   ]
  },
  {
   "cell_type": "code",
   "execution_count": 88,
   "id": "255b1d9e",
   "metadata": {},
   "outputs": [
    {
     "data": {
      "text/plain": [
       "[{'a': ['aa', 'bb', 'cc']}, {'b': ['a', 'b', 'c']}]"
      ]
     },
     "execution_count": 88,
     "metadata": {},
     "output_type": "execute_result"
    }
   ],
   "source": [
    "list_val = [{\"a\" : [\"aa\",\"bb\",\"cc\"]},\n",
    "            {\"b\" : [\"a\",\"b\",\"c\"]}]\n",
    "list_val"
   ]
  },
  {
   "cell_type": "code",
   "execution_count": 127,
   "id": "01525018",
   "metadata": {},
   "outputs": [
    {
     "data": {
      "text/plain": [
       "[{'a': ['aa', 'bb', 'cc']}, {'b': ['a', 'b', 'c']}]"
      ]
     },
     "execution_count": 127,
     "metadata": {},
     "output_type": "execute_result"
    }
   ],
   "source": [
    "dict1 = {\"a\" : [\"aa\",\"bb\",\"cc\"]}\n",
    "dict2 = {\"b\" : [\"a\",\"b\",\"c\"]}\n",
    "list_val2 = [dict1, dict2]\n",
    "list_val2"
   ]
  },
  {
   "cell_type": "code",
   "execution_count": 90,
   "id": "fb410c95",
   "metadata": {},
   "outputs": [],
   "source": [
    "#list_val에 들어있는 딕셔너리의 키에 대응하는 값들을 모두 출력해 주세요"
   ]
  },
  {
   "cell_type": "code",
   "execution_count": 125,
   "id": "eba640dd",
   "metadata": {},
   "outputs": [
    {
     "name": "stdout",
     "output_type": "stream",
     "text": [
      "{'a': ['aa', 'bb', 'cc']}\n",
      "['aa', 'bb', 'cc']\n",
      "aa\n",
      "bb\n",
      "cc\n",
      "{'b': ['a', 'b', 'c']}\n",
      "['a', 'b', 'c']\n",
      "a\n",
      "b\n",
      "c\n"
     ]
    }
   ],
   "source": [
    "for d in list_val:\n",
    "    print(d)\n",
    "    \n",
    "    for k in d:\n",
    "        print(d[k])\n",
    "        \n",
    "        for v in d[k]:\n",
    "            print(v)"
   ]
  },
  {
   "cell_type": "code",
   "execution_count": 126,
   "id": "dea6afe5",
   "metadata": {},
   "outputs": [],
   "source": [
    "#위에 list_val에 들어있는 딕셔너리의 키에 대응하는 값 중에\n",
    "# \"b\"라는 단어가 들어 있으면 해당 키에 대응하는 값을\n",
    "# list_temp라는 리스트변수에 담아주세요\n",
    "#list_temp에 값이 잘 담겨져 있는지 출력하기"
   ]
  },
  {
   "cell_type": "code",
   "execution_count": 169,
   "id": "90958f41",
   "metadata": {},
   "outputs": [
    {
     "name": "stdout",
     "output_type": "stream",
     "text": [
      "bb\n",
      "b\n"
     ]
    },
    {
     "data": {
      "text/plain": [
       "'b'"
      ]
     },
     "execution_count": 169,
     "metadata": {},
     "output_type": "execute_result"
    }
   ],
   "source": [
    "#수진 답\n",
    "for d in list_val:    \n",
    "    for k in d:       \n",
    "        for v in d[k]:\n",
    "            #print(v)\n",
    "            if 'b' in  v:\n",
    "                print(v)\n",
    "                list_temp = v\n",
    "list_temp"
   ]
  },
  {
   "cell_type": "code",
   "execution_count": 187,
   "id": "f72a131e",
   "metadata": {},
   "outputs": [
    {
     "name": "stdout",
     "output_type": "stream",
     "text": [
      "{'a': ['aa', 'bb', 'cc']}\n",
      "['aa', 'bb', 'cc']\n",
      "aa\n",
      "False\n",
      "bb\n",
      "True\n",
      "cc\n",
      "False\n",
      "{'b': ['a', 'b', 'c']}\n",
      "['a', 'b', 'c']\n",
      "a\n",
      "False\n",
      "b\n",
      "True\n",
      "c\n",
      "False\n",
      "['bb', 'b']\n"
     ]
    }
   ],
   "source": [
    "list_temp = []\n",
    "for d in list_val: \n",
    "    print(d)\n",
    "    for k in d:  \n",
    "        print(d[k])\n",
    "        for v in d[k]:\n",
    "            print(v)\n",
    "#             print('----------')\n",
    "#             print(v[0])\n",
    "#             print('----------')\n",
    "#             if v[0] == 'b':\n",
    "#                 list_temp.append(v)\n",
    "            print(v.find(\"b\") >= 0)  # find : 0번째에 b가 있는지 찾아라\n",
    "            if v.find(\"b\") >= 0 :\n",
    "                list_temp.append(v)\n",
    "                \n",
    "print(list_temp)"
   ]
  },
  {
   "cell_type": "code",
   "execution_count": 189,
   "id": "49c2b7e3",
   "metadata": {},
   "outputs": [
    {
     "data": {
      "text/plain": [
       "[{'a': ['aa', 'bb', 'cc']}, {'b': ['a', 'b', 'c']}]"
      ]
     },
     "execution_count": 189,
     "metadata": {},
     "output_type": "execute_result"
    }
   ],
   "source": [
    "list_val"
   ]
  },
  {
   "cell_type": "code",
   "execution_count": 191,
   "id": "1a320ef0",
   "metadata": {},
   "outputs": [
    {
     "data": {
      "text/plain": [
       "2"
      ]
     },
     "execution_count": 191,
     "metadata": {},
     "output_type": "execute_result"
    }
   ],
   "source": [
    "len(list_val)"
   ]
  },
  {
   "cell_type": "code",
   "execution_count": 195,
   "id": "8e450e9c",
   "metadata": {},
   "outputs": [],
   "source": [
    "#범위(인덱스)를 이용하여 출력\n",
    "for i in range(0, len(list_val), 1):\n",
    "    list_val[i]   # i : 인덱스 위치값"
   ]
  },
  {
   "cell_type": "code",
   "execution_count": 196,
   "id": "b1b20ea4",
   "metadata": {},
   "outputs": [],
   "source": [
    "#값을 이용하여 출력\n",
    "for v in list_val :\n",
    "    v"
   ]
  }
 ],
 "metadata": {
  "kernelspec": {
   "display_name": "Python 3 (ipykernel)",
   "language": "python",
   "name": "python3"
  },
  "language_info": {
   "codemirror_mode": {
    "name": "ipython",
    "version": 3
   },
   "file_extension": ".py",
   "mimetype": "text/x-python",
   "name": "python",
   "nbconvert_exporter": "python",
   "pygments_lexer": "ipython3",
   "version": "3.9.12"
  }
 },
 "nbformat": 4,
 "nbformat_minor": 5
}
