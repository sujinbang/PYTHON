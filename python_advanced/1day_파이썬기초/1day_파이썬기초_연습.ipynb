{
 "cells": [
  {
   "cell_type": "markdown",
   "id": "6fb6d78a",
   "metadata": {},
   "source": [
    "### 연습"
   ]
  },
  {
   "cell_type": "code",
   "execution_count": 28,
   "id": "193424a4",
   "metadata": {
    "scrolled": true
   },
   "outputs": [
    {
     "data": {
      "text/plain": [
       "[{'member': ['RM', '정국', '슈가', '진', '제이홉', '지민']},\n",
       " {'hitsong': ['Dynamite', 'Butter']}]"
      ]
     },
     "execution_count": 28,
     "metadata": {},
     "output_type": "execute_result"
    }
   ],
   "source": [
    "BTS = [{'member':['RM', '정국', '슈가', '진', '제이홉', '지민']},\n",
    "        {'hitsong':['Dynamite', 'Butter']}]\n",
    "BTS"
   ]
  },
  {
   "cell_type": "code",
   "execution_count": 37,
   "id": "5622e135",
   "metadata": {},
   "outputs": [
    {
     "name": "stdout",
     "output_type": "stream",
     "text": [
      "{'member': ['RM', '정국', '슈가', '진', '제이홉', '지민']}\n",
      "{'hitsong': ['Dynamite', 'Butter']}\n"
     ]
    }
   ],
   "source": [
    "# 리스트 인덱스 번호로 조회\n",
    "print(BTS[0])\n",
    "print(BTS[1])"
   ]
  },
  {
   "cell_type": "code",
   "execution_count": 29,
   "id": "415dd402",
   "metadata": {},
   "outputs": [
    {
     "data": {
      "text/plain": [
       "['RM', '정국', '슈가', '진', '제이홉', '지민']"
      ]
     },
     "execution_count": 29,
     "metadata": {},
     "output_type": "execute_result"
    }
   ],
   "source": [
    "# BTS의 'menber' key만 조회\n",
    "BTS[0]['member']"
   ]
  },
  {
   "cell_type": "code",
   "execution_count": 48,
   "id": "4c00c105",
   "metadata": {},
   "outputs": [
    {
     "name": "stdout",
     "output_type": "stream",
     "text": [
      "6\n",
      "RM\n",
      "정국\n",
      "슈가\n",
      "진\n",
      "제이홉\n",
      "지민\n"
     ]
    }
   ],
   "source": [
    "# BTS의 'menber' key의 value 전체 조회\n",
    "print(len(BTS[0]['member'])) # value 개수 확인\n",
    "print(BTS[0]['member'][0])\n",
    "print(BTS[0]['member'][1])\n",
    "print(BTS[0]['member'][2])\n",
    "print(BTS[0]['member'][3])\n",
    "print(BTS[0]['member'][4])\n",
    "print(BTS[0]['member'][5])"
   ]
  },
  {
   "cell_type": "code",
   "execution_count": 63,
   "id": "e8fb3ee5",
   "metadata": {
    "scrolled": true
   },
   "outputs": [
    {
     "name": "stdout",
     "output_type": "stream",
     "text": [
      "{'member': ['RM', '정국', '슈가', '진', '제이홉', '지민']}\n",
      "['RM', '정국', '슈가', '진', '제이홉', '지민']\n",
      "key값은: member\n",
      "RM\n",
      "정국\n",
      "슈가\n",
      "진\n",
      "제이홉\n",
      "지민\n",
      "{'hitsong': ['Dynamite', 'Butter']}\n",
      "['Dynamite', 'Butter']\n",
      "key값은: hitsong\n",
      "Dynamite\n",
      "Butter\n"
     ]
    }
   ],
   "source": [
    "# for문으로 한번에 조회\n",
    "for i in range(len(BTS)):   # list 인덱스로 조회\n",
    "    print(BTS[i])\n",
    "    for k in BTS[i]:       # list 값으로 조회\n",
    "        for k in BTS[i]:        # list 값으로 조회\n",
    "            print(BTS[i][k])\n",
    "            print('key값은:', k)\n",
    "            for v in range(len(BTS[i][k])):\n",
    "                print(BTS[i][k][v])"
   ]
  },
  {
   "cell_type": "code",
   "execution_count": 60,
   "id": "ae17a84b",
   "metadata": {},
   "outputs": [
    {
     "name": "stdout",
     "output_type": "stream",
     "text": [
      "{'member': ['RM', '정국', '슈가', '진', '제이홉', '지민']}\n",
      "['RM', '정국', '슈가', '진', '제이홉', '지민']\n",
      "{'hitsong': ['Dynamite', 'Butter']}\n",
      "['Dynamite', 'Butter']\n"
     ]
    }
   ],
   "source": [
    "for i in range(len(BTS)):   # list 인덱스로 조회\n",
    "    print(BTS[i])\n",
    "    for k in BTS[i]:        # list 값으로 조회\n",
    "        print(BTS[i][k])"
   ]
  }
 ],
 "metadata": {
  "kernelspec": {
   "display_name": "Python 3 (ipykernel)",
   "language": "python",
   "name": "python3"
  },
  "language_info": {
   "codemirror_mode": {
    "name": "ipython",
    "version": 3
   },
   "file_extension": ".py",
   "mimetype": "text/x-python",
   "name": "python",
   "nbconvert_exporter": "python",
   "pygments_lexer": "ipython3",
   "version": "3.9.12"
  },
  "vscode": {
   "interpreter": {
    "hash": "4db63879ce7bf261cfba0fa316fa11337bd1aea4ecf1306157fb8ab5c9f06d39"
   }
  }
 },
 "nbformat": 4,
 "nbformat_minor": 5
}
