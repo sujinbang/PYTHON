{
 "cells": [
  {
   "cell_type": "markdown",
   "id": "cc27816b-2b0d-4a74-976f-8436d3fc801f",
   "metadata": {},
   "source": [
    "- 파일 다운로드\n",
    "    - excel, csv, txt(read_excel, read_csv)\n",
    "    - json(read_json)\n",
    "    - open Api  : 프로그램과 프로그램이 서로 주고 받는 방식\n",
    "        - 인증키 필요\n",
    "        - 정의된 문서가 항상 존재\n",
    "        - 규칙을 가지고 진행\n",
    "        - 'xml', 'json'(html 태그 방식과 동일) 파일 포맷이 존재\n",
    "    - 웹크롤링\n",
    "        - 웹페이지에서 찾아서 긁어내는 방식\n",
    "        - 사진 지식 필요 : html 태그 규칙 , css 규칙\n",
    "        \n",
    "- 파일 저장\n",
    "    - to_excel, to_csv ...\n",
    "    - to_json\n",
    "    \n",
    "    "
   ]
  },
  {
   "cell_type": "markdown",
   "id": "3a9a3308-c74e-4160-80bc-a31efa970628",
   "metadata": {},
   "source": [
    "# 1. 형태별 데이터 사용방법"
   ]
  },
  {
   "cell_type": "code",
   "execution_count": 10,
   "id": "02ca8979-1ad2-43f3-b76d-811f8fdce5c1",
   "metadata": {},
   "outputs": [
    {
     "name": "stdout",
     "output_type": "stream",
     "text": [
      "420\n"
     ]
    },
    {
     "data": {
      "text/html": [
       "<div>\n",
       "<style scoped>\n",
       "    .dataframe tbody tr th:only-of-type {\n",
       "        vertical-align: middle;\n",
       "    }\n",
       "\n",
       "    .dataframe tbody tr th {\n",
       "        vertical-align: top;\n",
       "    }\n",
       "\n",
       "    .dataframe thead th {\n",
       "        text-align: right;\n",
       "    }\n",
       "</style>\n",
       "<table border=\"1\" class=\"dataframe\">\n",
       "  <thead>\n",
       "    <tr style=\"text-align: right;\">\n",
       "      <th></th>\n",
       "      <th>자전거번호</th>\n",
       "      <th>대여일시</th>\n",
       "      <th>대여소번호</th>\n",
       "      <th>대여소명</th>\n",
       "      <th>대여거치대</th>\n",
       "      <th>반납일시</th>\n",
       "      <th>반납대여소번호</th>\n",
       "      <th>반납대여소명</th>\n",
       "      <th>반납거치대</th>\n",
       "      <th>이용시간</th>\n",
       "      <th>이용거리</th>\n",
       "    </tr>\n",
       "  </thead>\n",
       "  <tbody>\n",
       "    <tr>\n",
       "      <th>0</th>\n",
       "      <td>SPB-23220</td>\n",
       "      <td>2019-11-01 8:48</td>\n",
       "      <td>646</td>\n",
       "      <td>장한평역 1번출구 (국민은행앞)</td>\n",
       "      <td>3.0</td>\n",
       "      <td>2019-11-01 9:01</td>\n",
       "      <td>3</td>\n",
       "      <td>중랑센터</td>\n",
       "      <td>7.0</td>\n",
       "      <td>12.0</td>\n",
       "      <td>1100.0</td>\n",
       "    </tr>\n",
       "    <tr>\n",
       "      <th>1</th>\n",
       "      <td>SPB-16216</td>\n",
       "      <td>2019-11-04 8:38</td>\n",
       "      <td>646</td>\n",
       "      <td>장한평역 1번출구 (국민은행앞)</td>\n",
       "      <td>2.0</td>\n",
       "      <td>2019-11-04 8:56</td>\n",
       "      <td>3</td>\n",
       "      <td>중랑센터</td>\n",
       "      <td>2.0</td>\n",
       "      <td>7.0</td>\n",
       "      <td>1420.0</td>\n",
       "    </tr>\n",
       "  </tbody>\n",
       "</table>\n",
       "</div>"
      ],
      "text/plain": [
       "       자전거번호             대여일시  대여소번호               대여소명  대여거치대  \\\n",
       "0  SPB-23220  2019-11-01 8:48    646  장한평역 1번출구 (국민은행앞)    3.0   \n",
       "1  SPB-16216  2019-11-04 8:38    646  장한평역 1번출구 (국민은행앞)    2.0   \n",
       "\n",
       "              반납일시  반납대여소번호 반납대여소명  반납거치대  이용시간    이용거리  \n",
       "0  2019-11-01 9:01        3   중랑센터    7.0  12.0  1100.0  \n",
       "1  2019-11-04 8:56        3   중랑센터    2.0   7.0  1420.0  "
      ]
     },
     "execution_count": 10,
     "metadata": {},
     "output_type": "execute_result"
    }
   ],
   "source": [
    "# bicycle.csv 파일을 읽어 들인 후 조회\n",
    "# 데이터 프레임 변수 df1\n",
    "import pandas as pd\n",
    "file_path = './data/bicycle.csv'\n",
    "df1 = pd.read_csv(file_path, encoding='euc-kr')\n",
    "print(len(df1))\n",
    "df1.head(2)"
   ]
  },
  {
   "cell_type": "code",
   "execution_count": 11,
   "id": "f95a1348-0d75-4624-b8f2-01a908e92191",
   "metadata": {},
   "outputs": [
    {
     "name": "stdout",
     "output_type": "stream",
     "text": [
      "420\n"
     ]
    },
    {
     "data": {
      "text/html": [
       "<div>\n",
       "<style scoped>\n",
       "    .dataframe tbody tr th:only-of-type {\n",
       "        vertical-align: middle;\n",
       "    }\n",
       "\n",
       "    .dataframe tbody tr th {\n",
       "        vertical-align: top;\n",
       "    }\n",
       "\n",
       "    .dataframe thead th {\n",
       "        text-align: right;\n",
       "    }\n",
       "</style>\n",
       "<table border=\"1\" class=\"dataframe\">\n",
       "  <thead>\n",
       "    <tr style=\"text-align: right;\">\n",
       "      <th></th>\n",
       "      <th>자전거번호</th>\n",
       "      <th>대여일시</th>\n",
       "      <th>대여소번호</th>\n",
       "      <th>대여소명</th>\n",
       "      <th>대여거치대</th>\n",
       "      <th>반납일시</th>\n",
       "      <th>반납대여소번호</th>\n",
       "      <th>반납대여소명</th>\n",
       "      <th>반납거치대</th>\n",
       "      <th>이용시간</th>\n",
       "      <th>이용거리</th>\n",
       "    </tr>\n",
       "  </thead>\n",
       "  <tbody>\n",
       "    <tr>\n",
       "      <th>0</th>\n",
       "      <td>SPB-23220</td>\n",
       "      <td>2019-11-01 08:48:31</td>\n",
       "      <td>646</td>\n",
       "      <td>장한평역 1번출구 (국민은행앞)</td>\n",
       "      <td>3.0</td>\n",
       "      <td>2019-11-01 09:01:24</td>\n",
       "      <td>3</td>\n",
       "      <td>중랑센터</td>\n",
       "      <td>7.0</td>\n",
       "      <td>12.0</td>\n",
       "      <td>1100.0</td>\n",
       "    </tr>\n",
       "    <tr>\n",
       "      <th>1</th>\n",
       "      <td>SPB-16216</td>\n",
       "      <td>2019-11-04 08:38:39</td>\n",
       "      <td>646</td>\n",
       "      <td>장한평역 1번출구 (국민은행앞)</td>\n",
       "      <td>2.0</td>\n",
       "      <td>2019-11-04 08:56:33</td>\n",
       "      <td>3</td>\n",
       "      <td>중랑센터</td>\n",
       "      <td>2.0</td>\n",
       "      <td>7.0</td>\n",
       "      <td>1420.0</td>\n",
       "    </tr>\n",
       "  </tbody>\n",
       "</table>\n",
       "</div>"
      ],
      "text/plain": [
       "       자전거번호                대여일시  대여소번호               대여소명  대여거치대  \\\n",
       "0  SPB-23220 2019-11-01 08:48:31    646  장한평역 1번출구 (국민은행앞)    3.0   \n",
       "1  SPB-16216 2019-11-04 08:38:39    646  장한평역 1번출구 (국민은행앞)    2.0   \n",
       "\n",
       "                 반납일시  반납대여소번호 반납대여소명  반납거치대  이용시간    이용거리  \n",
       "0 2019-11-01 09:01:24        3   중랑센터    7.0  12.0  1100.0  \n",
       "1 2019-11-04 08:56:33        3   중랑센터    2.0   7.0  1420.0  "
      ]
     },
     "execution_count": 11,
     "metadata": {},
     "output_type": "execute_result"
    }
   ],
   "source": [
    "# bicycle.xlsx 파일 읽어들인 후 조회\n",
    "# 변수명 df2\n",
    "file_path = './data/bicycle.xlsx'\n",
    "df2 = pd.read_excel(file_path)\n",
    "print(len(df2))\n",
    "df2.head(2)"
   ]
  },
  {
   "cell_type": "code",
   "execution_count": 13,
   "id": "31274a91-55d8-42b0-b6aa-dd5b8591bcf0",
   "metadata": {},
   "outputs": [
    {
     "data": {
      "text/html": [
       "<div>\n",
       "<style scoped>\n",
       "    .dataframe tbody tr th:only-of-type {\n",
       "        vertical-align: middle;\n",
       "    }\n",
       "\n",
       "    .dataframe tbody tr th {\n",
       "        vertical-align: top;\n",
       "    }\n",
       "\n",
       "    .dataframe thead th {\n",
       "        text-align: right;\n",
       "    }\n",
       "</style>\n",
       "<table border=\"1\" class=\"dataframe\">\n",
       "  <thead>\n",
       "    <tr style=\"text-align: right;\">\n",
       "      <th></th>\n",
       "      <th>1.FirstName</th>\n",
       "      <th>2.LastName</th>\n",
       "      <th>3.Age</th>\n",
       "      <th>4.University</th>\n",
       "      <th>5.Courses</th>\n",
       "    </tr>\n",
       "  </thead>\n",
       "  <tbody>\n",
       "    <tr>\n",
       "      <th>0</th>\n",
       "      <td>Gildong</td>\n",
       "      <td>Hong</td>\n",
       "      <td>20</td>\n",
       "      <td>Gachon University</td>\n",
       "      <td>{'Classes': ['Probability', 'Generalized Linea...</td>\n",
       "    </tr>\n",
       "    <tr>\n",
       "      <th>1</th>\n",
       "      <td>Gildong</td>\n",
       "      <td>Hong</td>\n",
       "      <td>20</td>\n",
       "      <td>Gachon University</td>\n",
       "      <td>{'Classes': ['Data Structure', 'Programming', ...</td>\n",
       "    </tr>\n",
       "  </tbody>\n",
       "</table>\n",
       "</div>"
      ],
      "text/plain": [
       "  1.FirstName 2.LastName  3.Age       4.University  \\\n",
       "0     Gildong       Hong     20  Gachon University   \n",
       "1     Gildong       Hong     20  Gachon University   \n",
       "\n",
       "                                           5.Courses  \n",
       "0  {'Classes': ['Probability', 'Generalized Linea...  \n",
       "1  {'Classes': ['Data Structure', 'Programming', ...  "
      ]
     },
     "execution_count": 13,
     "metadata": {},
     "output_type": "execute_result"
    }
   ],
   "source": [
    "# read_json 파일 읽어 들이기\n",
    "# 변수 df3\n",
    "file_path = './data/read.json'\n",
    "df3 = pd.read_json(file_path)\n",
    "df3"
   ]
  },
  {
   "cell_type": "code",
   "execution_count": 16,
   "id": "8b5dd6a4-d1cf-4f71-bba7-650a473803c8",
   "metadata": {},
   "outputs": [],
   "source": [
    "# df1 저장하기\n",
    "# 저장위치 : data2 폴더\n",
    "# 저장파일명 : sample_data.csv\n",
    "file_path = './data2/sample_data.csv'\n",
    "df1.to_csv(file_path)"
   ]
  },
  {
   "cell_type": "code",
   "execution_count": 18,
   "id": "f63f5519-deb2-423b-8cf3-786413724eb7",
   "metadata": {},
   "outputs": [],
   "source": [
    "# df2 저장하기\n",
    "# 저장위치 : data2 폴더\n",
    "# 저장파일명 : sample_data.xlsx\n",
    "file_path = './data2/sample_data.xlsx'\n",
    "df2.to_excel(file_path)"
   ]
  },
  {
   "cell_type": "code",
   "execution_count": 20,
   "id": "f9e1eb66-9db9-41fd-802f-60e9d8881dfc",
   "metadata": {},
   "outputs": [],
   "source": [
    "# json 저장하기\n",
    "# 저장위치 : data2 폴더\n",
    "# 저장파일명 : sample_data.json\n",
    "file_path = './data2/sample_data.json'\n",
    "df3.to_json(file_path)"
   ]
  },
  {
   "cell_type": "markdown",
   "id": "5b8d4841-98a7-4da0-a22a-a592dea377f8",
   "metadata": {},
   "source": [
    "### 데이터 수집 : OpenAPI 방식"
   ]
  },
  {
   "cell_type": "markdown",
   "id": "e93b607a-6631-4e72-8165-e2c2aabc3efa",
   "metadata": {},
   "source": [
    "- OpenAPI 정보\n",
    "    - 데이터 포맷 확인\n",
    "    - 제공 문서(참고문서) 확인\n",
    "    - 샘플 코드 복사 - 실행\n",
    "    - 인증키 신청"
   ]
  },
  {
   "cell_type": "code",
   "execution_count": 49,
   "id": "58794d92-917f-4aed-8518-3bf367d92b4e",
   "metadata": {},
   "outputs": [
    {
     "name": "stdout",
     "output_type": "stream",
     "text": [
      "b'<?xml version=\"1.0\" encoding=\"UTF-8\" standalone=\"yes\"?><response><header><resultCode>00</resultCode><resultMsg>NORMAL SERVICE.</resultMsg></header><body><items><item><addr>\\xec\\x84\\x9c\\xec\\x9a\\xb8\\xed\\x8a\\xb9\\xeb\\xb3\\x84\\xec\\x8b\\x9c \\xec\\xa4\\x91\\xeb\\x9e\\x91\\xea\\xb5\\xac \\xeb\\xb4\\x89\\xed\\x99\\x94\\xec\\x82\\xb0\\xeb\\xa1\\x9c 215 1\\xec\\xb8\\xb5 (\\xec\\x8b\\xa0\\xeb\\x82\\xb4\\xeb\\x8f\\x99)</addr><clCd>81</clCd><clCdNm>\\xec\\x95\\xbd\\xea\\xb5\\xad</clCdNm><distance>.5478450769582605437588497466708942455</distance><emdongNm>\\xec\\x8b\\xa0\\xeb\\x82\\xb4\\xeb\\x8f\\x99</emdongNm><estbDd>20001222</estbDd><postNo>02054</postNo><sgguCd>110019</sgguCd><sgguCdNm>\\xec\\xa4\\x91\\xeb\\x9e\\x91\\xea\\xb5\\xac</sgguCdNm><sidoCd>110000</sidoCd><sidoCdNm>\\xec\\x84\\x9c\\xec\\x9a\\xb8</sidoCdNm><telno>02-3422-3097</telno><XPos>127.0965492</XPos><YPos>37.6076585</YPos><yadmNm>\\xec\\x98\\xa8\\xeb\\x88\\x84\\xeb\\xa6\\xac\\xea\\xb1\\xb4\\xea\\xb0\\x95\\xec\\x95\\xbd\\xea\\xb5\\xad</yadmNm><ykiho>JDQ4MTg4MSM1MSMkMSMkNCMkMDMkMzgxOTYxIzExIyQxIyQ3IyQ4MiQyNjEyMjIjODEjJDEjJDYjJDgz</ykiho></item><item><addr>\\xec\\x84\\x9c\\xec\\x9a\\xb8\\xed\\x8a\\xb9\\xeb\\xb3\\x84\\xec\\x8b\\x9c \\xec\\xa4\\x91\\xeb\\x9e\\x91\\xea\\xb5\\xac \\xec\\x8b\\xa0\\xeb\\x82\\xb4\\xeb\\xa1\\x9c 211 212\\xed\\x98\\xb8 (\\xec\\x8b\\xa0\\xeb\\x82\\xb4\\xeb\\x8f\\x99, \\xea\\xb8\\x88\\xea\\xb0\\x95\\xeb\\xa6\\xac\\xeb\\xb9\\x99\\xec\\x8a\\xa4\\xed\\x85\\x94)</addr><clCd>81</clCd><clCdNm>\\xec\\x95\\xbd\\xea\\xb5\\xad</clCdNm><distance>1035.1855820788666820304486290002772234</distance><emdongNm>\\xec\\x8b\\xa0\\xeb\\x82\\xb4\\xeb\\x8f\\x99</emdongNm><estbDd>20140630</estbDd><postNo>02024</postNo><sgguCd>110019</sgguCd><sgguCdNm>\\xec\\xa4\\x91\\xeb\\x9e\\x91\\xea\\xb5\\xac</sgguCdNm><sidoCd>110000</sidoCd><sidoCdNm>\\xec\\x84\\x9c\\xec\\x9a\\xb8</sidoCdNm><telno>02-6743-4262</telno><XPos>127.0926492</XPos><YPos>37.6164445</YPos><yadmNm>\\xec\\x86\\xa1\\xec\\x9d\\xb4\\xec\\x98\\xa8\\xeb\\x88\\x84\\xeb\\xa6\\xac\\xec\\x95\\xbd\\xea\\xb5\\xad</yadmNm><ykiho>JDQ4MTg4MSM1MSMkMSMkNCMkMDMkMzgxOTYxIzIxIyQxIyQ5IyQ4OSQyNjE0ODEjNjEjJDEjJDQjJDgz</ykiho></item></items><numOfRows>10</numOfRows><pageNo>1</pageNo><totalCount>2</totalCount></body></response>'\n"
     ]
    }
   ],
   "source": [
    "# Python3 샘플 코드 #\n",
    "\n",
    "import requests\n",
    "\n",
    "url = 'http://apis.data.go.kr/B551182/pharmacyInfoService/getParmacyBasisList'\n",
    "params ={'serviceKey' : 'cT%2BYkjvIHbeOxm1pvHB%2B00ZWqRmWcBPdjMryZWdGMvWmU%2BqyhRGLJW8y55hv4PgZ%2B8hrkRfn1rcP5hxYUefTlA%3D%3D',\n",
    "         'pageNo' : '1', 'numOfRows' : '10', 'sidoCd' : '110000', 'sgguCd' : '110019', 'emdongNm' : '신내동', 'yadmNm' : '온누리건강',\n",
    "         'xPos' : '127.0965441345503', 'yPos' : '37.60765568913871', 'radius' : '3000' }\n",
    "\n",
    "url = \"http://apis.data.go.kr/B551182/pharmacyInfoService/getParmacyBasisList?pageNo=1&numOfRows=10&sidoCd=110000&sgguCd=110019&emdongNm=신내동&yadmNm=온누리&xPos=127.0965441345503&yPos=37.60765568913871&radius=3000&ServiceKey=cT%2BYkjvIHbeOxm1pvHB%2B00ZWqRmWcBPdjMryZWdGMvWmU%2BqyhRGLJW8y55hv4PgZ%2B8hrkRfn1rcP5hxYUefTlA%3D%3D\"\n",
    "\n",
    "#response = requests.get(url, params=params)\n",
    "response = requests.get(url)\n",
    "print(response.content)"
   ]
  },
  {
   "cell_type": "code",
   "execution_count": 50,
   "id": "93f5a56e-7d8f-4f29-ad1b-fb5d6a6fd10c",
   "metadata": {},
   "outputs": [
    {
     "name": "stdout",
     "output_type": "stream",
     "text": [
      "b'<?xml version=\"1.0\" encoding=\"UTF-8\" standalone=\"yes\"?><response><header><resultCode>00</resultCode><resultMsg>NORMAL SERVICE.</resultMsg></header><body><items><item><addr>\\xec\\x84\\x9c\\xec\\x9a\\xb8\\xed\\x8a\\xb9\\xeb\\xb3\\x84\\xec\\x8b\\x9c \\xec\\xa4\\x91\\xeb\\x9e\\x91\\xea\\xb5\\xac \\xeb\\xb4\\x89\\xed\\x99\\x94\\xec\\x82\\xb0\\xeb\\xa1\\x9c 215 1\\xec\\xb8\\xb5 (\\xec\\x8b\\xa0\\xeb\\x82\\xb4\\xeb\\x8f\\x99)</addr><clCd>81</clCd><clCdNm>\\xec\\x95\\xbd\\xea\\xb5\\xad</clCdNm><distance>.5478450769582605437588497466708942455</distance><emdongNm>\\xec\\x8b\\xa0\\xeb\\x82\\xb4\\xeb\\x8f\\x99</emdongNm><estbDd>20001222</estbDd><postNo>02054</postNo><sgguCd>110019</sgguCd><sgguCdNm>\\xec\\xa4\\x91\\xeb\\x9e\\x91\\xea\\xb5\\xac</sgguCdNm><sidoCd>110000</sidoCd><sidoCdNm>\\xec\\x84\\x9c\\xec\\x9a\\xb8</sidoCdNm><telno>02-3422-3097</telno><XPos>127.0965492</XPos><YPos>37.6076585</YPos><yadmNm>\\xec\\x98\\xa8\\xeb\\x88\\x84\\xeb\\xa6\\xac\\xea\\xb1\\xb4\\xea\\xb0\\x95\\xec\\x95\\xbd\\xea\\xb5\\xad</yadmNm><ykiho>JDQ4MTg4MSM1MSMkMSMkNCMkMDMkMzgxOTYxIzExIyQxIyQ3IyQ4MiQyNjEyMjIjODEjJDEjJDYjJDgz</ykiho></item><item><addr>\\xec\\x84\\x9c\\xec\\x9a\\xb8\\xed\\x8a\\xb9\\xeb\\xb3\\x84\\xec\\x8b\\x9c \\xec\\xa4\\x91\\xeb\\x9e\\x91\\xea\\xb5\\xac \\xec\\x8b\\xa0\\xeb\\x82\\xb4\\xeb\\xa1\\x9c 211 212\\xed\\x98\\xb8 (\\xec\\x8b\\xa0\\xeb\\x82\\xb4\\xeb\\x8f\\x99, \\xea\\xb8\\x88\\xea\\xb0\\x95\\xeb\\xa6\\xac\\xeb\\xb9\\x99\\xec\\x8a\\xa4\\xed\\x85\\x94)</addr><clCd>81</clCd><clCdNm>\\xec\\x95\\xbd\\xea\\xb5\\xad</clCdNm><distance>1035.1855820788666820304486290002772234</distance><emdongNm>\\xec\\x8b\\xa0\\xeb\\x82\\xb4\\xeb\\x8f\\x99</emdongNm><estbDd>20140630</estbDd><postNo>02024</postNo><sgguCd>110019</sgguCd><sgguCdNm>\\xec\\xa4\\x91\\xeb\\x9e\\x91\\xea\\xb5\\xac</sgguCdNm><sidoCd>110000</sidoCd><sidoCdNm>\\xec\\x84\\x9c\\xec\\x9a\\xb8</sidoCdNm><telno>02-6743-4262</telno><XPos>127.0926492</XPos><YPos>37.6164445</YPos><yadmNm>\\xec\\x86\\xa1\\xec\\x9d\\xb4\\xec\\x98\\xa8\\xeb\\x88\\x84\\xeb\\xa6\\xac\\xec\\x95\\xbd\\xea\\xb5\\xad</yadmNm><ykiho>JDQ4MTg4MSM1MSMkMSMkNCMkMDMkMzgxOTYxIzIxIyQxIyQ5IyQ4OSQyNjE0ODEjNjEjJDEjJDQjJDgz</ykiho></item></items><numOfRows>10</numOfRows><pageNo>1</pageNo><totalCount>2</totalCount></body></response>'\n"
     ]
    }
   ],
   "source": [
    "import requests\n",
    "\n",
    "\n",
    "apikey = \"cT%2BYkjvIHbeOxm1pvHB%2B00ZWqRmWcBPdjMryZWdGMvWmU%2BqyhRGLJW8y55hv4PgZ%2B8hrkRfn1rcP5hxYUefTlA%3D%3D\"\n",
    "\n",
    "pageNo = 1\n",
    "numOfRows = 10\n",
    "sidoCd = 110000\n",
    "sgguCd = 110019\n",
    "emdongNm = \"신내동\"\n",
    "yadmNm = \"온누리\"\n",
    "xPos = 127.0965441345503\n",
    "yPos = 37.60765568913871\n",
    "radius = 3000\n",
    "\n",
    "\n",
    "api = \"http://apis.data.go.kr/B551182/pharmacyInfoService/getParmacyBasisList?pageNo={no}&numOfRows={row}&sidoCd={sido}&sgguCd={sigu}&emdongNm={dong}&yadmNm={yanm}&xPos={x}&yPos={y}&radius={r}&ServiceKey={key}\"\n",
    "\n",
    "# f.\"{pageNo}{sidoCd}\"\n",
    "# \"{}{}\".format(pageNo,sidoCd)\n",
    "\n",
    "url = api.format(no=pageNo,\n",
    "                 row=numOfRows,\n",
    "                 sido=sidoCd,\n",
    "                 sigu=sgguCd,\n",
    "                 dong=emdongNm,\n",
    "                 yanm=yadmNm,\n",
    "                 x=xPos, y=yPos, r=radius,\n",
    "                 key=apikey)\n",
    "\n",
    "#response = requests.get(url, params=params)\n",
    "response = requests.get(url)\n",
    "print(response.content)"
   ]
  },
  {
   "cell_type": "code",
   "execution_count": 51,
   "id": "9d365425-386b-4660-bab9-7deea2025b45",
   "metadata": {},
   "outputs": [],
   "source": [
    "from bs4 import BeautifulSoup\n",
    "import requests"
   ]
  },
  {
   "cell_type": "code",
   "execution_count": 128,
   "id": "48a7005d-543d-4330-9175-bdbf7dbdaa49",
   "metadata": {},
   "outputs": [
    {
     "name": "stdout",
     "output_type": "stream",
     "text": [
      "addr_list =  2\n",
      "telno_list =  2\n",
      "약국주소[ 0 ] :  서울특별시 중랑구 봉화산로 215 1층 (신내동)\n",
      "전화번호[ 0 ] :  02-3422-3097\n",
      "약국주소[ 1 ] :  서울특별시 중랑구 신내로 211 212호 (신내동, 금강리빙스텔)\n",
      "전화번호[ 1 ] :  02-6743-4262\n"
     ]
    },
    {
     "name": "stderr",
     "output_type": "stream",
     "text": [
      "C:\\Users\\admin\\anaconda3\\lib\\site-packages\\bs4\\builder\\__init__.py:545: XMLParsedAsHTMLWarning: It looks like you're parsing an XML document using an HTML parser. If this really is an HTML document (maybe it's XHTML?), you can ignore or filter this warning. If it's XML, you should know that using an XML parser will be more reliable. To parse this document as XML, make sure you have the lxml package installed, and pass the keyword argument `features=\"xml\"` into the BeautifulSoup constructor.\n",
      "  warnings.warn(\n"
     ]
    }
   ],
   "source": [
    "re = response.text\n",
    "soup = BeautifulSoup(re, \"html.parser\")\n",
    "\n",
    "addr_list = soup.find_all(\"addr\")\n",
    "addr_list[0].text # 0번째에 해당하는 text만 가져오기\n",
    "\n",
    "telno_list = soup.find_all(\"telno\")\n",
    "\n",
    "\n",
    "print(\"addr_list = \", len(addr_list))\n",
    "print(\"telno_list = \", len(telno_list))\n",
    "\n",
    "\n",
    "\n",
    "for i in range(0, len(addr_list), 1):\n",
    "    print(\"약국주소[\", i,\"] : \", addr_list[i].text)\n",
    "    print(\"전화번호[\", i,\"] : \", telno_list[i].text)"
   ]
  },
  {
   "cell_type": "code",
   "execution_count": 109,
   "id": "cbad9128-938e-48c2-93df-9fbaba6c918b",
   "metadata": {},
   "outputs": [
    {
     "data": {
      "text/plain": [
       "<?xml version=\"1.0\" encoding=\"UTF-8\" standalone=\"yes\"?><response><header><resultcode>00</resultcode><resultmsg>NORMAL SERVICE.</resultmsg></header><body><items><item><addr>서울특별시 중랑구 봉화산로 215 1층 (신내동)</addr><clcd>81</clcd><clcdnm>약국</clcdnm><distance>.5478450769582605437588497466708942455</distance><emdongnm>신내동</emdongnm><estbdd>20001222</estbdd><postno>02054</postno><sggucd>110019</sggucd><sggucdnm>중랑구</sggucdnm><sidocd>110000</sidocd><sidocdnm>서울</sidocdnm><telno>02-3422-3097</telno><xpos>127.0965492</xpos><ypos>37.6076585</ypos><yadmnm>온누리건강약국</yadmnm><ykiho>JDQ4MTg4MSM1MSMkMSMkNCMkMDMkMzgxOTYxIzExIyQxIyQ3IyQ4MiQyNjEyMjIjODEjJDEjJDYjJDgz</ykiho></item><item><addr>서울특별시 중랑구 신내로 211 212호 (신내동, 금강리빙스텔)</addr><clcd>81</clcd><clcdnm>약국</clcdnm><distance>1035.1855820788666820304486290002772234</distance><emdongnm>신내동</emdongnm><estbdd>20140630</estbdd><postno>02024</postno><sggucd>110019</sggucd><sggucdnm>중랑구</sggucdnm><sidocd>110000</sidocd><sidocdnm>서울</sidocdnm><telno>02-6743-4262</telno><xpos>127.0926492</xpos><ypos>37.6164445</ypos><yadmnm>송이온누리약국</yadmnm><ykiho>JDQ4MTg4MSM1MSMkMSMkNCMkMDMkMzgxOTYxIzIxIyQxIyQ5IyQ4OSQyNjE0ODEjNjEjJDEjJDQjJDgz</ykiho></item></items><numofrows>10</numofrows><pageno>1</pageno><totalcount>2</totalcount></body></response>"
      ]
     },
     "execution_count": 109,
     "metadata": {},
     "output_type": "execute_result"
    }
   ],
   "source": [
    "soup"
   ]
  },
  {
   "cell_type": "code",
   "execution_count": 127,
   "id": "748d4520-6f87-4a77-8f09-46d630c26466",
   "metadata": {},
   "outputs": [
    {
     "name": "stdout",
     "output_type": "stream",
     "text": [
      "['온누리건강약국', '송이온누리약국']\n",
      "['서울', '서울']\n",
      "['서울특별시 중랑구 봉화산로 215 1층 (신내동)', '서울특별시 중랑구 신내로 211 212호 (신내동, 금강리빙스텔)']\n",
      "['02-3422-3097', '02-6743-4262']\n"
     ]
    },
    {
     "data": {
      "text/html": [
       "<div>\n",
       "<style scoped>\n",
       "    .dataframe tbody tr th:only-of-type {\n",
       "        vertical-align: middle;\n",
       "    }\n",
       "\n",
       "    .dataframe tbody tr th {\n",
       "        vertical-align: top;\n",
       "    }\n",
       "\n",
       "    .dataframe thead th {\n",
       "        text-align: right;\n",
       "    }\n",
       "</style>\n",
       "<table border=\"1\" class=\"dataframe\">\n",
       "  <thead>\n",
       "    <tr style=\"text-align: right;\">\n",
       "      <th></th>\n",
       "      <th>약국이름</th>\n",
       "      <th>시도명</th>\n",
       "      <th>주소</th>\n",
       "      <th>전화번호</th>\n",
       "    </tr>\n",
       "  </thead>\n",
       "  <tbody>\n",
       "    <tr>\n",
       "      <th>0</th>\n",
       "      <td>온누리건강약국</td>\n",
       "      <td>서울</td>\n",
       "      <td>서울특별시 중랑구 봉화산로 215 1층 (신내동)</td>\n",
       "      <td>02-3422-3097</td>\n",
       "    </tr>\n",
       "    <tr>\n",
       "      <th>1</th>\n",
       "      <td>송이온누리약국</td>\n",
       "      <td>서울</td>\n",
       "      <td>서울특별시 중랑구 신내로 211 212호 (신내동, 금강리빙스텔)</td>\n",
       "      <td>02-6743-4262</td>\n",
       "    </tr>\n",
       "  </tbody>\n",
       "</table>\n",
       "</div>"
      ],
      "text/plain": [
       "      약국이름 시도명                                    주소          전화번호\n",
       "0  온누리건강약국  서울           서울특별시 중랑구 봉화산로 215 1층 (신내동)  02-3422-3097\n",
       "1  송이온누리약국  서울  서울특별시 중랑구 신내로 211 212호 (신내동, 금강리빙스텔)  02-6743-4262"
      ]
     },
     "execution_count": 127,
     "metadata": {},
     "output_type": "execute_result"
    }
   ],
   "source": [
    "# DataFrame으로 저장하기 위한 선행작업...\n",
    "\n",
    "# 약국이름, 시도명, 주소, 전화번호에 대한 text값만 추출하여\n",
    "# 각각의 리스트에 담기... 변수명은 아래처럼...\n",
    "# yad_txt_list, sido_txt_list, addr_txt_list, telno_txt_list\n",
    "\n",
    "\n",
    "yad_list = soup.find_all(\"yadmnm\")\n",
    "\n",
    "sido_list = soup.find_all(\"sidocdnm\")\n",
    "\n",
    "addr_list = soup.find_all(\"addr\")\n",
    "\n",
    "telno_list = soup.find_all(\"telno\")\n",
    "\n",
    "yad_txt_list = []\n",
    "sido_txt_list = []\n",
    "addr_txt_list = []\n",
    "telno_txt_list = []\n",
    "\n",
    "for i in range(0, len(addr_list), 1):\n",
    "    yad_txt_list.append(yad_list[i].text)\n",
    "    sido_txt_list.append(sido_list[i].text)\n",
    "    addr_txt_list.append(addr_list[i].text)\n",
    "    telno_txt_list.append(telno_list[i].text)\n",
    "    \n",
    "print(yad_txt_list)\n",
    "print(sido_txt_list)\n",
    "print(addr_txt_list)\n",
    "print(telno_txt_list)\n",
    "\n",
    "df_temp = pd.DataFrame({'약국이름' : yad_txt_list,\n",
    "                       '시도명': sido_txt_list,\n",
    "                       '주소' : addr_txt_list,\n",
    "                       '전화번호' : telno_txt_list})\n",
    "df_temp"
   ]
  },
  {
   "cell_type": "code",
   "execution_count": 140,
   "id": "6337a7d4-534b-44d4-8356-6c94fa3bec60",
   "metadata": {},
   "outputs": [
    {
     "data": {
      "text/html": [
       "<div>\n",
       "<style scoped>\n",
       "    .dataframe tbody tr th:only-of-type {\n",
       "        vertical-align: middle;\n",
       "    }\n",
       "\n",
       "    .dataframe tbody tr th {\n",
       "        vertical-align: top;\n",
       "    }\n",
       "\n",
       "    .dataframe thead th {\n",
       "        text-align: right;\n",
       "    }\n",
       "</style>\n",
       "<table border=\"1\" class=\"dataframe\">\n",
       "  <thead>\n",
       "    <tr style=\"text-align: right;\">\n",
       "      <th></th>\n",
       "      <th>약국이름</th>\n",
       "      <th>시도명</th>\n",
       "      <th>주소</th>\n",
       "      <th>전화번호</th>\n",
       "    </tr>\n",
       "  </thead>\n",
       "  <tbody>\n",
       "    <tr>\n",
       "      <th>0</th>\n",
       "      <td>온누리건강약국</td>\n",
       "      <td>서울</td>\n",
       "      <td>서울특별시 중랑구 봉화산로 215 1층 (신내동)</td>\n",
       "      <td>02-3422-3097</td>\n",
       "    </tr>\n",
       "    <tr>\n",
       "      <th>1</th>\n",
       "      <td>송이온누리약국</td>\n",
       "      <td>서울</td>\n",
       "      <td>서울특별시 중랑구 신내로 211 212호 (신내동, 금강리빙스텔)</td>\n",
       "      <td>02-6743-4262</td>\n",
       "    </tr>\n",
       "  </tbody>\n",
       "</table>\n",
       "</div>"
      ],
      "text/plain": [
       "      약국이름 시도명                                    주소          전화번호\n",
       "0  온누리건강약국  서울           서울특별시 중랑구 봉화산로 215 1층 (신내동)  02-3422-3097\n",
       "1  송이온누리약국  서울  서울특별시 중랑구 신내로 211 212호 (신내동, 금강리빙스텔)  02-6743-4262"
      ]
     },
     "execution_count": 140,
     "metadata": {},
     "output_type": "execute_result"
    }
   ],
   "source": [
    "# 아래와 같이 각각의 값들을 2차원 리스트 형태로 저장해 주세요\n",
    "# 변수명 : list_all\n",
    "#[유심약국, 서울, 서울특별시 중랑구 봉화산로 217(산내동, 오상빌딩내), 02-3422-2755]\n",
    "\n",
    "yad_list = soup.find_all(\"yadmnm\")\n",
    "sido_list = soup.find_all(\"sidocdnm\")\n",
    "addr_list = soup.find_all(\"addr\")\n",
    "telno_list = soup.find_all(\"telno\")\n",
    "\n",
    "list_all = []\n",
    "\n",
    "for i in range(0, len(addr_list), 1):\n",
    "    list_all.append([yad_list[i].text, sido_list[i].text, addr_list[i].text, telno_list[i].text])\n",
    "    # yad_txt_list.append(yad_list[i].text)\n",
    "    # sido_txt_list.append(sido_list[i].text)\n",
    "    # addr_txt_list.append(addr_list[i].text)\n",
    "    # telno_txt_list.append(telno_list[i].text)\n",
    "list_all\n",
    "\n",
    "col_nm = [\"약국이름\", \"시도명\", \"주소\", \"전화번호\"]\n",
    "new_df = pd.DataFrame(list_all, columns=col_nm)\n",
    "new_df"
   ]
  },
  {
   "cell_type": "code",
   "execution_count": null,
   "id": "c90c4dce-e022-47f4-8b62-677059f8ed5c",
   "metadata": {},
   "outputs": [],
   "source": []
  }
 ],
 "metadata": {
  "kernelspec": {
   "display_name": "Python 3 (ipykernel)",
   "language": "python",
   "name": "python3"
  },
  "language_info": {
   "codemirror_mode": {
    "name": "ipython",
    "version": 3
   },
   "file_extension": ".py",
   "mimetype": "text/x-python",
   "name": "python",
   "nbconvert_exporter": "python",
   "pygments_lexer": "ipython3",
   "version": "3.9.12"
  }
 },
 "nbformat": 4,
 "nbformat_minor": 5
}
