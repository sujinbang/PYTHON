{
 "cells": [
  {
   "cell_type": "markdown",
   "id": "41c95864-8a36-48f0-84b0-df9e9fc2bf81",
   "metadata": {},
   "source": [
    "# 14.그룹화"
   ]
  },
  {
   "cell_type": "code",
   "execution_count": null,
   "id": "fe475b00-20ef-4c83-825b-ac4438789bf9",
   "metadata": {},
   "outputs": [],
   "source": []
  }
 ],
 "metadata": {
  "kernelspec": {
   "display_name": "Python 3 (ipykernel)",
   "language": "python",
   "name": "python3"
  },
  "language_info": {
   "codemirror_mode": {
    "name": "ipython",
    "version": 3
   },
   "file_extension": ".py",
   "mimetype": "text/x-python",
   "name": "python",
   "nbconvert_exporter": "python",
   "pygments_lexer": "ipython3",
   "version": "3.9.12"
  }
 },
 "nbformat": 4,
 "nbformat_minor": 5
}
