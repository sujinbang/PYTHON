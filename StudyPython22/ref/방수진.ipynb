{
 "cells": [
  {
   "cell_type": "markdown",
   "metadata": {},
   "source": [
    "### 1번문제\n",
    "\n",
    "반지름 값을 입력받아 원의 넓이를 구하여 출력하는 프로그램을 구현하세요. 파이는 3.141592 입니다."
   ]
  },
  {
   "cell_type": "code",
   "execution_count": 3,
   "metadata": {},
   "outputs": [
    {
     "name": "stdout",
     "output_type": "stream",
     "text": [
      "16.39911024\n"
     ]
    }
   ],
   "source": [
    "# 1번 문제\n",
    "x = float(input('원의 반지름을 입력하세요'))\n",
    "print(float(x)*3.141592)"
   ]
  },
  {
   "cell_type": "markdown",
   "metadata": {},
   "source": [
    "### 2번문제\n",
    "\n",
    "태양계는 수성, 금성, 지구, 화성, 목성, 토성, 천왕성, 혜왕성, 명왕성으로 구성됩니다. 영어이름은 Mercury, Venus, Earth, Mars, Jupiter,  Saturn, Uranus, Neptune 입니다.  행성의 한글이름을 입력하면 영어행성명이 출력되는 프로그램을 구현하세요."
   ]
  },
  {
   "cell_type": "code",
   "execution_count": 4,
   "metadata": {},
   "outputs": [
    {
     "data": {
      "text/plain": [
       "'Earth'"
      ]
     },
     "execution_count": 4,
     "metadata": {},
     "output_type": "execute_result"
    }
   ],
   "source": [
    "# 2번 문제\n",
    "Sun = {'수성':'Mercury', '금성':'Venus', '지구':'Earth', '화성':'Mars', '목성':'Jupiter', '토성':'Saturn', '천왕성':'Uranus', '해왕성':'Neptune'}\n",
    "name = input('찾을 행성의 이름을 적으세요')\n",
    "\n",
    "Sun[name]\n"
   ]
  },
  {
   "cell_type": "markdown",
   "metadata": {},
   "source": [
    "### 3번문제\n",
    "입력한 한글 문자열의 단어의 수를 출력하는 프로그램을 구현하세요. 예) 흐르는 강물을 거꾸로 거슬러 오르는 연어들의 = 6  "
   ]
  },
  {
   "cell_type": "code",
   "execution_count": 7,
   "metadata": {},
   "outputs": [
    {
     "name": "stdout",
     "output_type": "stream",
     "text": [
      "안녕하세요 저는 방수진 입니다 = 4\n"
     ]
    }
   ],
   "source": [
    "txt = input('한글 문자열을 입력하세요')\n",
    "\n",
    "txt.split(' ')\n",
    "result = len(txt.split())\n",
    "print(txt,'=',result)\n"
   ]
  },
  {
   "cell_type": "markdown",
   "metadata": {},
   "source": [
    "### 4번문제\n",
    "입력한 수를 거꾸로 출력하는 프로그램을 구현하세요. 예) 1 4 5 9 2 --> 2 9 5 4 1  (exam04.py)"
   ]
  },
  {
   "cell_type": "code",
   "execution_count": 8,
   "metadata": {},
   "outputs": [
    {
     "name": "stdout",
     "output_type": "stream",
     "text": [
      "5 4 3 2 1\n"
     ]
    }
   ],
   "source": [
    "num = input('숫자를 입력해주세요')\n",
    "\n",
    "num2 = num[::-1]\n",
    "print(num2)"
   ]
  },
  {
   "cell_type": "markdown",
   "metadata": {},
   "source": [
    "### 5번문제\n",
    "구구단을 수행할 단번호를 입력하면 그 단의 9까지의 결과를 나열하는 프로그램을 입력하세요. 예) 3 --> 3 6 9 12 15 18 21 24 27"
   ]
  },
  {
   "cell_type": "code",
   "execution_count": 9,
   "metadata": {},
   "outputs": [
    {
     "name": "stdout",
     "output_type": "stream",
     "text": [
      "55 --> 잘못입력하였습니다\n",
      "66 --> 잘못입력하였습니다\n",
      "1 --> 잘못입력하였습니다\n",
      "2 --> 2 4 6 8 10 12 14 16 18 "
     ]
    }
   ],
   "source": [
    "num = int(input('구구단을 수행할 단번호를 입력하세요(2~9단): '))\n",
    "print(num,'-->',end=' ')\n",
    "\n",
    "while (num < 2 or num > 9):\n",
    "    print('잘못입력하였습니다')\n",
    "    num = int(input('구구단을 수행할 단번호를 다시 입력하세요(2~9단):'))\n",
    "    print(num,'-->',end=' ')\n",
    "\n",
    "for i in range(1,10):\n",
    "    print(num*i, end=' ')\n"
   ]
  }
 ],
 "metadata": {
  "interpreter": {
   "hash": "38ae1ba9371524da054e8e3fbefd778d16b5a8ac7937a3f395010f627bb73919"
  },
  "kernelspec": {
   "display_name": "Python 3.9.12 64-bit",
   "language": "python",
   "name": "python3"
  },
  "language_info": {
   "codemirror_mode": {
    "name": "ipython",
    "version": 3
   },
   "file_extension": ".py",
   "mimetype": "text/x-python",
   "name": "python",
   "nbconvert_exporter": "python",
   "pygments_lexer": "ipython3",
   "version": "3.9.12"
  },
  "orig_nbformat": 4
 },
 "nbformat": 4,
 "nbformat_minor": 2
}
