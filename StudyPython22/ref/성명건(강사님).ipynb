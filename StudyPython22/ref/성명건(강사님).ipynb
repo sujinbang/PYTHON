{
 "cells": [
  {
   "cell_type": "markdown",
   "metadata": {},
   "source": [
    "### 1번문제"
   ]
  },
  {
   "cell_type": "code",
   "execution_count": 1,
   "metadata": {},
   "outputs": [
    {
     "name": "stdout",
     "output_type": "stream",
     "text": [
      "원의 넓이는 314.1592653589793 입니다\n"
     ]
    }
   ],
   "source": [
    "# 1번문제\n",
    "import math\n",
    "\n",
    "radius = input('반지름값을 입력하세요')\n",
    "radius = int(radius)\n",
    "\n",
    "print('원의 넓이는', (radius * radius * math.pi), '입니다')\n"
   ]
  },
  {
   "cell_type": "markdown",
   "metadata": {},
   "source": [
    "### 2번문제"
   ]
  },
  {
   "cell_type": "code",
   "execution_count": 3,
   "metadata": {},
   "outputs": [
    {
     "name": "stdout",
     "output_type": "stream",
     "text": [
      "행성 지구의 영어이름 : Earth\n"
     ]
    }
   ],
   "source": [
    "# 2번문제\n",
    "solar_system = { \n",
    "    '수성': 'Mercury', \n",
    "    '금성': 'Venus', \n",
    "    '지구': 'Earth', \n",
    "    '화성': 'Mars',\n",
    "    '목성': 'Jupiter',\n",
    "    '토성': 'Saturn',\n",
    "    '천왕성': 'Uranus',\n",
    "    '혜왕성': 'Neptune ',\n",
    "    }\n",
    "name = input('한글 행성 이름을 입력하세요.')\n",
    "\n",
    "print(f'행성 {name}의 영어이름 :', solar_system[name])"
   ]
  },
  {
   "cell_type": "markdown",
   "metadata": {},
   "source": [
    "### 3번 문제"
   ]
  },
  {
   "cell_type": "code",
   "execution_count": 5,
   "metadata": {},
   "outputs": [
    {
     "name": "stdout",
     "output_type": "stream",
     "text": [
      "입력한 단어 수 4 개\n"
     ]
    }
   ],
   "source": [
    "input_str = input('문장입력 > ')\n",
    "\n",
    "str_len = len(input_str.split(' '))\n",
    "print('입력한 단어 수', str_len, '개')"
   ]
  },
  {
   "cell_type": "markdown",
   "metadata": {},
   "source": [
    "### 4번 문제"
   ]
  },
  {
   "cell_type": "code",
   "execution_count": 11,
   "metadata": {},
   "outputs": [
    {
     "name": "stdout",
     "output_type": "stream",
     "text": [
      "6 2 23 11 9 7 5 3 1 "
     ]
    }
   ],
   "source": [
    "input_strs = input('수를 입력하세요 > ').split(' ')\n",
    "\n",
    "for i in reversed(input_strs):\n",
    "    print(i, end=' ')"
   ]
  },
  {
   "cell_type": "markdown",
   "metadata": {},
   "source": [
    "### 5번문제"
   ]
  },
  {
   "cell_type": "code",
   "execution_count": 12,
   "metadata": {},
   "outputs": [
    {
     "name": "stdout",
     "output_type": "stream",
     "text": [
      "3 6 9 12 15 18 21 24 27 "
     ]
    }
   ],
   "source": [
    "input_str = input('단번호 입력 :')\n",
    "num = int(input_str)\n",
    "\n",
    "for y in range(1, 10):\n",
    "    print(num*y, end=' ')"
   ]
  }
 ],
 "metadata": {
  "interpreter": {
   "hash": "38ae1ba9371524da054e8e3fbefd778d16b5a8ac7937a3f395010f627bb73919"
  },
  "kernelspec": {
   "display_name": "Python 3.9.12 64-bit",
   "language": "python",
   "name": "python3"
  },
  "language_info": {
   "codemirror_mode": {
    "name": "ipython",
    "version": 3
   },
   "file_extension": ".py",
   "mimetype": "text/x-python",
   "name": "python",
   "nbconvert_exporter": "python",
   "pygments_lexer": "ipython3",
   "version": "3.9.12"
  },
  "orig_nbformat": 4
 },
 "nbformat": 4,
 "nbformat_minor": 2
}
