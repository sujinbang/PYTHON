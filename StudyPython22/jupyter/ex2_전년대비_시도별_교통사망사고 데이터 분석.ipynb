{
 "cells": [
  {
   "cell_type": "markdown",
   "id": "b25b85dc",
   "metadata": {},
   "source": [
    "# [문제1] 위 파일을 읽어보고 상위 3개의 (발생년도, 발생건수, 구성비)의 데이터를 추출해 봅시다."
   ]
  },
  {
   "cell_type": "code",
   "execution_count": 3,
   "id": "60f1b4b9",
   "metadata": {},
   "outputs": [],
   "source": [
    "import numpy as np"
   ]
  },
  {
   "cell_type": "code",
   "execution_count": 57,
   "id": "8cb79a93",
   "metadata": {},
   "outputs": [
    {
     "name": "stdout",
     "output_type": "stream",
     "text": [
      "[[2014.   218.     4.8]\n",
      " [2014.   872.    19. ]\n",
      " [2014.   401.     8.7]]\n"
     ]
    }
   ],
   "source": [
    "data = np.loadtxt('./data/ex2_전년대비_시도별_교통사망사고.csv',delimiter=',',dtype = float)\n",
    "print(data[ :3, [ 0, 2, 3 ]]) # 필요한 열의 값을 인덱싱으로 추출"
   ]
  },
  {
   "cell_type": "markdown",
   "id": "049f4394",
   "metadata": {},
   "source": [
    "# [문제2] 위 데이터에서 부산에서 발생한 교통사망사고 모든 현황을 추출해 봅시다."
   ]
  },
  {
   "cell_type": "code",
   "execution_count": 59,
   "id": "34d30f4e",
   "metadata": {},
   "outputs": [
    {
     "name": "stdout",
     "output_type": "stream",
     "text": [
      "[[2014.     8.   163.     3.6  -47.   -22.4]]\n"
     ]
    }
   ],
   "source": [
    "print(data[data[:,1]==8,    ])"
   ]
  },
  {
   "cell_type": "markdown",
   "id": "a844e577",
   "metadata": {},
   "source": [
    "# [문제3] 위 데이터에서 전국 사고 발생건수의 합계와 전국 평균을 계산해 봅시다."
   ]
  },
  {
   "cell_type": "code",
   "execution_count": 60,
   "id": "48e9ed18",
   "metadata": {},
   "outputs": [
    {
     "name": "stdout",
     "output_type": "stream",
     "text": [
      "전국 사고 발생건수 합계:  4583.0\n",
      "전국 사고 발생건수 평균 :  269.59\n"
     ]
    }
   ],
   "source": [
    "print('전국 사고 발생건수 합계: ', data[:,2].sum())\n",
    "print('전국 사고 발생건수 평균 : ', round(data[:,2].mean(),2))"
   ]
  },
  {
   "cell_type": "markdown",
   "id": "8f06c471",
   "metadata": {},
   "source": [
    "# [문제4] 위 데이터에서 교통사고 증감수가 가장 큰 지역의 모든 현황을 추출해 봅시다."
   ]
  },
  {
   "cell_type": "code",
   "execution_count": 66,
   "id": "d125da56",
   "metadata": {},
   "outputs": [
    {
     "name": "stdout",
     "output_type": "stream",
     "text": [
      "[2014.     6.   182.     4.    19.    11.7]\n",
      "[[2014.     6.   182.     4.    19.    11.7]]\n"
     ]
    }
   ],
   "source": [
    "#argmax\n",
    "print(data[data[:,4].argmax(),:])\n",
    "\n",
    "#max\n",
    "print(data[data[:,4] == max(data[:,4])])"
   ]
  },
  {
   "cell_type": "markdown",
   "id": "355026c1",
   "metadata": {},
   "source": [
    "# [문제5] 위 데이터에서 교통사고 증감률이 가장 작은 지역의 모든 현황을 추출해 봅시다."
   ]
  },
  {
   "cell_type": "code",
   "execution_count": 74,
   "id": "4fcadd4b",
   "metadata": {},
   "outputs": [
    {
     "name": "stdout",
     "output_type": "stream",
     "text": [
      "[2014.     8.   163.     3.6  -47.   -22.4]\n",
      "[[2014.     8.   163.     3.6  -47.   -22.4]]\n"
     ]
    }
   ],
   "source": [
    "#argmin\n",
    "print(data[data[:,5].argmin(),:])\n",
    "\n",
    "#min\n",
    "print(data[data[:,5] == min( data[ :,5] )])"
   ]
  },
  {
   "cell_type": "markdown",
   "id": "ef1c6516",
   "metadata": {},
   "source": [
    "# [문제6] 위 데이터에서 사고 발생 건수가 400건 이상인 곳의 지역과 교통사고 발생건수, 증감수, 증감률을 추출해 봅시다."
   ]
  },
  {
   "cell_type": "code",
   "execution_count": 79,
   "id": "b9cfaa1f",
   "metadata": {},
   "outputs": [
    {
     "name": "stdout",
     "output_type": "stream",
     "text": [
      "[False  True  True  True False False False False False False False False\n",
      "  True False False False False]\n",
      "[[872.  -45.   -4.9]\n",
      " [401.  -45.  -10.1]\n",
      " [464.  -41.   -8.1]\n",
      " [400.  -35.   -8. ]]\n",
      "[[872.  -45.   -4.9]\n",
      " [401.  -45.  -10.1]\n",
      " [464.  -41.   -8.1]\n",
      " [400.  -35.   -8. ]]\n"
     ]
    }
   ],
   "source": [
    "print(data[:,2]>=400)\n",
    "\n",
    "#print(data[data[:,2]>=400 , 2:6]) #슬라이싱은 가능\n",
    "\n",
    "print(data[data[:,2]>=400 , ][:,[2,4,5]])  # 별도 인덱싱 처리\n",
    "\n",
    "\n",
    "data2 = data[data[:,2]>=400 , ] # 변수로 처리\n",
    "print(data2[:,[2,4,5]])"
   ]
  },
  {
   "cell_type": "code",
   "execution_count": null,
   "id": "f1fd76b2",
   "metadata": {},
   "outputs": [],
   "source": []
  }
 ],
 "metadata": {
  "kernelspec": {
   "display_name": "Python 3 (ipykernel)",
   "language": "python",
   "name": "python3"
  },
  "language_info": {
   "codemirror_mode": {
    "name": "ipython",
    "version": 3
   },
   "file_extension": ".py",
   "mimetype": "text/x-python",
   "name": "python",
   "nbconvert_exporter": "python",
   "pygments_lexer": "ipython3",
   "version": "3.9.12"
  }
 },
 "nbformat": 4,
 "nbformat_minor": 5
}
